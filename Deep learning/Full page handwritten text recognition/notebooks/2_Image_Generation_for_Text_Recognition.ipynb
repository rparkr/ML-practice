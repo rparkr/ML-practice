{
  "cells": [
    {
      "cell_type": "markdown",
      "metadata": {
        "id": "uzKmfufljAeg"
      },
      "source": [
        "# Image generation for text recognition\n",
        "Author: [Ryan Parker](https://github.com/rparkr)\n",
        "\n",
        "Updated on: 31-Mar-2022\n",
        "\n",
        "## Purpose\n",
        "Create full-page images of text to use as training data for a full-page handwriting recognition model.\n",
        "\n",
        "I use `trdg` (TextRecognitionDataGenerator) to create lines of text that resemble the text in my handwritten journals.\n",
        "\n",
        "## Resources\n",
        "* [`TextRecognitionDataGenerator` GitHub repo](https://github.com/Belval/TextRecognitionDataGenerator)\n",
        "* [`trdg` docs](https://textrecognitiondatagenerator.readthedocs.io/en/latest/module.html)\n",
        "* [`trdg` on PyPI](https://pypi.org/project/trdg/)\n",
        "\n"
      ]
    },
    {
      "cell_type": "markdown",
      "metadata": {
        "id": "FHFbW51LmoKR"
      },
      "source": [
        "## `trdg` install and setup"
      ]
    },
    {
      "cell_type": "code",
      "execution_count": 3,
      "metadata": {
        "colab": {
          "base_uri": "https://localhost:8080/",
          "height": 1000
        },
        "id": "ezxFEbJ_moEV",
        "outputId": "90cb2037-9574-4902-d3a5-c3af2e072241"
      },
      "outputs": [
        {
          "name": "stdout",
          "output_type": "stream",
          "text": [
            "Collecting trdg\n",
            "  Using cached trdg-1.7.0-py3-none-any.whl (91.2 MB)\n",
            "Collecting beautifulsoup4>=4.6.0\n",
            "  Using cached beautifulsoup4-4.10.0-py3-none-any.whl (97 kB)\n",
            "Collecting diffimg==0.2.3\n",
            "  Using cached diffimg-0.2.3.tar.gz (4.1 kB)\n",
            "Collecting opencv-python>=4.2.0.32\n",
            "  Using cached opencv_python-4.5.5.64-cp36-abi3-win_amd64.whl (35.4 MB)\n",
            "Collecting pillow>=7.0.0\n",
            "  Downloading Pillow-9.0.1-cp37-cp37m-win_amd64.whl (3.2 MB)\n",
            "Collecting tqdm>=4.23.0\n",
            "  Using cached tqdm-4.63.1-py2.py3-none-any.whl (76 kB)\n",
            "Collecting numpy<1.17,>=1.16.4\n",
            "  Downloading numpy-1.16.6-cp37-cp37m-win_amd64.whl (11.9 MB)\n",
            "Collecting requests>=2.20.0\n",
            "  Using cached requests-2.27.1-py2.py3-none-any.whl (63 kB)\n",
            "Collecting soupsieve>1.2\n",
            "  Using cached soupsieve-2.3.1-py3-none-any.whl (37 kB)\n",
            "Collecting urllib3<1.27,>=1.21.1\n",
            "  Using cached urllib3-1.26.9-py2.py3-none-any.whl (138 kB)\n",
            "Requirement already satisfied: certifi>=2017.4.17 in c:\\users\\ryan\\.conda\\envs\\trdg\\lib\\site-packages (from requests>=2.20.0->trdg) (2021.10.8)\n",
            "Collecting charset-normalizer~=2.0.0\n",
            "  Using cached charset_normalizer-2.0.12-py3-none-any.whl (39 kB)\n",
            "Collecting idna<4,>=2.5\n",
            "  Using cached idna-3.3-py3-none-any.whl (61 kB)\n",
            "Requirement already satisfied: colorama in c:\\users\\ryan\\.conda\\envs\\trdg\\lib\\site-packages (from tqdm>=4.23.0->trdg) (0.4.4)\n",
            "Building wheels for collected packages: diffimg\n",
            "  Building wheel for diffimg (setup.py): started\n",
            "  Building wheel for diffimg (setup.py): finished with status 'done'\n",
            "  Created wheel for diffimg: filename=diffimg-0.2.3-py3-none-any.whl size=4049 sha256=2462f5c84ad48c0f24ff4cac7977422fc6ab64dd6e3e518ac3f5a20a88572051\n",
            "  Stored in directory: c:\\users\\ryan\\appdata\\local\\pip\\cache\\wheels\\6c\\5d\\60\\bde2a959be56bca572bd67d49ebd52844d2ef933e85601dfa9\n",
            "Successfully built diffimg\n",
            "Installing collected packages: urllib3, soupsieve, pillow, numpy, idna, charset-normalizer, tqdm, requests, opencv-python, diffimg, beautifulsoup4, trdg\n",
            "Successfully installed beautifulsoup4-4.10.0 charset-normalizer-2.0.12 diffimg-0.2.3 idna-3.3 numpy-1.16.6 opencv-python-4.5.5.64 pillow-9.0.1 requests-2.27.1 soupsieve-2.3.1 tqdm-4.63.1 trdg-1.7.0 urllib3-1.26.9\n"
          ]
        }
      ],
      "source": [
        "# See: https://jakevdp.github.io/blog/2017/12/05/installing-python-packages-from-jupyter/#How-to-use-Pip-from-the-Jupyter-Notebook\n",
        "# and: https://github.com/microsoft/vscode-jupyter/wiki/Installing-Python-packages-in-Jupyter-Notebooks\n",
        "# Install a pip package in the current Jupyter kernel\n",
        "import sys\n",
        "!{sys.executable} -m pip install trdg\n",
        "\n",
        "# Alternative method, using the %pip magic command\n",
        "# %pip install trdg"
      ]
    },
    {
      "cell_type": "code",
      "execution_count": 4,
      "metadata": {},
      "outputs": [
        {
          "name": "stdout",
          "output_type": "stream",
          "text": [
            "Requirement already satisfied: requests in c:\\users\\ryan\\.conda\\envs\\trdg\\lib\\site-packages (2.27.1)\n",
            "Requirement already satisfied: certifi>=2017.4.17 in c:\\users\\ryan\\.conda\\envs\\trdg\\lib\\site-packages (from requests) (2021.10.8)\n",
            "Requirement already satisfied: urllib3<1.27,>=1.21.1 in c:\\users\\ryan\\.conda\\envs\\trdg\\lib\\site-packages (from requests) (1.26.9)\n",
            "Requirement already satisfied: charset-normalizer~=2.0.0 in c:\\users\\ryan\\.conda\\envs\\trdg\\lib\\site-packages (from requests) (2.0.12)\n",
            "Requirement already satisfied: idna<4,>=2.5 in c:\\users\\ryan\\.conda\\envs\\trdg\\lib\\site-packages (from requests) (3.3)\n",
            "Note: you may need to restart the kernel to use updated packages.\n",
            "Requirement already satisfied: tqdm in c:\\users\\ryan\\.conda\\envs\\trdg\\lib\\site-packages (4.63.1)\n",
            "Requirement already satisfied: colorama in c:\\users\\ryan\\.conda\\envs\\trdg\\lib\\site-packages (from tqdm) (0.4.4)\n",
            "Note: you may need to restart the kernel to use updated packages.\n"
          ]
        }
      ],
      "source": [
        "%pip install requests\n",
        "%pip install tqdm"
      ]
    },
    {
      "cell_type": "code",
      "execution_count": 1,
      "metadata": {
        "id": "795ZJC4DmvjY"
      },
      "outputs": [
        {
          "name": "stdout",
          "output_type": "stream",
          "text": [
            "Missing modules for handwritten text generation.\n"
          ]
        }
      ],
      "source": [
        "import requests                     # fetch web content\n",
        "from PIL import Image, ImageDraw    # manipulate images\n",
        "import os                           # work with files\n",
        "import numpy as np                  # array computations\n",
        "import random                       # sample from distributions\n",
        "from tqdm.notebook import tqdm      # progress bars\n",
        "\n",
        "# generate images of text\n",
        "from trdg.generators import (\n",
        "    GeneratorFromDict,\n",
        "    GeneratorFromRandom,\n",
        "    GeneratorFromStrings,\n",
        "    GeneratorFromWikipedia,\n",
        ")"
      ]
    },
    {
      "cell_type": "code",
      "execution_count": 2,
      "metadata": {
        "colab": {
          "base_uri": "https://localhost:8080/"
        },
        "id": "KVUgZAUutblA",
        "outputId": "165f3566-5fff-4b1a-a6ba-e64bd374b18f"
      },
      "outputs": [
        {
          "name": "stdout",
          "output_type": "stream",
          "text": [
            "Help on class GeneratorFromDict in module trdg.generators.from_dict:\n",
            "\n",
            "class GeneratorFromDict(builtins.object)\n",
            " |  GeneratorFromDict(count=-1, length=1, allow_variable=False, fonts=[], language='en', size=32, skewing_angle=0, random_skew=False, blur=0, random_blur=False, background_type=0, distorsion_type=0, distorsion_orientation=0, is_handwritten=False, width=-1, alignment=1, text_color='#282828', orientation=0, space_width=1.0, character_spacing=0, margins=(5, 5, 5, 5), fit=False, output_mask=False, word_split=False, image_dir='C:\\\\Users\\\\Ryan\\\\.conda\\\\envs\\\\trdg\\\\lib\\\\site-packages\\\\trdg\\\\generators\\\\images', stroke_width=0, stroke_fill='#282828', image_mode='RGB')\n",
            " |  \n",
            " |  Generator that uses words taken from pre-packaged dictionaries\n",
            " |  \n",
            " |  Methods defined here:\n",
            " |  \n",
            " |  __init__(self, count=-1, length=1, allow_variable=False, fonts=[], language='en', size=32, skewing_angle=0, random_skew=False, blur=0, random_blur=False, background_type=0, distorsion_type=0, distorsion_orientation=0, is_handwritten=False, width=-1, alignment=1, text_color='#282828', orientation=0, space_width=1.0, character_spacing=0, margins=(5, 5, 5, 5), fit=False, output_mask=False, word_split=False, image_dir='C:\\\\Users\\\\Ryan\\\\.conda\\\\envs\\\\trdg\\\\lib\\\\site-packages\\\\trdg\\\\generators\\\\images', stroke_width=0, stroke_fill='#282828', image_mode='RGB')\n",
            " |      Initialize self.  See help(type(self)) for accurate signature.\n",
            " |  \n",
            " |  __iter__(self)\n",
            " |  \n",
            " |  __next__(self)\n",
            " |  \n",
            " |  next(self)\n",
            " |  \n",
            " |  ----------------------------------------------------------------------\n",
            " |  Data descriptors defined here:\n",
            " |  \n",
            " |  __dict__\n",
            " |      dictionary for instance variables (if defined)\n",
            " |  \n",
            " |  __weakref__\n",
            " |      list of weak references to the object (if defined)\n",
            "\n"
          ]
        }
      ],
      "source": [
        "help(GeneratorFromDict)"
      ]
    },
    {
      "cell_type": "markdown",
      "metadata": {
        "id": "eg6zz5Lwjeep"
      },
      "source": [
        "## Fonts\n",
        "I searched [Google Fonts](https://fonts.google.com) for handwriting-style fonts that looked similar to my handwriting. I found six fonts which I will use to generate training data:\n",
        "* [Reenie Beanie](https://fonts.google.com/specimen/Reenie+Beanie), by James Grieshaber\n",
        "* [Nanum Brush Script](https://fonts.google.com/specimen/Nanum+Brush+Script), by Sandoll\n",
        "* [Waiting for the Sunrise](https://fonts.google.com/specimen/Waiting+for+the+Sunrise), by Kimberly Geswein\n",
        "* [Shadows Into Light](https://fonts.google.com/specimen/Shadows+Into+Light), by Kimberly Geswein\n",
        "* [Architects Daughter](https://fonts.google.com/specimen/Architects+Daughter), by Kimberly Geswein\n",
        "* [Swanky and Moo Moo](https://fonts.google.com/specimen/Swanky+and+Moo+Moo#standard-styles), by Kimberly Geswein\n",
        "\n",
        "Each font's `.tff` file can be downloaded from the Google Font links above, or from http://bootes.ethz.ch/fonts/, which was linked to from the [Google Fonts GitHub repo](https://github.com/google/fonts).\n",
        "\n",
        "## Resources\n",
        "* [Pillow's `ImageFont` module](https://pillow.readthedocs.io/en/stable/reference/ImageFont.html), which is used by `trdg` to generate images of text\n",
        "* [StackOverflow question](https://stackoverflow.com/questions/24085996/how-i-can-load-a-font-file-with-pil-imagefont-truetype-without-specifying-the-ab) showing that Pillow's `ImageFont` using paths to `.tff` TrueType font files to place text on images."
      ]
    },
    {
      "cell_type": "code",
      "execution_count": 3,
      "metadata": {
        "id": "cyuI8nN3i3U4"
      },
      "outputs": [],
      "source": [
        "fonts = {\n",
        "    'Reenie Beanie': {'URL': 'https://fonts.google.com/specimen/Reenie+Beanie',\n",
        "                      'Author': 'James Grieshaber',\n",
        "                      'Download': 'http://bootes.ethz.ch/fonts/reeniebeanie/ReenieBeanie.ttf',\n",
        "                      'Other downloads': 'http://bootes.ethz.ch/fonts/?reeniebeanie'},\n",
        "    'Nanum Brush Script': {'URL': 'https://fonts.google.com/specimen/Nanum+Brush+Script',\n",
        "                           'Author': 'Sandoll',\n",
        "                           'Download': 'http://bootes.ethz.ch/fonts/nanumbrushscript/NanumBrushScript-Regular.ttf',\n",
        "                           'Other downloads': 'http://bootes.ethz.ch/fonts/?nanumbrushscript'},\n",
        "    'Waiting for the Sunrise': {'URL': 'https://fonts.google.com/specimen/Waiting+for+the+Sunrise',\n",
        "                                'Author': 'Kimberly Geswein',\n",
        "                                'Download': 'http://bootes.ethz.ch/fonts/waitingforthesunrise/WaitingfortheSunrise.ttf',\n",
        "                                'Other downloads': 'http://bootes.ethz.ch/fonts/?waitingforthesunrise'},\n",
        "    'Shadows Into Light': {'URL': 'https://fonts.google.com/specimen/Shadows+Into+Light',\n",
        "                           'Author': 'Kimberly Geswein',\n",
        "                           'Download': 'http://bootes.ethz.ch/fonts/shadowsintolight/ShadowsIntoLight.ttf',\n",
        "                           'Other downloads': 'http://bootes.ethz.ch/fonts/?shadowsintolight'},\n",
        "    'Architects Daughter': {'URL': 'https://fonts.google.com/specimen/Architects+Daughter',\n",
        "                            'Author': 'Kimberly Geswein',\n",
        "                            'Download': 'http://bootes.ethz.ch/fonts/architectsdaughter/ArchitectsDaughter-Regular.ttf',\n",
        "                            'Other downloads': 'http://bootes.ethz.ch/fonts/?architectsdaughter'},\n",
        "    'Swanky and Moo Moo': {'URL': 'https://fonts.google.com/specimen/Swanky+and+Moo+Moo#standard-styles',\n",
        "                           'Author': 'Kimberly Geswein',\n",
        "                           'Download': 'http://bootes.ethz.ch/fonts/swankyandmoomoo/SwankyandMooMoo.ttf',\n",
        "                           'Other downloads': 'http://bootes.ethz.ch/fonts/?swankyandmoomoo'}\n",
        "}"
      ]
    },
    {
      "cell_type": "markdown",
      "metadata": {
        "id": "_lbLWBNAuN56"
      },
      "source": [
        "Download fonts"
      ]
    },
    {
      "cell_type": "code",
      "execution_count": 5,
      "metadata": {
        "id": "Z7A_hcf8uPoO"
      },
      "outputs": [],
      "source": [
        "# Create a folder to store the fonts in\n",
        "if not os.path.exists('./fonts'):\n",
        "    os.mkdir('./fonts')\n",
        "\n",
        "# Loop through fonts and download to folder\n",
        "for font in fonts:\n",
        "    fontname = font.replace(' ', '_')\n",
        "    fontfile = requests.get(fonts[font]['Download']).content\n",
        "    with open(f\"./fonts/{fontname}.tff\", mode='wb') as savefile:\n",
        "        savefile.write(fontfile)"
      ]
    },
    {
      "cell_type": "code",
      "execution_count": 6,
      "metadata": {
        "id": "F5IAZKA1vj6V"
      },
      "outputs": [],
      "source": [
        "fontfiles = []\n",
        "\n",
        "# Loop through fonts and download to folder\n",
        "for font in fonts:\n",
        "    fontname = font.replace(' ', '_')\n",
        "    fontfiles.append(f\"./fonts/{fontname}.tff\")"
      ]
    },
    {
      "cell_type": "markdown",
      "metadata": {
        "id": "rYyXJbf1njSJ"
      },
      "source": [
        "## Generate lines of text\n",
        "\n",
        "`trdg` uses four classes of generators to produce images of lines of text: `GeneratorFromDict`, `GeneratorFromRandom`, `GeneratorFromStrings`, and `GeneratorFromWikipedia`. Here's how they work:\n",
        "\n",
        "All generators:\n",
        "* Output: a 2-tuple of the form (`img`, `label`), where `img` is a Pillow image of the line of text and `label` is a string of the characters in `img`\n",
        "* `count`: sets the maximum number of images the generator will create. Default is `-1`, which means \"create an image each time you are called until the iteration is exited\"\n",
        "* `length`: sets the number of words in each line (image)\n",
        "* `size`: sets the height (in pixels) of the generated image.\n",
        "* `width`: sets the width of the image (in pixels). The default is `-1`, which means \"as wide as it needs to be to fit all the words and the margins\". Any other setting will truncate the image after that many pixels, even if the `length` number of words hasn't been displayed.\n",
        "* `font`: a list of filepaths to `.ttf` TrueType font files. The generator uses a single font per line. Each time it generates a line of text, it randomly selects a font from the provided list in `font` (or the default list, if `font` is not specified).\n",
        "* `language`: 2-letter language code that sets the language (character set, dictionary, or both) to be used for generated text. Default is 'en' for English.\n",
        "* `margins`: a 4-tuple of the form: `(top, left, bottom, right)`, indicating the number of pixels of margin on each of those sides. This respects the `size` parameter, so if `size` is set to `50` and `margins` is set to `(10, 0, 0, 0)`, the text can take up only 40 pixels of space to allow 10 pixels for the top margin.\n",
        "* `fit`: Boolean. If `True`, forces image to fit tightly around text, with no margins. However, margins are generated first, so to make the image bound the text exactly, one must set all margins to 0 and then use `fit=True`. Default is `False`.\n",
        "* `background_type`: sets the background to be used. The default, `0`, uses Gaussian noise. `1` uses a plain white background. `2` uses a diamond-pattern background. `3` uses an image selected from the folder specified in the parameter: `img_dir`.\n",
        "* `skewing_angle`: the ± angle (in degrees) to skew the text. Has a more drastic effect the larger `length` is because the line becomes longer and the skewing more pronounced. For example, at a `length` of around 15, `skewing_angle` of 2 is significant.\n",
        "* `random_skew`: if `skewing_angle` is specified, this determines if a skew will be applied or not (at random).\n",
        "* `output_mask`: if `True`, the output `img` is a 2-tuple of (img, mask), where mask is a black rectangle of the same size as img. Default is `False`.\n",
        "\n",
        "\n",
        "\n",
        "`GeneratorFromStrings`\n",
        "* Generates lines of text based on the strings provided to it (as a list in the first argument, `strings`)\n",
        "* Each list item (a string) is one line of text\n",
        "* The generator will create images of lines of text in the order in which they are found in the `strings` list\n",
        "\n",
        "`GeneratorFromRandom`\n",
        "* Generates lines of text using \"words\" of characters separated by spaces\n",
        "* Has settings to enable only certain characters (e.g., letters, numerals, or other characters)\n",
        "* Uses `language` to determine which character set to use from the provided fonts\n",
        "\n",
        "`GeneratorFromDict`\n",
        "* Generates lines of text using words randomly selected from a dictionary in the provided `language`\n",
        "* Words include compound words like \"light-year\" and contractions like \"didn't\", as well as proper nouns, too\n",
        "\n",
        "`GeneratorFromWikipedia`\n",
        "* Generates lines of text scraped from random Wikipedia articles\n",
        "* takes about 80 seconds to instantiate an object (perhaps because it is collecting many articles?)\n",
        "* `minimum_length` sets the minimum number of words per line"
      ]
    },
    {
      "cell_type": "code",
      "execution_count": 46,
      "metadata": {
        "id": "lj3sCo4cnlyd"
      },
      "outputs": [],
      "source": [
        "# Test the different text generators\n",
        "\n",
        "generator_dict = GeneratorFromDict(\n",
        "    count = -1,\n",
        "    length = 18,\n",
        "    fonts = fontfiles,\n",
        "    size = 62,\n",
        "    background_type = 1,\n",
        "    margins = (10,10,0,0)\n",
        "    )\n",
        "\n",
        "generator_rnd = GeneratorFromRandom(\n",
        "    count = -1,\n",
        "    length = 18, \n",
        "    fonts = fontfiles,\n",
        "    size = 62, \n",
        "    background_type = 1,\n",
        "    margins = (10, 10, 0, 0),\n",
        "    skewing_angle = 2,\n",
        "    random_skew = True,\n",
        "    output_mask = True\n",
        "    )\n",
        "\n",
        "generator_text = GeneratorFromStrings(\n",
        "    strings = ['Line1', 'Line2 Line2', 'Line3 Line3 Line3'],\n",
        "    fonts = fontfiles,\n",
        "    size = 62,\n",
        "    background_type = 1,\n",
        "    margins = (10, 10, 0, 0))\n",
        "\n",
        "generator_wiki = GeneratorFromWikipedia(\n",
        "    count = -1,\n",
        "    minimum_length = 13,\n",
        "    fonts = fontfiles,\n",
        "    language = \"es\",\n",
        "    size = 62,\n",
        "    margins = (10, 10, 0, 0)\n",
        ")"
      ]
    },
    {
      "cell_type": "code",
      "execution_count": 18,
      "metadata": {
        "id": "haEZuh54UHra"
      },
      "outputs": [],
      "source": [
        "generator_dict = GeneratorFromDict(\n",
        "            length = 18,\n",
        "            fonts = fontfiles,\n",
        "            size = 62,\n",
        "            background_type = 1,\n",
        "            margins = (20,70,0,10)\n",
        "            )"
      ]
    },
    {
      "cell_type": "code",
      "execution_count": 17,
      "metadata": {
        "id": "8f4pZpi7LuaP"
      },
      "outputs": [],
      "source": [
        "# Create a folder to store the images in\n",
        "if not os.path.exists('./temp'):\n",
        "    os.mkdir('./temp')\n",
        "# Create a folder to store the image labels in\n",
        "if not os.path.exists('./labels'):\n",
        "    os.mkdir('./labels')\n",
        "\n",
        "\n",
        "# Test image creation\n",
        "for n, (img, label) in enumerate(generator_dict):\n",
        "    if n > 4: break\n",
        "    img.save(f\"./temp/img{str(n).zfill(5)}.jpg\")\n",
        "    # print(img.size)\n",
        "    with open(f\"./labels/label{str(n).zfill(5)}.txt\", mode='w') as txtlabel:\n",
        "        txtlabel.write(label)"
      ]
    },
    {
      "cell_type": "markdown",
      "metadata": {
        "id": "QRz4XVPnGSpT"
      },
      "source": [
        "## Functions for image generation"
      ]
    },
    {
      "cell_type": "markdown",
      "metadata": {
        "id": "3oF3sCkiOUZO"
      },
      "source": [
        "### Probabilistic number of words per line\n",
        "Create a function to return the number of words per line, to model the distribution of words per line in my journal."
      ]
    },
    {
      "cell_type": "code",
      "execution_count": 7,
      "metadata": {
        "id": "hT8J4W2L5qiJ"
      },
      "outputs": [],
      "source": [
        "# First, create a function to return the number of words for each generated line.\n",
        "# Since the number of words per line in my journal varies, I will sample from\n",
        "# a probability distribution over the possible number of words per line.\n",
        "\n",
        "# I generated the below words per line and cumulative probabilities based on\n",
        "# 10 pages of transcribed text.\n",
        "\n",
        "words_per_line = [10, 11, 12, 13, 14, 15, 16, 17, 18, 19, 20, 21, 22, 23, 24, 25]\n",
        "cumulative_probabilities = [0.04264,\n",
        "    0.05814,\n",
        "    0.06589,\n",
        "    0.0969,\n",
        "    0.10465,\n",
        "    0.13566,\n",
        "    0.1938,\n",
        "    0.26744,\n",
        "    0.36822,\n",
        "    0.51163,\n",
        "    0.67442,\n",
        "    0.83333,\n",
        "    0.92636,\n",
        "    0.96899,\n",
        "    0.98837,\n",
        "    1.0]\n",
        "\n",
        "# Find the closest index to the one chosen by a random float.\n",
        "# See: https://www.adamsmith.haus/python/answers/how-to-find-the-numpy-array-element-closest-to-a-given-value-in-python\n",
        "# and: https://stackoverflow.com/questions/2566412/find-nearest-value-in-numpy-array\n",
        "\n",
        "def word_count(word_counts, cumulative_probabilities):\n",
        "    '''\n",
        "    Uses a randomly-chosen float (0-1) and finds the absolute\n",
        "    difference between that float and each item in the \n",
        "    `cumulative_probabilities` list. Then, finds the minimum \n",
        "    difference using `np.argmin()` as an index into the \n",
        "    `word_counts` list and returns the item in `word_counts` \n",
        "    at the minimum index.\n",
        "\n",
        "    Note: `word_counts` and `cumulative_probabilities` must \n",
        "    have the same number of items.\n",
        "\n",
        "    References:\n",
        "    * https://www.adamsmith.haus/python/answers/how-to-find-the-numpy-array-element-closest-to-a-given-value-in-python\n",
        "    * https://stackoverflow.com/questions/2566412/find-nearest-value-in-numpy-array\n",
        "    '''\n",
        "    words = np.array(word_counts)\n",
        "    probs = np.array(cumulative_probabilities)\n",
        "    rand_num = random.random()\n",
        "    # Find the difference between the probability distribution\n",
        "    # and the random float\n",
        "    diff = np.abs(probs - rand_num)\n",
        "    # Find the index of the smallest difference\n",
        "    idx = diff.argmin()\n",
        "    # Return the word count of the smallest difference\n",
        "    return words[idx]"
      ]
    },
    {
      "cell_type": "code",
      "execution_count": 9,
      "metadata": {
        "colab": {
          "base_uri": "https://localhost:8080/"
        },
        "id": "I6CmKkAkOoW6",
        "outputId": "484ecfbf-2ff0-497d-b93d-7d3983c61ffc"
      },
      "outputs": [
        {
          "data": {
            "text/plain": [
              "17"
            ]
          },
          "execution_count": 9,
          "metadata": {},
          "output_type": "execute_result"
        }
      ],
      "source": [
        "word_count(words_per_line, cumulative_probabilities)"
      ]
    },
    {
      "cell_type": "markdown",
      "metadata": {
        "id": "HrMaz0L-ObvT"
      },
      "source": [
        "### Generate lines of text-images\n",
        "Next, create a function to generate lines of text using `trdg` that can later be concatenated into full-page images of text."
      ]
    },
    {
      "cell_type": "code",
      "execution_count": 10,
      "metadata": {
        "id": "cpvKgv6-OnOO"
      },
      "outputs": [],
      "source": [
        "def create_lines(standard_generator,\n",
        "                 indent_generator,\n",
        "                 blank_generator,\n",
        "                 number_of_lines=30,\n",
        "                 indented_probability=0.183,\n",
        "                 blank_line_probability=0.027):\n",
        "    '''\n",
        "    Creates images of lines of text for creating full-page images of text.\n",
        "\n",
        "    Output: (images, labels), where `images` is a list of Pillow Image objects\n",
        "    and `labels` is a list of strings that represent the text in each image.\n",
        "\n",
        "    Parameters\n",
        "    ---\n",
        "    standard_generator: a `trdg` Generator object with settings (besides line\n",
        "    length) already set.\n",
        "\n",
        "    indent_generator: a `trdg` Generator object with settings (besides line\n",
        "    length) already set. This generator has a large left margin to simulate\n",
        "    indentation.\n",
        "\n",
        "    blank_generator: a `trdg` Generator object with settings (besides line\n",
        "    length) already set. This generator returns a blank line-image to simulate\n",
        "    blank lines.\n",
        "\n",
        "    number_of_lines: sets the number of images (lines of text) to be returned.\n",
        "    Default is 30.\n",
        "\n",
        "    indented_probability: the likelihood that any given line is indented.\n",
        "    Default is 0.183, which reflects the fact that, on average, 5.5 lines out\n",
        "    of every 30 are indented.\n",
        "\n",
        "    blank_line_probability: the likelihood that any gven line is blank.\n",
        "    Default is 0.027, which reflects the fact that, on average, 0.8 lines out\n",
        "    of every 30 are blank.\n",
        "    '''\n",
        "    # Create lists to store the returned objects: images and labels\n",
        "    images = []\n",
        "    labels = []\n",
        "\n",
        "    # Loop to create images and labels\n",
        "    for n in range(number_of_lines):\n",
        "        # Determine if the line will be indented or blank\n",
        "        # If it is indented, it cannot also be blank\n",
        "        is_indented = (True if random.random() < indented_probability else False)\n",
        "        is_blank = False\n",
        "        if not is_indented:\n",
        "            is_blank = (True if random.random() < blank_line_probability else False)\n",
        "        \n",
        "        if is_blank:\n",
        "            img, label = blank_generator.next()\n",
        "            images.append(img)\n",
        "            labels.append('')\n",
        "            # Move on to the next line-image\n",
        "            continue\n",
        "        \n",
        "        line_length = word_count(words_per_line, cumulative_probabilities)\n",
        "        # Average word length (characters) is much longer for trdg than for\n",
        "        # my journals, so I'm adjusting the number of words per line by -7\n",
        "        # so the range is now 3-18 words (rather than 10-25)\n",
        "        line_length -= 7\n",
        "        label_prefix = ('    ' if is_indented else '')\n",
        "\n",
        "        # Create the text generator\n",
        "        generator = indent_generator if is_indented else standard_generator\n",
        "        generator.length = line_length\n",
        "\n",
        "        # Create an image and a label\n",
        "        img, label = generator.next()\n",
        "        images.append(img)\n",
        "        labels.append(label_prefix + label)\n",
        "        \n",
        "    return (images, labels)"
      ]
    },
    {
      "cell_type": "code",
      "execution_count": 35,
      "metadata": {
        "id": "aB-zw0bVVx-4"
      },
      "outputs": [],
      "source": [
        "# # Choose the font to use in all lines for a page\n",
        "# # Note that it is a single-item list for using with trdg\n",
        "# font = [random.choice(fontfiles)]\n",
        "\n",
        "# # Create the generator for blank lines\n",
        "# blank_generator = GeneratorFromStrings(\n",
        "#     strings = [' '],\n",
        "#     fonts = font,\n",
        "#     margins = (20,10,0,10),\n",
        "#     size = 62,\n",
        "#     width = 500)\n",
        "\n",
        "# # margins = ((20,70,0,10) if is_indented else (20,10,0,10))\n",
        "\n",
        "# # Create generator for indented lines\n",
        "# indent_generator = GeneratorFromDict(\n",
        "#     length = 18,\n",
        "#     fonts = font,\n",
        "#     size = 62,\n",
        "#     background_type = 0,\n",
        "#     margins = (20,70,0,10))\n",
        "\n",
        "# # Create generator for standard lines\n",
        "# standard_generator = GeneratorFromDict(\n",
        "#     length = 18,\n",
        "#     fonts = font,\n",
        "#     size = 62,\n",
        "#     background_type = 0,\n",
        "#     margins = (20,10,0,10))"
      ]
    },
    {
      "cell_type": "code",
      "execution_count": 59,
      "metadata": {
        "colab": {
          "base_uri": "https://localhost:8080/"
        },
        "id": "FWiLjSx4MEld",
        "outputId": "03469e40-6085-4b0e-c139-de8dee23af21"
      },
      "outputs": [
        {
          "name": "stdout",
          "output_type": "stream",
          "text": [
            "1 loop, best of 5: 2.96 s per loop\n"
          ]
        }
      ],
      "source": [
        "# %%timeit\n",
        "# images, labels = create_lines(standard_generator, indent_generator, blank_generator)"
      ]
    },
    {
      "cell_type": "markdown",
      "metadata": {
        "id": "o3-lylGIaMUc"
      },
      "source": [
        "### Generate full-page text images\n",
        "Next, a function to combine the images and labels into a full-page image.\n",
        "\n",
        "### References\n",
        "* nkmk blog article, [Concatenate images with Python Pillow](https://note.nkmk.me/en/python-pillow-concat-images/)\n",
        "* nkmk blog article, [Draw lines and shapes with Python Pillow](https://note.nkmk.me/en/python-pillow-imagedraw/)"
      ]
    },
    {
      "cell_type": "code",
      "execution_count": 11,
      "metadata": {
        "id": "S3LXx_q8Z5_m"
      },
      "outputs": [],
      "source": [
        "def create_pages(num_pages=10,\n",
        "                 font_files=fontfiles,\n",
        "                 image_save_location='./images',\n",
        "                 label_save_location='./labels'):\n",
        "    '''\n",
        "    Concatenates line-images from the `create_lines()` function\n",
        "    to create full-page images for text recognition.\n",
        "\n",
        "    Also adds lines to simulate the ruled paper I used for my\n",
        "    journals.\n",
        "\n",
        "    Parameters\n",
        "    ---\n",
        "    font_files: a list of file paths to .ttf TrueType font files.\n",
        "    All lines for each page will use a single font.\n",
        "    '''\n",
        "    progress_bar = tqdm(total=num_pages)\n",
        "    # Loop to create one page at a time\n",
        "    for n in range(num_pages):\n",
        "        # Choose the font to use in all lines for a page\n",
        "        # Note that it is a single-item list for using with trdg\n",
        "        font = [random.choice(font_files)]\n",
        "\n",
        "        line_len_words = []\n",
        "        line_len_chars = []\n",
        "\n",
        "        # margins = ((20,70,0,10) if is_indented else (20,10,0,10))\n",
        "\n",
        "        # Create the generator for blank lines\n",
        "        blank_generator = GeneratorFromStrings(\n",
        "            strings = [' '],\n",
        "            fonts = font,\n",
        "            size = 62,\n",
        "            background_type = 0,\n",
        "            margins = (20,10,0,10),\n",
        "            width = 1000)\n",
        "        \n",
        "        # Create generator for indented lines\n",
        "        indent_generator = GeneratorFromDict(\n",
        "            length = 9,\n",
        "            fonts = font,\n",
        "            size = 62,\n",
        "            background_type = 0,\n",
        "            margins = (20,70,0,10))\n",
        "        \n",
        "        # Create generator for standard lines\n",
        "        standard_generator = GeneratorFromDict(\n",
        "            length = 9,\n",
        "            fonts = font,\n",
        "            size = 62,\n",
        "            background_type = 0,\n",
        "            margins = (20,10,0,10))\n",
        "        \n",
        "        # Create images of lines of text, plus labels\n",
        "        images, labels = create_lines(standard_generator, indent_generator,\n",
        "                                    blank_generator, number_of_lines=30)\n",
        "\n",
        "        # Combine images into a single image\n",
        "        # See: https://note.nkmk.me/en/python-pillow-concat-images/\n",
        "        max_width = 0\n",
        "        max_height = 0\n",
        "        for img in images:\n",
        "            width, height = img.size\n",
        "            if width > max_width:\n",
        "                max_width = width\n",
        "            if height > max_height:\n",
        "                max_height = height\n",
        "\n",
        "        # Create a blank canvas to paste the images on\n",
        "        full_page = Image.new(\n",
        "            mode='RGB',\n",
        "            size=(max_width, max_height * len(images)),\n",
        "            color=(230,230,230))\n",
        "\n",
        "        # Paste the images on the blank canvas\n",
        "        total_height = 0\n",
        "        for img in images:\n",
        "            full_page.paste(img, (0, total_height))\n",
        "            total_height += img.height\n",
        "        \n",
        "        # Add lines to the canvas (29 lines per page)\n",
        "        # See: https://note.nkmk.me/en/python-pillow-imagedraw/\n",
        "        # Color for lines: gray: (70, 70, 70)\n",
        "        # Start at 52 pixels, to go just under the previous line of text, which\n",
        "        # simulates how the letters in my journal drop below the ruling lines\n",
        "        y_height = 52\n",
        "        x_1 = 10\n",
        "        x_2 = full_page.width\n",
        "        draw = ImageDraw.Draw(full_page)\n",
        "        for line_num in range(29):\n",
        "            draw.line(xy=(x_1, y_height, x_2, y_height), fill=(70,70,70), width=1)\n",
        "            # Add 62 to the y_height to match the line height\n",
        "            y_height += 62\n",
        "\n",
        "        # Save the full-page image\n",
        "        # Default quality is 75 (max is 95).\n",
        "        # See: https://pillow.readthedocs.io/en/stable/handbook/image-file-formats.html#jpeg\n",
        "        # and: https://pillow.readthedocs.io/en/stable/reference/Image.html#PIL.Image.Image.save\n",
        "        full_page.save(f\"{image_save_location}/{str(n).zfill(5)}.jpg\", quality=50)\n",
        "        \n",
        "        # Combine all labels into one string\n",
        "        full_page_label = '<START>'\n",
        "        for lbl in labels:\n",
        "            full_page_label += (lbl + '\\n')\n",
        "            line_len_words.append(len(lbl.split()))\n",
        "            line_len_chars.append(len(lbl))\n",
        "        # Add end keyword, after removing the final '\\n'\n",
        "        full_page_label = full_page_label[:-1] + '<END>'\n",
        "\n",
        "        # Save the label\n",
        "        label_filepath = f\"{label_save_location}/{str(n).zfill(5)}.txt\"\n",
        "        with open(label_filepath, mode='wt', encoding='utf-8') as labelfile:\n",
        "            labelfile.write(full_page_label)\n",
        "        \n",
        "        # Update progress bar\n",
        "        progress_bar.set_description(f\"Words/page: {len(full_page_label.split()):,d}\"\n",
        "        + f\", line length: {sum(line_len_words)/len(line_len_words):,.1f} words\"\n",
        "        + f\", {sum(line_len_chars)/len(line_len_chars):,.1f} chars\")\n",
        "        progress_bar.update(n=1)"
      ]
    },
    {
      "cell_type": "code",
      "execution_count": 13,
      "metadata": {
        "colab": {
          "base_uri": "https://localhost:8080/",
          "height": 49,
          "referenced_widgets": [
            "b78f01b300884b6ba011c2e141600df0",
            "3ee74024c0a746a3a6b704522ef95f95",
            "f7266c5125574ba6b56e28c25af7c894",
            "76d69785376e4c6ba6491d7e1746fb2e",
            "11c070fb870f4002a0c0d01f3e3eec58",
            "0b0e03d16ab541fd829f427803a09f6a",
            "7ce93bf5c00249369b44608cb8d96052",
            "5339e0b81ccd4737b81eefbff62d66b0",
            "a337c85c75fa48d6b18fe80f939afc39",
            "e4e032479ce6462bb183bd28a32d1dba",
            "4d6f8b92dc74423bbd78cbf200687cab"
          ]
        },
        "id": "RJ5I1auIXgsr",
        "outputId": "07759e4f-970b-47d8-93b6-6a2da5e7bd3a"
      },
      "outputs": [
        {
          "data": {
            "application/vnd.jupyter.widget-view+json": {
              "model_id": "9cb2a2e087734d79b1c831d125a096a9",
              "version_major": 2,
              "version_minor": 0
            },
            "text/plain": [
              "  0%|          | 0/10000 [00:00<?, ?it/s]"
            ]
          },
          "metadata": {},
          "output_type": "display_data"
        }
      ],
      "source": [
        "# Create a folder to store the images in\n",
        "if not os.path.exists('./images'):\n",
        "    os.mkdir('./images')\n",
        "# Create a folder to store the image labels in\n",
        "if not os.path.exists('./labels'):\n",
        "    os.mkdir('./labels')\n",
        "\n",
        "create_pages(num_pages=10000, font_files=fontfiles, image_save_location='./images', label_save_location='./labels')"
      ]
    },
    {
      "cell_type": "markdown",
      "metadata": {
        "id": "iyul5ozviyao"
      },
      "source": [
        "## Different implementation: varying line lengths\n",
        "To support varying line lengths, I need to recreate the `trdg` `Generator` object for each line. It's significantly more time consuming (avg of 5.20s vs. 1.75s per 30 lines with an average of 9 words/line), but it enables a greater variety in the generated pages."
      ]
    },
    {
      "cell_type": "code",
      "execution_count": 133,
      "metadata": {
        "id": "Vj0BXTbXi0JJ"
      },
      "outputs": [],
      "source": [
        "def create_lines_v2(font_files=fontfiles,\n",
        "                 number_of_lines=30,\n",
        "                 indented_probability=0.183,\n",
        "                 blank_line_probability=0.027):\n",
        "    '''\n",
        "    Creates images of lines of text for creating full-page images of text.\n",
        "\n",
        "    Output: (images, labels), where `images` is a list of Pillow Image objects\n",
        "    and `labels` is a list of strings that represent the text in each image.\n",
        "\n",
        "    Parameters\n",
        "    ---\n",
        "    font_files: a list of strings with filepaths to .tff TrueType font files\n",
        "\n",
        "    number_of_lines: sets the number of images (lines of text) to be returned.\n",
        "    Default is 30.\n",
        "\n",
        "    indented_probability: the likelihood that any given line is indented.\n",
        "    Default is 0.183, which reflects the fact that, on average, 5.5 lines out\n",
        "    of every 30 are indented.\n",
        "\n",
        "    blank_line_probability: the likelihood that any gven line is blank.\n",
        "    Default is 0.027, which reflects the fact that, on average, 0.8 lines out\n",
        "    of every 30 are blank.\n",
        "    '''\n",
        "    # Create lists to store the returned objects: images and labels\n",
        "    images = []\n",
        "    labels = []\n",
        "\n",
        "    # Choose the font to use in all lines for a page\n",
        "    # Note that it is a single-item list for using with trdg\n",
        "    font = [random.choice(font_files)]\n",
        "\n",
        "    # Create the generator for blank lines\n",
        "    blank_generator = GeneratorFromStrings(\n",
        "        strings = [' '],\n",
        "        fonts = font,\n",
        "        size = 62,\n",
        "        background_type = 0,\n",
        "        margins = (20,10,0,10),\n",
        "        width = 1000)\n",
        "\n",
        "    # Loop to create images and labels\n",
        "    for n in range(number_of_lines):\n",
        "        # Determine if the line will be indented or blank\n",
        "        # If it is indented, it cannot also be blank\n",
        "        is_indented = (True if random.random() < indented_probability else False)\n",
        "        is_blank = False\n",
        "        if not is_indented:\n",
        "            is_blank = (True if random.random() < blank_line_probability else False)\n",
        "        \n",
        "        if is_blank:\n",
        "            img, label = blank_generator.next()\n",
        "            images.append(img)\n",
        "            labels.append('')\n",
        "            # Move on to the next line-image\n",
        "            continue\n",
        "        \n",
        "        line_length = word_count(words_per_line, cumulative_probabilities)\n",
        "        # Average word length (characters) is much longer for trdg than for\n",
        "        # my journals, so I'm adjusting the number of words per line by -7\n",
        "        # so the range is now 3-18 words (rather than 10-25)\n",
        "        line_length -= 7\n",
        "        # Clip the max line length to 13 words\n",
        "        line_length = min(line_length, 13)\n",
        "        label_prefix = ('    ' if is_indented else '')\n",
        "\n",
        "        # Create the text generator\n",
        "        margins = ((20,70,0,10) if is_indented else (20,10,0,10))\n",
        "        generator = GeneratorFromDict(\n",
        "            length = line_length,\n",
        "            fonts = font,\n",
        "            size = 62,\n",
        "            background_type = 0,\n",
        "            margins = margins)\n",
        "\n",
        "        # Create an image and a label\n",
        "        img, label = generator.next()\n",
        "        images.append(img)\n",
        "        labels.append(label_prefix + label)\n",
        "        \n",
        "    return (images, labels)"
      ]
    },
    {
      "cell_type": "code",
      "execution_count": 107,
      "metadata": {
        "colab": {
          "base_uri": "https://localhost:8080/"
        },
        "id": "dJOoB6Vqj4Eq",
        "outputId": "5a7b63c3-3a6a-45d7-d6b1-0927ceb55e67"
      },
      "outputs": [
        {
          "name": "stdout",
          "output_type": "stream",
          "text": [
            "1 loop, best of 5: 5.24 s per loop\n"
          ]
        }
      ],
      "source": [
        "%%timeit\n",
        "images, labels = create_lines_v2()"
      ]
    },
    {
      "cell_type": "code",
      "execution_count": 146,
      "metadata": {
        "id": "uBO7U8LHkfmg"
      },
      "outputs": [],
      "source": [
        "def create_pages_v2(num_pages=10,\n",
        "                 image_save_location='./images',\n",
        "                 label_save_location='./labels'):\n",
        "    '''\n",
        "    Concatenates line-images from the `create_lines()` function\n",
        "    to create full-page images for text recognition.\n",
        "\n",
        "    Also adds lines to simulate the ruled paper I used for my\n",
        "    journals.\n",
        "\n",
        "    Parameters\n",
        "    ---\n",
        "    font_files: a list of file paths to .ttf TrueType font files.\n",
        "    All lines for each page will use a single font.\n",
        "    '''\n",
        "    progress_bar = tqdm(total=num_pages)\n",
        "\n",
        "    # Loop to create one page at a time\n",
        "    for n in range(num_pages):\n",
        "        # Create images of lines of text, plus labels\n",
        "        images, labels = create_lines_v2()\n",
        "\n",
        "        line_len_words = []\n",
        "        line_len_chars = []\n",
        "\n",
        "        # Combine images into a single image\n",
        "        # See: https://note.nkmk.me/en/python-pillow-concat-images/\n",
        "        max_width = 0\n",
        "        max_height = 0\n",
        "        for img in images:\n",
        "            width, height = img.size\n",
        "            if width > max_width:\n",
        "                max_width = width\n",
        "            if height > max_height:\n",
        "                max_height = height\n",
        "\n",
        "        # Create a blank canvas to paste the images on\n",
        "        full_page = Image.new(\n",
        "            mode='RGB',\n",
        "            size=(max_width, max_height * len(images)),\n",
        "            color=(230,230,230))\n",
        "\n",
        "        # Paste the images on the blank canvas\n",
        "        total_height = 0\n",
        "        for img in images:\n",
        "            full_page.paste(img, (0, total_height))\n",
        "            total_height += img.height\n",
        "        \n",
        "        # Add lines to the canvas (29 lines per page)\n",
        "        # See: https://note.nkmk.me/en/python-pillow-imagedraw/\n",
        "        # Color for lines: gray: (70, 70, 70)\n",
        "        # Start at 52 pixels, to go just under the previous line of text, which\n",
        "        # simulates how the letters in my journal drop below the ruling lines\n",
        "        y_height = 52\n",
        "        x_1 = 10\n",
        "        x_2 = full_page.width\n",
        "        draw = ImageDraw.Draw(full_page)\n",
        "        for line_num in range(29):\n",
        "            draw.line(xy=(x_1, y_height, x_2, y_height), fill=(70,70,70), width=1)\n",
        "            # Add 62 to the y_height to match the line height\n",
        "            y_height += 62\n",
        "\n",
        "        # Save the full-page image\n",
        "        # Default quality is 75 (max is 95).\n",
        "        # See: https://pillow.readthedocs.io/en/stable/handbook/image-file-formats.html#jpeg\n",
        "        # and: https://pillow.readthedocs.io/en/stable/reference/Image.html#PIL.Image.Image.save\n",
        "        full_page.save(f\"{image_save_location}/{str(n).zfill(5)}.jpg\", quality=75)\n",
        "        \n",
        "        # Combine all labels into one string\n",
        "        full_page_label = '<START>'\n",
        "        for lbl in labels:\n",
        "            full_page_label += (lbl + '\\n')\n",
        "            line_len_words.append(len(lbl.split()))\n",
        "            line_len_chars.append(len(lbl))\n",
        "        # Add end keyword, after removing the final '\\n'\n",
        "        full_page_label = full_page_label[:-1] + '<END>'\n",
        "\n",
        "        # Save the label\n",
        "        label_filepath = f\"{label_save_location}/{str(n).zfill(5)}.txt\"\n",
        "        with open(label_filepath, mode='wt', encoding='utf-8') as labelfile:\n",
        "            labelfile.write(full_page_label)\n",
        "        \n",
        "        # Update progress bar\n",
        "        progress_bar.set_description(f\"Words/page: {len(full_page_label.split()):,d}\"\n",
        "        + f\", line length: {sum(line_len_words)/len(line_len_words):,.1f} words\"\n",
        "        + f\", {sum(line_len_chars)/len(line_len_chars):,.1f} chars\")\n",
        "        progress_bar.update(n=1)"
      ]
    },
    {
      "cell_type": "code",
      "execution_count": 147,
      "metadata": {
        "colab": {
          "base_uri": "https://localhost:8080/",
          "height": 49,
          "referenced_widgets": [
            "24124bcd2f9c45879623748491342255",
            "95dbdc8bffcf4a9b91b538bf16db4129",
            "94de5b3529384b7a9c0561f8e3091a29",
            "0759e9abbdc5449baccdc3680d5014d3",
            "b2913c62a1bd4f59946c861ab98ccf5a",
            "92063e9f5c214274af09f042b36fbc10",
            "8fc8358cfa6b4747a491417d432eba5a",
            "d96d4957c562459ab9bd4892e53585b4",
            "ef5173e5b84841678a1e88151c72d5c3",
            "47a75bd4413d4e5f8ca425c6fc61d844",
            "08ef5b4a9b384cd198fb9fc987cb24b7"
          ]
        },
        "id": "ZL06bRGMk7tc",
        "outputId": "6aafea24-88ca-403a-a6bc-6adbd69dc5c3"
      },
      "outputs": [
        {
          "data": {
            "application/vnd.jupyter.widget-view+json": {
              "model_id": "24124bcd2f9c45879623748491342255",
              "version_major": 2,
              "version_minor": 0
            },
            "text/plain": [
              "  0%|          | 0/10 [00:00<?, ?it/s]"
            ]
          },
          "metadata": {},
          "output_type": "display_data"
        }
      ],
      "source": [
        "# Create a folder to store the images in\n",
        "if not os.path.exists('./images'):\n",
        "    os.mkdir('./images')\n",
        "# Create a folder to store the image labels in\n",
        "if not os.path.exists('./labels'):\n",
        "    os.mkdir('./labels')\n",
        "\n",
        "create_pages_v2(num_pages=10, image_save_location='./images', label_save_location='./labels')"
      ]
    },
    {
      "cell_type": "markdown",
      "metadata": {
        "id": "H1jm83mR9QqH"
      },
      "source": [
        "## Potential improvements: augmentation\n",
        "Here are two example packages I could use to augment the images by adjusting brightness, contrast, tilt, noise, etc.:\n",
        "* [`Augmentor`](https://github.com/mdbloice/Augmentor)\n",
        "* [`imgaug`](https://github.com/aleju/imgaug)"
      ]
    }
  ],
  "metadata": {
    "colab": {
      "collapsed_sections": [],
      "name": "Deep Learning: Image Generation for Text Recognition.ipynb",
      "provenance": []
    },
    "kernelspec": {
      "display_name": "Python 3",
      "name": "python3"
    },
    "language_info": {
      "codemirror_mode": {
        "name": "ipython",
        "version": 3
      },
      "file_extension": ".py",
      "mimetype": "text/x-python",
      "name": "python",
      "nbconvert_exporter": "python",
      "pygments_lexer": "ipython3",
      "version": "3.7.13"
    },
    "widgets": {
      "application/vnd.jupyter.widget-state+json": {
        "0759e9abbdc5449baccdc3680d5014d3": {
          "model_module": "@jupyter-widgets/controls",
          "model_module_version": "1.5.0",
          "model_name": "HTMLModel",
          "state": {
            "_dom_classes": [],
            "_model_module": "@jupyter-widgets/controls",
            "_model_module_version": "1.5.0",
            "_model_name": "HTMLModel",
            "_view_count": null,
            "_view_module": "@jupyter-widgets/controls",
            "_view_module_version": "1.5.0",
            "_view_name": "HTMLView",
            "description": "",
            "description_tooltip": null,
            "layout": "IPY_MODEL_47a75bd4413d4e5f8ca425c6fc61d844",
            "placeholder": "​",
            "style": "IPY_MODEL_08ef5b4a9b384cd198fb9fc987cb24b7",
            "value": " 10/10 [00:53&lt;00:00,  5.20s/it]"
          }
        },
        "08ef5b4a9b384cd198fb9fc987cb24b7": {
          "model_module": "@jupyter-widgets/controls",
          "model_module_version": "1.5.0",
          "model_name": "DescriptionStyleModel",
          "state": {
            "_model_module": "@jupyter-widgets/controls",
            "_model_module_version": "1.5.0",
            "_model_name": "DescriptionStyleModel",
            "_view_count": null,
            "_view_module": "@jupyter-widgets/base",
            "_view_module_version": "1.2.0",
            "_view_name": "StyleView",
            "description_width": ""
          }
        },
        "0b0e03d16ab541fd829f427803a09f6a": {
          "model_module": "@jupyter-widgets/base",
          "model_module_version": "1.2.0",
          "model_name": "LayoutModel",
          "state": {
            "_model_module": "@jupyter-widgets/base",
            "_model_module_version": "1.2.0",
            "_model_name": "LayoutModel",
            "_view_count": null,
            "_view_module": "@jupyter-widgets/base",
            "_view_module_version": "1.2.0",
            "_view_name": "LayoutView",
            "align_content": null,
            "align_items": null,
            "align_self": null,
            "border": null,
            "bottom": null,
            "display": null,
            "flex": null,
            "flex_flow": null,
            "grid_area": null,
            "grid_auto_columns": null,
            "grid_auto_flow": null,
            "grid_auto_rows": null,
            "grid_column": null,
            "grid_gap": null,
            "grid_row": null,
            "grid_template_areas": null,
            "grid_template_columns": null,
            "grid_template_rows": null,
            "height": null,
            "justify_content": null,
            "justify_items": null,
            "left": null,
            "margin": null,
            "max_height": null,
            "max_width": null,
            "min_height": null,
            "min_width": null,
            "object_fit": null,
            "object_position": null,
            "order": null,
            "overflow": null,
            "overflow_x": null,
            "overflow_y": null,
            "padding": null,
            "right": null,
            "top": null,
            "visibility": null,
            "width": null
          }
        },
        "11c070fb870f4002a0c0d01f3e3eec58": {
          "model_module": "@jupyter-widgets/base",
          "model_module_version": "1.2.0",
          "model_name": "LayoutModel",
          "state": {
            "_model_module": "@jupyter-widgets/base",
            "_model_module_version": "1.2.0",
            "_model_name": "LayoutModel",
            "_view_count": null,
            "_view_module": "@jupyter-widgets/base",
            "_view_module_version": "1.2.0",
            "_view_name": "LayoutView",
            "align_content": null,
            "align_items": null,
            "align_self": null,
            "border": null,
            "bottom": null,
            "display": null,
            "flex": null,
            "flex_flow": null,
            "grid_area": null,
            "grid_auto_columns": null,
            "grid_auto_flow": null,
            "grid_auto_rows": null,
            "grid_column": null,
            "grid_gap": null,
            "grid_row": null,
            "grid_template_areas": null,
            "grid_template_columns": null,
            "grid_template_rows": null,
            "height": null,
            "justify_content": null,
            "justify_items": null,
            "left": null,
            "margin": null,
            "max_height": null,
            "max_width": null,
            "min_height": null,
            "min_width": null,
            "object_fit": null,
            "object_position": null,
            "order": null,
            "overflow": null,
            "overflow_x": null,
            "overflow_y": null,
            "padding": null,
            "right": null,
            "top": null,
            "visibility": null,
            "width": null
          }
        },
        "24124bcd2f9c45879623748491342255": {
          "model_module": "@jupyter-widgets/controls",
          "model_module_version": "1.5.0",
          "model_name": "HBoxModel",
          "state": {
            "_dom_classes": [],
            "_model_module": "@jupyter-widgets/controls",
            "_model_module_version": "1.5.0",
            "_model_name": "HBoxModel",
            "_view_count": null,
            "_view_module": "@jupyter-widgets/controls",
            "_view_module_version": "1.5.0",
            "_view_name": "HBoxView",
            "box_style": "",
            "children": [
              "IPY_MODEL_95dbdc8bffcf4a9b91b538bf16db4129",
              "IPY_MODEL_94de5b3529384b7a9c0561f8e3091a29",
              "IPY_MODEL_0759e9abbdc5449baccdc3680d5014d3"
            ],
            "layout": "IPY_MODEL_b2913c62a1bd4f59946c861ab98ccf5a"
          }
        },
        "3ee74024c0a746a3a6b704522ef95f95": {
          "model_module": "@jupyter-widgets/controls",
          "model_module_version": "1.5.0",
          "model_name": "HTMLModel",
          "state": {
            "_dom_classes": [],
            "_model_module": "@jupyter-widgets/controls",
            "_model_module_version": "1.5.0",
            "_model_name": "HTMLModel",
            "_view_count": null,
            "_view_module": "@jupyter-widgets/controls",
            "_view_module_version": "1.5.0",
            "_view_name": "HTMLView",
            "description": "",
            "description_tooltip": null,
            "layout": "IPY_MODEL_0b0e03d16ab541fd829f427803a09f6a",
            "placeholder": "​",
            "style": "IPY_MODEL_7ce93bf5c00249369b44608cb8d96052",
            "value": "Words/page: 270, line length: 9.0 words, 94.3 chars: 100%"
          }
        },
        "47a75bd4413d4e5f8ca425c6fc61d844": {
          "model_module": "@jupyter-widgets/base",
          "model_module_version": "1.2.0",
          "model_name": "LayoutModel",
          "state": {
            "_model_module": "@jupyter-widgets/base",
            "_model_module_version": "1.2.0",
            "_model_name": "LayoutModel",
            "_view_count": null,
            "_view_module": "@jupyter-widgets/base",
            "_view_module_version": "1.2.0",
            "_view_name": "LayoutView",
            "align_content": null,
            "align_items": null,
            "align_self": null,
            "border": null,
            "bottom": null,
            "display": null,
            "flex": null,
            "flex_flow": null,
            "grid_area": null,
            "grid_auto_columns": null,
            "grid_auto_flow": null,
            "grid_auto_rows": null,
            "grid_column": null,
            "grid_gap": null,
            "grid_row": null,
            "grid_template_areas": null,
            "grid_template_columns": null,
            "grid_template_rows": null,
            "height": null,
            "justify_content": null,
            "justify_items": null,
            "left": null,
            "margin": null,
            "max_height": null,
            "max_width": null,
            "min_height": null,
            "min_width": null,
            "object_fit": null,
            "object_position": null,
            "order": null,
            "overflow": null,
            "overflow_x": null,
            "overflow_y": null,
            "padding": null,
            "right": null,
            "top": null,
            "visibility": null,
            "width": null
          }
        },
        "4d6f8b92dc74423bbd78cbf200687cab": {
          "model_module": "@jupyter-widgets/controls",
          "model_module_version": "1.5.0",
          "model_name": "DescriptionStyleModel",
          "state": {
            "_model_module": "@jupyter-widgets/controls",
            "_model_module_version": "1.5.0",
            "_model_name": "DescriptionStyleModel",
            "_view_count": null,
            "_view_module": "@jupyter-widgets/base",
            "_view_module_version": "1.2.0",
            "_view_name": "StyleView",
            "description_width": ""
          }
        },
        "5339e0b81ccd4737b81eefbff62d66b0": {
          "model_module": "@jupyter-widgets/base",
          "model_module_version": "1.2.0",
          "model_name": "LayoutModel",
          "state": {
            "_model_module": "@jupyter-widgets/base",
            "_model_module_version": "1.2.0",
            "_model_name": "LayoutModel",
            "_view_count": null,
            "_view_module": "@jupyter-widgets/base",
            "_view_module_version": "1.2.0",
            "_view_name": "LayoutView",
            "align_content": null,
            "align_items": null,
            "align_self": null,
            "border": null,
            "bottom": null,
            "display": null,
            "flex": null,
            "flex_flow": null,
            "grid_area": null,
            "grid_auto_columns": null,
            "grid_auto_flow": null,
            "grid_auto_rows": null,
            "grid_column": null,
            "grid_gap": null,
            "grid_row": null,
            "grid_template_areas": null,
            "grid_template_columns": null,
            "grid_template_rows": null,
            "height": null,
            "justify_content": null,
            "justify_items": null,
            "left": null,
            "margin": null,
            "max_height": null,
            "max_width": null,
            "min_height": null,
            "min_width": null,
            "object_fit": null,
            "object_position": null,
            "order": null,
            "overflow": null,
            "overflow_x": null,
            "overflow_y": null,
            "padding": null,
            "right": null,
            "top": null,
            "visibility": null,
            "width": null
          }
        },
        "76d69785376e4c6ba6491d7e1746fb2e": {
          "model_module": "@jupyter-widgets/controls",
          "model_module_version": "1.5.0",
          "model_name": "HTMLModel",
          "state": {
            "_dom_classes": [],
            "_model_module": "@jupyter-widgets/controls",
            "_model_module_version": "1.5.0",
            "_model_name": "HTMLModel",
            "_view_count": null,
            "_view_module": "@jupyter-widgets/controls",
            "_view_module_version": "1.5.0",
            "_view_name": "HTMLView",
            "description": "",
            "description_tooltip": null,
            "layout": "IPY_MODEL_e4e032479ce6462bb183bd28a32d1dba",
            "placeholder": "​",
            "style": "IPY_MODEL_4d6f8b92dc74423bbd78cbf200687cab",
            "value": " 10/10 [06:34&lt;00:00,  1.75s/it]"
          }
        },
        "7ce93bf5c00249369b44608cb8d96052": {
          "model_module": "@jupyter-widgets/controls",
          "model_module_version": "1.5.0",
          "model_name": "DescriptionStyleModel",
          "state": {
            "_model_module": "@jupyter-widgets/controls",
            "_model_module_version": "1.5.0",
            "_model_name": "DescriptionStyleModel",
            "_view_count": null,
            "_view_module": "@jupyter-widgets/base",
            "_view_module_version": "1.2.0",
            "_view_name": "StyleView",
            "description_width": ""
          }
        },
        "8fc8358cfa6b4747a491417d432eba5a": {
          "model_module": "@jupyter-widgets/controls",
          "model_module_version": "1.5.0",
          "model_name": "DescriptionStyleModel",
          "state": {
            "_model_module": "@jupyter-widgets/controls",
            "_model_module_version": "1.5.0",
            "_model_name": "DescriptionStyleModel",
            "_view_count": null,
            "_view_module": "@jupyter-widgets/base",
            "_view_module_version": "1.2.0",
            "_view_name": "StyleView",
            "description_width": ""
          }
        },
        "92063e9f5c214274af09f042b36fbc10": {
          "model_module": "@jupyter-widgets/base",
          "model_module_version": "1.2.0",
          "model_name": "LayoutModel",
          "state": {
            "_model_module": "@jupyter-widgets/base",
            "_model_module_version": "1.2.0",
            "_model_name": "LayoutModel",
            "_view_count": null,
            "_view_module": "@jupyter-widgets/base",
            "_view_module_version": "1.2.0",
            "_view_name": "LayoutView",
            "align_content": null,
            "align_items": null,
            "align_self": null,
            "border": null,
            "bottom": null,
            "display": null,
            "flex": null,
            "flex_flow": null,
            "grid_area": null,
            "grid_auto_columns": null,
            "grid_auto_flow": null,
            "grid_auto_rows": null,
            "grid_column": null,
            "grid_gap": null,
            "grid_row": null,
            "grid_template_areas": null,
            "grid_template_columns": null,
            "grid_template_rows": null,
            "height": null,
            "justify_content": null,
            "justify_items": null,
            "left": null,
            "margin": null,
            "max_height": null,
            "max_width": null,
            "min_height": null,
            "min_width": null,
            "object_fit": null,
            "object_position": null,
            "order": null,
            "overflow": null,
            "overflow_x": null,
            "overflow_y": null,
            "padding": null,
            "right": null,
            "top": null,
            "visibility": null,
            "width": null
          }
        },
        "94de5b3529384b7a9c0561f8e3091a29": {
          "model_module": "@jupyter-widgets/controls",
          "model_module_version": "1.5.0",
          "model_name": "FloatProgressModel",
          "state": {
            "_dom_classes": [],
            "_model_module": "@jupyter-widgets/controls",
            "_model_module_version": "1.5.0",
            "_model_name": "FloatProgressModel",
            "_view_count": null,
            "_view_module": "@jupyter-widgets/controls",
            "_view_module_version": "1.5.0",
            "_view_name": "ProgressView",
            "bar_style": "",
            "description": "",
            "description_tooltip": null,
            "layout": "IPY_MODEL_d96d4957c562459ab9bd4892e53585b4",
            "max": 10,
            "min": 0,
            "orientation": "horizontal",
            "style": "IPY_MODEL_ef5173e5b84841678a1e88151c72d5c3",
            "value": 10
          }
        },
        "95dbdc8bffcf4a9b91b538bf16db4129": {
          "model_module": "@jupyter-widgets/controls",
          "model_module_version": "1.5.0",
          "model_name": "HTMLModel",
          "state": {
            "_dom_classes": [],
            "_model_module": "@jupyter-widgets/controls",
            "_model_module_version": "1.5.0",
            "_model_name": "HTMLModel",
            "_view_count": null,
            "_view_module": "@jupyter-widgets/controls",
            "_view_module_version": "1.5.0",
            "_view_name": "HTMLView",
            "description": "",
            "description_tooltip": null,
            "layout": "IPY_MODEL_92063e9f5c214274af09f042b36fbc10",
            "placeholder": "​",
            "style": "IPY_MODEL_8fc8358cfa6b4747a491417d432eba5a",
            "value": "Words/page: 289, line length: 9.6 words, 100.6 chars: 100%"
          }
        },
        "a337c85c75fa48d6b18fe80f939afc39": {
          "model_module": "@jupyter-widgets/controls",
          "model_module_version": "1.5.0",
          "model_name": "ProgressStyleModel",
          "state": {
            "_model_module": "@jupyter-widgets/controls",
            "_model_module_version": "1.5.0",
            "_model_name": "ProgressStyleModel",
            "_view_count": null,
            "_view_module": "@jupyter-widgets/base",
            "_view_module_version": "1.2.0",
            "_view_name": "StyleView",
            "bar_color": null,
            "description_width": ""
          }
        },
        "b2913c62a1bd4f59946c861ab98ccf5a": {
          "model_module": "@jupyter-widgets/base",
          "model_module_version": "1.2.0",
          "model_name": "LayoutModel",
          "state": {
            "_model_module": "@jupyter-widgets/base",
            "_model_module_version": "1.2.0",
            "_model_name": "LayoutModel",
            "_view_count": null,
            "_view_module": "@jupyter-widgets/base",
            "_view_module_version": "1.2.0",
            "_view_name": "LayoutView",
            "align_content": null,
            "align_items": null,
            "align_self": null,
            "border": null,
            "bottom": null,
            "display": null,
            "flex": null,
            "flex_flow": null,
            "grid_area": null,
            "grid_auto_columns": null,
            "grid_auto_flow": null,
            "grid_auto_rows": null,
            "grid_column": null,
            "grid_gap": null,
            "grid_row": null,
            "grid_template_areas": null,
            "grid_template_columns": null,
            "grid_template_rows": null,
            "height": null,
            "justify_content": null,
            "justify_items": null,
            "left": null,
            "margin": null,
            "max_height": null,
            "max_width": null,
            "min_height": null,
            "min_width": null,
            "object_fit": null,
            "object_position": null,
            "order": null,
            "overflow": null,
            "overflow_x": null,
            "overflow_y": null,
            "padding": null,
            "right": null,
            "top": null,
            "visibility": null,
            "width": null
          }
        },
        "b78f01b300884b6ba011c2e141600df0": {
          "model_module": "@jupyter-widgets/controls",
          "model_module_version": "1.5.0",
          "model_name": "HBoxModel",
          "state": {
            "_dom_classes": [],
            "_model_module": "@jupyter-widgets/controls",
            "_model_module_version": "1.5.0",
            "_model_name": "HBoxModel",
            "_view_count": null,
            "_view_module": "@jupyter-widgets/controls",
            "_view_module_version": "1.5.0",
            "_view_name": "HBoxView",
            "box_style": "",
            "children": [
              "IPY_MODEL_3ee74024c0a746a3a6b704522ef95f95",
              "IPY_MODEL_f7266c5125574ba6b56e28c25af7c894",
              "IPY_MODEL_76d69785376e4c6ba6491d7e1746fb2e"
            ],
            "layout": "IPY_MODEL_11c070fb870f4002a0c0d01f3e3eec58"
          }
        },
        "d96d4957c562459ab9bd4892e53585b4": {
          "model_module": "@jupyter-widgets/base",
          "model_module_version": "1.2.0",
          "model_name": "LayoutModel",
          "state": {
            "_model_module": "@jupyter-widgets/base",
            "_model_module_version": "1.2.0",
            "_model_name": "LayoutModel",
            "_view_count": null,
            "_view_module": "@jupyter-widgets/base",
            "_view_module_version": "1.2.0",
            "_view_name": "LayoutView",
            "align_content": null,
            "align_items": null,
            "align_self": null,
            "border": null,
            "bottom": null,
            "display": null,
            "flex": null,
            "flex_flow": null,
            "grid_area": null,
            "grid_auto_columns": null,
            "grid_auto_flow": null,
            "grid_auto_rows": null,
            "grid_column": null,
            "grid_gap": null,
            "grid_row": null,
            "grid_template_areas": null,
            "grid_template_columns": null,
            "grid_template_rows": null,
            "height": null,
            "justify_content": null,
            "justify_items": null,
            "left": null,
            "margin": null,
            "max_height": null,
            "max_width": null,
            "min_height": null,
            "min_width": null,
            "object_fit": null,
            "object_position": null,
            "order": null,
            "overflow": null,
            "overflow_x": null,
            "overflow_y": null,
            "padding": null,
            "right": null,
            "top": null,
            "visibility": null,
            "width": null
          }
        },
        "e4e032479ce6462bb183bd28a32d1dba": {
          "model_module": "@jupyter-widgets/base",
          "model_module_version": "1.2.0",
          "model_name": "LayoutModel",
          "state": {
            "_model_module": "@jupyter-widgets/base",
            "_model_module_version": "1.2.0",
            "_model_name": "LayoutModel",
            "_view_count": null,
            "_view_module": "@jupyter-widgets/base",
            "_view_module_version": "1.2.0",
            "_view_name": "LayoutView",
            "align_content": null,
            "align_items": null,
            "align_self": null,
            "border": null,
            "bottom": null,
            "display": null,
            "flex": null,
            "flex_flow": null,
            "grid_area": null,
            "grid_auto_columns": null,
            "grid_auto_flow": null,
            "grid_auto_rows": null,
            "grid_column": null,
            "grid_gap": null,
            "grid_row": null,
            "grid_template_areas": null,
            "grid_template_columns": null,
            "grid_template_rows": null,
            "height": null,
            "justify_content": null,
            "justify_items": null,
            "left": null,
            "margin": null,
            "max_height": null,
            "max_width": null,
            "min_height": null,
            "min_width": null,
            "object_fit": null,
            "object_position": null,
            "order": null,
            "overflow": null,
            "overflow_x": null,
            "overflow_y": null,
            "padding": null,
            "right": null,
            "top": null,
            "visibility": null,
            "width": null
          }
        },
        "ef5173e5b84841678a1e88151c72d5c3": {
          "model_module": "@jupyter-widgets/controls",
          "model_module_version": "1.5.0",
          "model_name": "ProgressStyleModel",
          "state": {
            "_model_module": "@jupyter-widgets/controls",
            "_model_module_version": "1.5.0",
            "_model_name": "ProgressStyleModel",
            "_view_count": null,
            "_view_module": "@jupyter-widgets/base",
            "_view_module_version": "1.2.0",
            "_view_name": "StyleView",
            "bar_color": null,
            "description_width": ""
          }
        },
        "f7266c5125574ba6b56e28c25af7c894": {
          "model_module": "@jupyter-widgets/controls",
          "model_module_version": "1.5.0",
          "model_name": "FloatProgressModel",
          "state": {
            "_dom_classes": [],
            "_model_module": "@jupyter-widgets/controls",
            "_model_module_version": "1.5.0",
            "_model_name": "FloatProgressModel",
            "_view_count": null,
            "_view_module": "@jupyter-widgets/controls",
            "_view_module_version": "1.5.0",
            "_view_name": "ProgressView",
            "bar_style": "success",
            "description": "",
            "description_tooltip": null,
            "layout": "IPY_MODEL_5339e0b81ccd4737b81eefbff62d66b0",
            "max": 10,
            "min": 0,
            "orientation": "horizontal",
            "style": "IPY_MODEL_a337c85c75fa48d6b18fe80f939afc39",
            "value": 10
          }
        }
      }
    }
  },
  "nbformat": 4,
  "nbformat_minor": 0
}
