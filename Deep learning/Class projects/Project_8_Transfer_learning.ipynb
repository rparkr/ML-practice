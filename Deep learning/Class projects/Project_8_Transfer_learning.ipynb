{
  "cells": [
    {
      "cell_type": "markdown",
      "metadata": {
        "id": "xnoEhAVvBcMj"
      },
      "source": [
        "#Lab 9: Transfer Learning/Fine-Tuning"
      ]
    },
    {
      "cell_type": "markdown",
      "metadata": {
        "id": "sBOvJdJfkXIL"
      },
      "source": [
        "## Description"
      ]
    },
    {
      "cell_type": "markdown",
      "metadata": {
        "id": "GiuvTUWOjtBC"
      },
      "source": [
        "### Objective\n",
        "\n",
        "- Gain experience fine-tuning pre-trained models to domain-specific applications.\n",
        "\n",
        "### Deliverable\n",
        "\n",
        "For this lab you will submit an ipython notebook via learning suite. The bulk of the work is in fine-tuning a pre-trained ResNet. Fine-tuning the GPT-2 language model is pretty easy. The provided code works as is; you will just have to swap in your own text dataset.\n",
        "\n",
        "### Grading\n",
        "\n",
        "- 35% Create a dataset class for your own dataset\n",
        "- 35% Create a network class that wraps a pretrained ResNet\n",
        "- 20% Implement unfreezing in the network class\n",
        "- 10% Fine-tune GPT-2 on your own dataset\n",
        "\n",
        "### Tips\n",
        "- Your life will be better if you download a dataset that already has the data in the expected format for ImageFolder (make sure to read the documentation!). The datasets recommended below are in the correct format.\n",
        "- Get the CNN working on the provided dataset (bird species classification) before swapping in your own.\n",
        "- For reference on freezing/unfreezing network weights, see [this github gist](https://gist.github.com/jcjohnson/6e41e8512c17eae5da50aebef3378a4c)\n",
        "- For training GPT-2, first try the medium-size (355M parameter) model. If your Colab instance doesn't have enough GPU space, you may need to switch to the small-size (124M parameter) model, but the results will be less impressive."
      ]
    },
    {
      "cell_type": "code",
      "execution_count": 1,
      "metadata": {
        "id": "dKzRORuLBNLR"
      },
      "outputs": [],
      "source": [
        "import torchvision\n",
        "from torchvision.models import resnet152\n",
        "from torchvision import transforms, datasets\n",
        "from torch.utils.data import DataLoader, Dataset\n",
        "import torch\n",
        "from torch import optim, nn\n",
        "import zipfile\n",
        "from google.colab import files\n",
        "import os\n",
        "import sys\n",
        "from PIL import Image, ImageOps\n",
        "from tqdm.notebook import tqdm\n",
        "import numpy as np\n",
        "from matplotlib import pyplot as plt"
      ]
    },
    {
      "cell_type": "markdown",
      "metadata": {
        "id": "S4R3D8Mr8b54"
      },
      "source": [
        "## 1 Fine-tune a ResNet for image classification"
      ]
    },
    {
      "cell_type": "markdown",
      "metadata": {
        "id": "kFoEeTYHDq2s"
      },
      "source": [
        "### 1.1 Find a dataset to fine-tune on, and make a Dataset class (1 hr.)"
      ]
    },
    {
      "cell_type": "markdown",
      "metadata": {
        "id": "7z6g7a_Y84n0"
      },
      "source": [
        "#### TODO:"
      ]
    },
    {
      "cell_type": "markdown",
      "metadata": {
        "id": "P8NtFZRd5hcm"
      },
      "source": [
        "- Inherit from torch.utils.data.Dataset\n",
        "- Use a [torchvision.datasets.ImageFolder](https://pytorch.org/docs/stable/torchvision/datasets.html#torchvision.datasets.ImageFolder)\n",
        "- Don't spend too long finding another dataset. Some suggestions that you are free to use:\n",
        " - https://www.kaggle.com/akash2907/bird-species-classification\n",
        " - https://www.kaggle.com/jessicali9530/stanford-dogs-dataset\n",
        " - https://www.kaggle.com/puneet6060/intel-image-classification\n"
      ]
    },
    {
      "cell_type": "markdown",
      "metadata": {
        "id": "TBigIUFTukeJ"
      },
      "source": [
        "#### Help for downloading kaggle datasets\n",
        "Downloading Kaggle datasets requires authentication, so you can't just download from a url. Here are some step-by-step instructions of how to get Kaggle datasets in Colab"
      ]
    },
    {
      "cell_type": "markdown",
      "metadata": {
        "id": "_X29UC6CvwfQ"
      },
      "source": [
        "1. Create an API key in Kaggle\n",
        "    - Click on profile photo\n",
        "    - Go to 'My Account'\n",
        "    - Scroll down to the API access section and click \"Create New API Token\"\n",
        "    - `kaggle.json` is now downloaded to your computer\n",
        "\n",
        "2. Upload the API key and install the Kaggle API client by running the next cell (run it again if it throws an error the first time). Also, `files.upload()` may not work in Firefox. One solution is to expand the Files banner (indicated by the '>' tab on the left side of the page) and use that to upload the key."
      ]
    },
    {
      "cell_type": "code",
      "execution_count": 2,
      "metadata": {
        "colab": {
          "base_uri": "https://localhost:8080/",
          "height": 92,
          "resources": {
            "http://localhost:8080/nbextensions/google.colab/files.js": {
              "data": "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",
              "headers": [
                [
                  "content-type",
                  "application/javascript"
                ]
              ],
              "ok": true,
              "status": 200,
              "status_text": ""
            }
          }
        },
        "id": "Mhjc0pM7jOoZ",
        "outputId": "88cd4ea3-86a4-48d4-9243-b0239502d670"
      },
      "outputs": [
        {
          "data": {
            "text/html": [
              "\n",
              "     <input type=\"file\" id=\"files-fe142e5d-6560-4eb7-8585-2aa36143a81a\" name=\"files[]\" multiple disabled\n",
              "        style=\"border:none\" />\n",
              "     <output id=\"result-fe142e5d-6560-4eb7-8585-2aa36143a81a\">\n",
              "      Upload widget is only available when the cell has been executed in the\n",
              "      current browser session. Please rerun this cell to enable.\n",
              "      </output>\n",
              "      <script src=\"/nbextensions/google.colab/files.js\"></script> "
            ],
            "text/plain": [
              "<IPython.core.display.HTML object>"
            ]
          },
          "metadata": {},
          "output_type": "display_data"
        },
        {
          "name": "stdout",
          "output_type": "stream",
          "text": [
            "Saving kaggle.json to kaggle.json\n",
            "-rw-r--r-- 1 root root 62 Mar 13 01:43 kaggle.json\n"
          ]
        }
      ],
      "source": [
        "# Run this cell and select the kaggle.json file downloaded\n",
        "# from the Kaggle account settings page.\n",
        "from google.colab import files\n",
        "files.upload()\n",
        "# Next, install the Kaggle API client.\n",
        "!pip install -q kaggle\n",
        "# Let's make sure the kaggle.json file is present.\n",
        "!ls -lha kaggle.json\n",
        "# The Kaggle API client expects this file to be in ~/.kaggle,\n",
        "# so move it there.\n",
        "!mkdir -p ~/.kaggle\n",
        "!mv kaggle.json ~/.kaggle/\n",
        "# This permissions change avoids a warning on Kaggle tool startup.\n",
        "!chmod 600 ~/.kaggle/kaggle.json"
      ]
    },
    {
      "cell_type": "markdown",
      "metadata": {
        "id": "AGlIa4SIwEXB"
      },
      "source": [
        "3. Copy the desired dataset locally"
      ]
    },
    {
      "cell_type": "code",
      "execution_count": 3,
      "metadata": {
        "colab": {
          "base_uri": "https://localhost:8080/"
        },
        "id": "7HtB-XdIr1EE",
        "outputId": "932fa76c-485c-4f9f-f76a-e1f47a17a43c"
      },
      "outputs": [
        {
          "name": "stdout",
          "output_type": "stream",
          "text": [
            "Downloading intel-image-classification.zip to /content\n",
            " 99% 343M/346M [00:09<00:00, 51.0MB/s]\n",
            "100% 346M/346M [00:09<00:00, 38.7MB/s]\n"
          ]
        }
      ],
      "source": [
        "# Example download command for dataset found here: https://www.kaggle.com/akash2907/bird-species-classification\n",
        "# !kaggle datasets download -d akash2907/bird-species-classification\n",
        "\n",
        "# Download the Intel Images dataset (referenced above)\n",
        "!kaggle datasets download -d puneet6060/intel-image-classification"
      ]
    },
    {
      "cell_type": "markdown",
      "metadata": {
        "id": "zcz0JGXjxFGe"
      },
      "source": [
        "#### Make the Dataset class\n",
        "See the implementation below for reference, and make your own."
      ]
    },
    {
      "cell_type": "code",
      "execution_count": null,
      "metadata": {
        "id": "lthPlsGeK4CX"
      },
      "outputs": [],
      "source": [
        "# class BirdDataset(Dataset):\n",
        "#     def __init__(self, zip_file='./bird-species-classification.zip', size=256, train=True, upload=False):\n",
        "#         super(BirdDataset, self).__init__()\n",
        "        \n",
        "#         self.train = train\n",
        "#         extract_dir = os.path.splitext(zip_file)[0]\n",
        "#         if not os.path.exists(extract_dir):\n",
        "#             os.makedirs(extract_dir)\n",
        "#             self.extract_zip(zip_file, extract_dir)\n",
        "#             # Resize the images - originally they are high resolution. We could do this\n",
        "#             # in the DataLoader, but it will read the full-resolution files from disk\n",
        "#             # every time before resizing them, making training slow\n",
        "#             self.resize(extract_dir, size=size)\n",
        "\n",
        "#         postfix = 'train' if train else 'test'\n",
        "            \n",
        "#         if train:\n",
        "#             # The bird-species dataset mistakenly has a train_data folder inside of train_data\n",
        "#             self.dataset_folder = datasets.ImageFolder(os.path.join(extract_dir, 'train_data', 'train_data'), transform=transforms.Compose([transforms.ToTensor()]))\n",
        "#         else:\n",
        "#             self.dataset_folder = datasets.ImageFolder(os.path.join(extract_dir, 'test_data', 'test_data'), transform=transforms.Compose([transforms.ToTensor()]))\n",
        "\n",
        "#     def extract_zip(self, zip_file, extract_dir):\n",
        "#         print(\"Extracting\", zip_file)\n",
        "#         with zipfile.ZipFile(zip_file, 'r') as zip_ref:\n",
        "#             zip_ref.extractall(extract_dir)\n",
        "\n",
        "#     def resize(self, path, size=256):\n",
        "#         \"\"\"Resizes all images in place\"\"\"\n",
        "#         print(\"Resizing images\")\n",
        "#         dirs = os.walk(path)\n",
        "#         for root, dirs, files in os.walk(path):\n",
        "#             for item in files:\n",
        "#                 name = os.path.join(root, item)\n",
        "#                 if os.path.isfile(name):\n",
        "#                     im = Image.open(name)\n",
        "#                     im = ImageOps.fit(im, (size, size))\n",
        "#                     im.save(name[:-3] + 'bmp', 'BMP')\n",
        "#                     os.remove(name)\n",
        "\n",
        "#     def __getitem__(self, i):\n",
        "#         return self.dataset_folder[i]\n",
        "\n",
        "#     def __len__(self):\n",
        "#         return len(self.dataset_folder)\n",
        "\n",
        "# bird_data = BirdDataset()"
      ]
    },
    {
      "cell_type": "markdown",
      "metadata": {
        "id": "aep3EkrLkZ3u"
      },
      "source": [
        "Here, I use the Intel Image Classification dataset referenced above. It can be found at: https://www.kaggle.com/puneet6060/intel-image-classification.\n",
        "\n",
        "Even with a GPU, the Intel dataset takes 6hrs of training time per epoch. I implemented the Intel dataset properly and you can run this notebook using this dataset, but training will take much longer. I recommend using the custom vehicle images dataset from the cells below.\n",
        "\n",
        "The Intel Images dataset has a folder structure like this:\n",
        "\n",
        "```python\n",
        "# intel-image-classification\n",
        "# --> seg_pred\n",
        "#   --> seg_pred\n",
        "#       --> 10004.jpg\n",
        "#       --> ...\n",
        "# --> seg_test\n",
        "#   --> seg_test\n",
        "#       --> buildings\n",
        "#           --> 20057.jpg\n",
        "#           --> ...\n",
        "#       --> forest\n",
        "#       --> glacier\n",
        "#       --> mountain\n",
        "#       --> sea\n",
        "#       --> street\n",
        "# --> seg_train\n",
        "#   --> seg_train\n",
        "#       --> buildings\n",
        "#           --> 0.jpg\n",
        "#           --> ...\n",
        "#       --> forest\n",
        "#       --> glacier\n",
        "#       --> mountain\n",
        "#       --> sea\n",
        "#       --> street\n",
        "```\n",
        "\n"
      ]
    },
    {
      "cell_type": "code",
      "execution_count": 4,
      "metadata": {
        "colab": {
          "base_uri": "https://localhost:8080/"
        },
        "id": "5jHFdToeDtIF",
        "outputId": "6502c2da-8325-4361-809e-f31940d632c4"
      },
      "outputs": [
        {
          "name": "stdout",
          "output_type": "stream",
          "text": [
            "Extracting ./intel-image-classification.zip\n",
            "Done! Image dataset extracted to ./intel-image-classification\n",
            "Resizing images\n"
          ]
        }
      ],
      "source": [
        "# ==========================\n",
        "# Implement your own Dataset\n",
        "# ==========================\n",
        "class IntelDataset(Dataset):\n",
        "    def __init__(self, zip_file='./intel-image-classification.zip', \n",
        "                 height_resize=100, width_resize=100, train=True, upload=False):\n",
        "        super().__init__()\n",
        "        \n",
        "        self.train = train\n",
        "        extract_dir = os.path.splitext(zip_file)[0]\n",
        "        if not os.path.exists(extract_dir):\n",
        "            os.makedirs(extract_dir)\n",
        "            self.extract_zip(zip_file, extract_dir)\n",
        "            # Resize the images - originally they are high resolution. We could do this\n",
        "            # in the DataLoader, but it will read the full-resolution files from disk\n",
        "            # every time before resizing them, making training slow\n",
        "            self.resize(extract_dir, height=height_resize, width=width_resize)\n",
        "            \n",
        "        if train:\n",
        "            # The Intel Image Classification dataset has a folder structure like this:\n",
        "            # intel-image-classification --> seg_train --> seg_train --> (folders for each class)\n",
        "            # intel-image-classification --> seg_test --> seg_test --> (folders for each class)\n",
        "            self.dataset_folder = datasets.ImageFolder(os.path.join(extract_dir, 'seg_train', 'seg_train'), transform=transforms.Compose([transforms.ToTensor()]))\n",
        "        else:\n",
        "            self.dataset_folder = datasets.ImageFolder(os.path.join(extract_dir, 'seg_test', 'seg_test'), transform=transforms.Compose([transforms.ToTensor()]))\n",
        "\n",
        "    def extract_zip(self, zip_file, extract_dir):\n",
        "        print(\"Extracting\", zip_file)\n",
        "        with zipfile.ZipFile(zip_file, 'r') as zip_ref:\n",
        "            zip_ref.extractall(extract_dir)\n",
        "        print(f'Done! Image dataset extracted to {extract_dir}')\n",
        "\n",
        "    def resize(self, path, size=150):\n",
        "        \"\"\"Resizes all images in place\"\"\"\n",
        "        print(\"Resizing images\")\n",
        "        dirs = os.walk(path)\n",
        "        for root, dirs, files in os.walk(path):\n",
        "            for item in files:\n",
        "                name = os.path.join(root, item)\n",
        "                if os.path.isfile(name):\n",
        "                    im = Image.open(name)\n",
        "                    im = ImageOps.fit(im, (size, size))\n",
        "                    im.save(name[:-3] + 'bmp', 'BMP')\n",
        "                    os.remove(name)\n",
        "        print(f'Done! All images resized to {size} by {size} pixels.')\n",
        "\n",
        "    def __getitem__(self, i):\n",
        "        return self.dataset_folder[i]\n",
        "\n",
        "    def __len__(self):\n",
        "        return len(self.dataset_folder)\n",
        "\n",
        "\n",
        "# Instantiate the dataset\n",
        "intel_data = IntelDataset()"
      ]
    },
    {
      "cell_type": "markdown",
      "metadata": {
        "id": "dCfVhTLWD160"
      },
      "source": [
        "### My custom dataset: vehicle images\n",
        "I'm using this dataset because it is much smaller than the Intel one, so it trains faster.\n",
        "\n",
        "I use a custom image dataset I scraped from CarAndDriver.com (after reviewing the site's [robots.txt](https://www.caranddriver.com/robots.txt) page, which allows algorithmic access to the content I selected).\n",
        "\n",
        "**Source: CarAndDriver.com**\n",
        "\n",
        "vehicle_specs.csv (650 images)\n",
        "\n",
        "https://raw.githubusercontent.com/rparkr/ML-practice/main/Vehicle%20specs/Final%20project/vehicle_specs.csv"
      ]
    },
    {
      "cell_type": "code",
      "execution_count": 2,
      "metadata": {
        "id": "KRaRBVtZ8yUI"
      },
      "outputs": [],
      "source": [
        "import pandas as pd             # store and analyze tabular data (like .csv files)\n",
        "import requests                 # access and download web content\n",
        "import os                       # manage directories\n",
        "from tqdm.notebook import tqdm  # create progress bars\n",
        "import time                     # pause code execution\n",
        "import random                   # create random train/test splits\n",
        "from PIL import Image           # image manipulation\n",
        "from io import BytesIO          # processing bytestreams (downloaded images)"
      ]
    },
    {
      "cell_type": "code",
      "execution_count": 3,
      "metadata": {
        "id": "GNOZDcDoTO0f"
      },
      "outputs": [],
      "source": [
        "# Create training and test sets from a given list\n",
        "def train_test_split(input_list, train_split_pct = 0.7):\n",
        "    '''\n",
        "    Takes `input_list` and returns a tuple: `(train_list, test_list)`,\n",
        "    where both lists are created from a random sample from the input_list.\n",
        "\n",
        "    `train_split_pct` sets the percentage of items from input_list that\n",
        "    will be included in the `train_list`. All items not selected for the\n",
        "    `train_list` are included in the `test_list`.\n",
        "    '''\n",
        "    sample_size = int(round(len(input_list) * train_split_pct, 0))\n",
        "    train_list = random.sample(input_list, k=sample_size)\n",
        "    test_list = [item for item in input_list if item not in train_list]\n",
        "    return train_list, test_list"
      ]
    },
    {
      "cell_type": "code",
      "execution_count": 4,
      "metadata": {
        "colab": {
          "base_uri": "https://localhost:8080/"
        },
        "id": "xXlTKBpPgjmX",
        "outputId": "7903513d-0beb-4064-eb64-177118d6b9f5"
      },
      "outputs": [
        {
          "name": "stdout",
          "output_type": "stream",
          "text": [
            "['O', 'H', 'N', 'E', 'R', 'S', 'W', 'T', 'F', 'C', 'B', 'Y', 'Z', 'I', 'J', 'Q']\n",
            "['A', 'D', 'G', 'K', 'L', 'M', 'P', 'U', 'V', 'X']\n"
          ]
        }
      ],
      "source": [
        "sample_list = list('ABCDEFGHIJKLMNOPQRSTUVWXYZ')\n",
        "train_list, test_list = train_test_split(sample_list, 0.6)\n",
        "print(train_list)\n",
        "print(test_list)"
      ]
    },
    {
      "cell_type": "code",
      "execution_count": 5,
      "metadata": {
        "colab": {
          "base_uri": "https://localhost:8080/"
        },
        "id": "ffzNh5iS82Qd",
        "outputId": "7887f81d-94f6-432d-be2d-30fd90926c50"
      },
      "outputs": [
        {
          "name": "stdout",
          "output_type": "stream",
          "text": [
            "Done! Dictionary loaded with 643 images.\n",
            "Example:\n"
          ]
        },
        {
          "data": {
            "text/plain": [
              "['387_pickup.jpg',\n",
              " '389_pickup.jpg',\n",
              " '393_pickup.jpg',\n",
              " '394_pickup.jpg',\n",
              " '396_pickup.jpg']"
            ]
          },
          "execution_count": 5,
          "metadata": {},
          "output_type": "execute_result"
        }
      ],
      "source": [
        "df = pd.read_csv('https://raw.githubusercontent.com/rparkr/ML-practice/main/Vehicle%20specs/Final%20project/vehicle_specs.csv')\n",
        "\n",
        "# Keep only the columns needed: Year, Make, Model, and Image URL\n",
        "df = df[['Year', 'Make', 'Model', 'Body_style', 'Image']].dropna()\n",
        "\n",
        "body_style_replace = {\n",
        "    'sedan': 'car',\n",
        "    'coupe': 'car',\n",
        "    'convertible': 'car',\n",
        "    'station wagon': 'hatchback',\n",
        "    'station-wagon': 'hatchback'\n",
        "}\n",
        "\n",
        "# Combine similar values of body_style to reduce the number of categories\n",
        "for key, val in body_style_replace.items():\n",
        "    df.loc[df['Body_style'] == key, 'Body_style'] = val\n",
        "\n",
        "# Sort the DataFrame by the category column, and reset the index\n",
        "df = df.sort_values(by=['Body_style'], ignore_index=True)\n",
        "\n",
        "# List images in a dictionary by category\n",
        "# img_catgories = {\n",
        "#     'car': {'all': ['img_01.jpg', 'img_02.jpg'],\n",
        "#             'urls': ['https://example.com/img01.jpg', ...],\n",
        "#             'train': ['img_01.jpg'],\n",
        "#             'test': ['img_02.jpg']},\n",
        "#     'car': {'all': ['img_03.jpg', 'img_04.jpg'],\n",
        "#             'urls': ['https://example.com/img03.jpg', ...],\n",
        "#             'train': ['img_03.jpg'],\n",
        "#             'test': ['img_04.jpg']},\n",
        "#     ...\n",
        "# }\n",
        "img_categories = {}\n",
        "for catg in df['Body_style'].unique().tolist():\n",
        "    img_categories[catg] = {'all': [], 'urls': [], 'train': [], 'test': []}\n",
        "\n",
        "# Populate the dictionary, which will store the folder structure of the dataset\n",
        "for n, year, make, model, body_style, image_url in df.itertuples():\n",
        "    # Capture the final 4 characters of the URL (the image type)\n",
        "    filetype_start = image_url.rfind('.')\n",
        "    filetype = image_url[filetype_start:]\n",
        "    # Name the file: n_bodystyle.jpg\n",
        "    filename = f'{n}_{body_style}{filetype}'\n",
        "    # Add to dictionary\n",
        "    img_categories[body_style]['all'].append(filename)\n",
        "    img_categories[body_style]['urls'].append(image_url)\n",
        "\n",
        "# Create the training and testing splits\n",
        "for catg in img_categories:\n",
        "    train, test = train_test_split(img_categories[catg]['all'], train_split_pct=0.8)\n",
        "    img_categories[catg]['train'] = train\n",
        "    img_categories[catg]['test'] = test\n",
        "\n",
        "print(f'Done! Dictionary loaded with {len(df.index)} images.')\n",
        "print('Example:')\n",
        "img_categories['pickup']['test']"
      ]
    },
    {
      "cell_type": "markdown",
      "metadata": {
        "id": "oqtXXnL7mq5d"
      },
      "source": [
        "Create a function to resize images and then save them to folders in the format expected by `torchvision.datasets.ImageFolder`. See: https://pytorch.org/vision/stable/generated/torchvision.datasets.ImageFolder.html"
      ]
    },
    {
      "cell_type": "code",
      "execution_count": 6,
      "metadata": {
        "id": "RbM2n2oEABDW"
      },
      "outputs": [],
      "source": [
        "def resize_and_save(img_dict_folder_structure, resize_dims=(242, 148)):\n",
        "    '''\n",
        "    Takes as input the `img_dict_folder_structure`, which is the\n",
        "    `img_categories` dictionary created in the previous cell.\n",
        "\n",
        "    Creates folders in the current working directory in the structure\n",
        "    expected by torchvision.datasets.ImageFolder.\n",
        "\n",
        "    Downloads images from URLs, then resizes them, then saves them\n",
        "    to the folders created in this function.\n",
        "\n",
        "    Package dependencies:\n",
        "    - os\n",
        "    - io.BytesIO\n",
        "    - PIL.Image\n",
        "    - requests\n",
        "    - tqdm (progress bars)\n",
        "    '''\n",
        "    # Save images to folders\n",
        "    # ======================\n",
        "    catg_dict = img_dict_folder_structure\n",
        "\n",
        "    # Create folders if they do not already exist\n",
        "    if not os.path.exists('./vehicles'):\n",
        "        for mode in ['train', 'test']:\n",
        "            for catg in catg_dict.keys():\n",
        "                os.makedirs(f'./vehicles/{mode}/{catg}')\n",
        "    \n",
        "    progress = tqdm(total=sum([len(catg_dict[catg]['all']) for catg in catg_dict]))\n",
        "    \n",
        "    # Loop through image folder dictionary\n",
        "    for catg in catg_dict:\n",
        "        for mode in ['train', 'test']:\n",
        "            for item in catg_dict[catg][mode]:\n",
        "                item_index = catg_dict[catg]['all'].index(item)\n",
        "                img_url = catg_dict[catg]['urls'][item_index]    \n",
        "                # Download image (binary file)\n",
        "                img_to_save = requests.get(img_url).content\n",
        "                try:\n",
        "                    with Image.open(BytesIO(img_to_save)) as img:\n",
        "                        # Use PIL to convert to RGB (in case the image is RGBA)\n",
        "                        # See: https://pillow.readthedocs.io/en/latest/handbook/concepts.html#modes\n",
        "                        # And: https://www.kite.com/python/answers/how-to-convert-a-rgba-image-to-a-rgb-image-with-pil-in-python\n",
        "                        if img.mode == 'RGBA':\n",
        "                            img = img.convert(mode='RGB')\n",
        "                        # Resize image in the dimensions: width x height\n",
        "                        img = img.resize(size=resize_dims)\n",
        "                        # Save image\n",
        "                        img.save(f'./vehicles/{mode}/{catg}/{item}', format='JPEG')\n",
        "                except Image.UnidentifiedImageError:\n",
        "                    print(f'Could not save {mode} image {item} with url {img_url}')\n",
        "                # Update progress bar\n",
        "                progress.update(n=1)\n",
        "                # Pause for 10 milliseconds, as requested by CarAndDriver.com/robots.txt\n",
        "                time.sleep(0.01)"
      ]
    },
    {
      "cell_type": "code",
      "execution_count": 7,
      "metadata": {
        "colab": {
          "base_uri": "https://localhost:8080/",
          "height": 215,
          "referenced_widgets": [
            "025ff37d1df647bcaa447987876ca274",
            "c52b832faa8b4996ad976a2aa1e8d376",
            "9b77d5f236a543b99b88d9322862fd1a",
            "e2e639ee81df4227acea336c0ed3aa93",
            "0f867013b3014e728bd15c7ad8cb6ca0",
            "7fa64a86ee1949f2be82bed2a19564d2",
            "ebd2c37484e6490d8ef77a37abd2a8a8",
            "e997355d61084d5caba4b6bc08d5fdee",
            "4d24077c6e524590a33bc620d97b5ebf",
            "7b90047cda93475797e349a946c7ae18",
            "da59f2cd999e411c99699fb84ef30e6c"
          ]
        },
        "id": "-Pm2cn1ru3sJ",
        "outputId": "54459c82-a35f-40ff-e06b-7edcf51e780d"
      },
      "outputs": [
        {
          "data": {
            "application/vnd.jupyter.widget-view+json": {
              "model_id": "025ff37d1df647bcaa447987876ca274",
              "version_major": 2,
              "version_minor": 0
            },
            "text/plain": [
              "  0%|          | 0/643 [00:00<?, ?it/s]"
            ]
          },
          "metadata": {},
          "output_type": "display_data"
        },
        {
          "name": "stdout",
          "output_type": "stream",
          "text": [
            "Could not save train image 128_car.jpg with url https://hips.hearstapps.com/amv-prod-cad-assets.s3.amazonaws.com/media/assets/submodel/6760.jpg\n",
            "Could not save train image 47_car.jpg with url https://hips.hearstapps.com/amv-prod-cad-assets.s3.amazonaws.com/media/assets/submodel/8597.jpg\n",
            "Could not save train image 172_car.jpg with url https://hips.hearstapps.com/amv-prod-cad-assets.s3.amazonaws.com/media/assets/submodel/4506.jpg\n",
            "Could not save train image 316_hatchback.jpg with url https://hips.hearstapps.com/amv-prod-cad-assets.s3.amazonaws.com/media/assets/submodel/7184.jpg\n",
            "Could not save train image 355_hatchback.jpg with url https://hips.hearstapps.com/amv-prod-cad-assets.s3.amazonaws.com/media/assets/submodel/8825.jpg\n"
          ]
        },
        {
          "name": "stderr",
          "output_type": "stream",
          "text": [
            "/usr/local/lib/python3.7/dist-packages/PIL/Image.py:2800: DecompressionBombWarning: Image size (134497676 pixels) exceeds limit of 89478485 pixels, could be decompression bomb DOS attack.\n",
            "  DecompressionBombWarning,\n"
          ]
        },
        {
          "name": "stdout",
          "output_type": "stream",
          "text": [
            "Could not save test image 586_suv.jpg with url https://hips.hearstapps.com/amv-prod-cad-assets.s3.amazonaws.com/media/assets/submodel/8409.jpg\n"
          ]
        }
      ],
      "source": [
        "resize_and_save(img_categories, resize_dims=(242, 148))"
      ]
    },
    {
      "cell_type": "markdown",
      "metadata": {
        "id": "51izZpt_mtg4"
      },
      "source": [
        "### Dataset class\n",
        "\n",
        "References\n",
        "* https://github.com/utkuozbulak/pytorch-custom-dataset-examples\n",
        "* https://pytorch.org/vision/stable/datasets.html\n",
        "* https://pytorch.org/docs/stable/data.html\n",
        "\n",
        "Note on transforms\n",
        "\n",
        "The images have the aspect ratio (800/489 = 1.635). I resized the images to (242w x 148h) to preserve the aspect ratio and saved them to a folder.\n",
        "\n",
        "In the Dataset class implemented below, I take a center crop of (128h x 128w)."
      ]
    },
    {
      "cell_type": "code",
      "execution_count": 8,
      "metadata": {
        "id": "W9hqrCUFmsmX"
      },
      "outputs": [],
      "source": [
        "import torchvision\n",
        "from torchvision import transforms\n",
        "from torch.utils.data import Dataset, DataLoader\n",
        "from PIL import Image\n",
        "\n",
        "class vehicle_dataset(Dataset):\n",
        "    def __init__(self, path_to_folder, train=True, center_crop_size=148):\n",
        "        # No need to inherit from the base class (torch.utils.data.Dataset)\n",
        "        # That is, we don't need: super().__init__()\n",
        "        self.tforms = transforms.Compose(\n",
        "            [\n",
        "                # transforms.CenterCrop(center_crop_size),\n",
        "                transforms.ToTensor()\n",
        "            ])\n",
        "        \n",
        "        if train:\n",
        "            self.dataset_folder = torchvision.datasets.ImageFolder(\n",
        "                path_to_folder + '/train/',\n",
        "                transform=self.tforms)\n",
        "        else:\n",
        "            self.dataset_folder = torchvision.datasets.ImageFolder(\n",
        "                path_to_folder + '/test/',\n",
        "                transform=self.tforms)\n",
        "\n",
        "    def __getitem__(self, index):\n",
        "        return self.dataset_folder[index]\n",
        "    \n",
        "    def __len__(self):\n",
        "        return len(self.dataset_folder)"
      ]
    },
    {
      "cell_type": "code",
      "execution_count": 9,
      "metadata": {
        "colab": {
          "base_uri": "https://localhost:8080/",
          "height": 274
        },
        "id": "oDPOewCZPB23",
        "outputId": "fd349f69-8540-4be8-e0fd-1d9b767b3c5c"
      },
      "outputs": [
        {
          "data": {
            "text/plain": [
              "<matplotlib.image.AxesImage at 0x7fe0d890db50>"
            ]
          },
          "execution_count": 9,
          "metadata": {},
          "output_type": "execute_result"
        },
        {
          "data": {
            "image/png": "[encoded data removed]",
            "text/plain": [
              "<Figure size 432x288 with 1 Axes>"
            ]
          },
          "metadata": {
            "needs_background": "light"
          },
          "output_type": "display_data"
        }
      ],
      "source": [
        "import matplotlib.pyplot as plt\n",
        "\n",
        "vehicle_train_dataset = vehicle_dataset('./vehicles', train=True)\n",
        "vehicle_test_dataset = vehicle_dataset('./vehicles', train=False)\n",
        "img_tensor = vehicle_train_dataset[122]\n",
        "\n",
        "plt.imshow(img_tensor[0].transpose(0,2).transpose(0,1).cpu().numpy())"
      ]
    },
    {
      "cell_type": "markdown",
      "metadata": {
        "id": "2vJVbYcAJAf2"
      },
      "source": [
        "### 1.2 Wrap a pretrained ResNet in an `nn.Module` (30 min)"
      ]
    },
    {
      "cell_type": "markdown",
      "metadata": {
        "id": "gMOzGDND9FD1"
      },
      "source": [
        "#### TODO:"
      ]
    },
    {
      "cell_type": "markdown",
      "metadata": {
        "id": "jLvmDHbl9IyG"
      },
      "source": [
        "- Make a model class that inherits from `nn.Module`\n",
        "- Wrap a pretrained ResNet and swap out the last layer of that network with a layer that maps to the number of classes in your new dataset"
      ]
    },
    {
      "cell_type": "markdown",
      "metadata": {
        "id": "eOtl8z8G9wbr"
      },
      "source": [
        "#### Make your model class"
      ]
    },
    {
      "cell_type": "code",
      "execution_count": 10,
      "metadata": {
        "id": "AY-XU4Mwas0j"
      },
      "outputs": [],
      "source": [
        "class ResNetVehicles(nn.Module):\n",
        "    def __init__(self, num_classes, start_frozen=False):\n",
        "        super().__init__()\n",
        "\n",
        "        # Part 1.2\n",
        "        # Load the model - make sure it is pre-trained\n",
        "        self.model = torchvision.models.resnet152(pretrained=True, progress=True)\n",
        "\n",
        "        # Store a dictionary with model layers, to use for unfreezing\n",
        "        self.model_layers = {n:child for n, child in enumerate(self.model.children())}\n",
        "\n",
        "        # The -1 sets the layer count to a 0-based index\n",
        "        self.num_layers = len(self.model_layers)\n",
        "\n",
        "        # Part 1.4\n",
        "        if start_frozen:\n",
        "            # Turn off all gradients of the resnet\n",
        "            for param in self.model.parameters():\n",
        "                param.requires_grad = False\n",
        "\n",
        "        # Part 1.2\n",
        "        # Look at the code of torchvision.models.resnet152 to find the name of the attribute to override (the last layer of the resnet)\n",
        "        # Override the last layer of the neural network to map to the correct number of classes. Note that this new layer has requires_grad = True\n",
        "        # See: https://github.com/pytorch/vision/blob/main/torchvision/models/resnet.py#L204\n",
        "        # Also: https://pytorch.org/vision/master/generated/torchvision.models.resnet152.html\n",
        "        self.model.fc = nn.Linear(self.model.fc.in_features, num_classes)\n",
        "        for param in self.model.fc.parameters():\n",
        "            param.requires_grad = True\n",
        "        \n",
        "    def unfreeze(self, n_layers):\n",
        "        # Part 1.4\n",
        "        # Turn on gradients for the last n_layers\n",
        "        for layer_num in self.model_layers:\n",
        "            if layer_num > (self.num_layers - n_layers):\n",
        "                # Unfreeze parameters in the layer\n",
        "                for param in self.model_layers[layer_num].parameters():\n",
        "                    param.requires_grad = True\n",
        "\n",
        "    def forward(self, x):\n",
        "        # Part 1.2\n",
        "        # Pass x through the resnet\n",
        "        return self.model(x)"
      ]
    },
    {
      "cell_type": "markdown",
      "metadata": {
        "id": "2Krh0eYy18R9"
      },
      "source": [
        "### 1.3 Read through and run this training loop"
      ]
    },
    {
      "cell_type": "code",
      "execution_count": 11,
      "metadata": {
        "id": "yOGrrw2gbIPf"
      },
      "outputs": [],
      "source": [
        "def accuracy(y_hat, y_truth):\n",
        "    \"\"\"Gets average accuracy of a vector of predictions\"\"\"\n",
        "    \n",
        "    preds = torch.argmax(y_hat, dim=1)\n",
        "    acc = torch.mean((preds == y_truth).float())\n",
        "    return acc\n",
        "\n",
        "def evaluate(model, objective, val_loader, device):\n",
        "    \"\"\"Gets average accuracy and loss for the validation set\"\"\"\n",
        "\n",
        "    val_losses = []\n",
        "    val_accs = []\n",
        "    # model.eval() so that batchnorm and dropout work in eval mode\n",
        "    model.eval()\n",
        "    # torch.no_grad() to turn off computation graph creation. This allows for temporal\n",
        "    # and spatial complexity improvements, which allows for larger validation batch \n",
        "    # sizes so it’s recommended\n",
        "    with torch.no_grad():\n",
        "        for x, y_truth in val_loader:\n",
        "\n",
        "            x, y_truth = x.to(device), y_truth.to(device)\n",
        "            y_hat = model(x)\n",
        "            val_loss = objective(y_hat, y_truth)\n",
        "            val_acc = accuracy(y_hat, y_truth)\n",
        "\n",
        "            val_losses.append(val_loss.item())\n",
        "            val_accs.append(val_acc)\n",
        "    # Return model to training mode (for batchnorm and dropout)\n",
        "    model.train()\n",
        "\n",
        "    return torch.mean(torch.Tensor(val_losses)), torch.mean(torch.Tensor(val_accs))"
      ]
    },
    {
      "cell_type": "code",
      "execution_count": 17,
      "metadata": {
        "id": "VKESMcKi2E_f"
      },
      "outputs": [],
      "source": [
        "def train(start_frozen=False, num_classes=5, model_unfreeze=0, epochs=8):\n",
        "    \"\"\"Fine-tunes a CNN\n",
        "    Args:\n",
        "        start_frozen (bool): whether to start with the network weights frozen.\n",
        "        model_unfreeze (int): the maximum number of network layers to unfreeze\n",
        "    \"\"\"\n",
        "    # Start with a very low learning rate\n",
        "    lr = .00005\n",
        "    val_every = 2\n",
        "    batch_size = 32\n",
        "    device = torch.device('cuda' if torch.cuda.is_available() else 'cpu')\n",
        "\n",
        "    # Data\n",
        "    train_dataset = vehicle_dataset('./vehicles', train=True)\n",
        "    val_dataset = vehicle_dataset('./vehicles', train=False)\n",
        "    train_loader = DataLoader(train_dataset,\n",
        "                              shuffle=True,\n",
        "                              num_workers=2,\n",
        "                              batch_size=batch_size)\n",
        "    val_loader = DataLoader(val_dataset,\n",
        "                              shuffle=True,\n",
        "                              num_workers=2,\n",
        "                              batch_size=batch_size)\n",
        "    \n",
        "    # Model\n",
        "    model = ResNetVehicles(num_classes, start_frozen=start_frozen).to(device)\n",
        "    \n",
        "    # Objective\n",
        "    objective = nn.CrossEntropyLoss()\n",
        "    # Optimizer\n",
        "    optimizer = optim.Adam(model.parameters(), lr=lr, weight_decay=1e-1)\n",
        "\n",
        "    # Progress bar\n",
        "    pbar = tqdm(total=len(train_loader) * epochs)\n",
        "\n",
        "    train_losses = []\n",
        "    train_accs = []\n",
        "    val_losses = []\n",
        "    val_accs = []\n",
        "    \n",
        "    cnt = 0\n",
        "    for epoch in range(epochs):\n",
        "\n",
        "        # Implement model unfreezing\n",
        "        if (epoch+1) < model_unfreeze:\n",
        "            # Part 1.4\n",
        "            # Unfreeze the last layers, one more each epoch\n",
        "            model.unfreeze(epoch+1)\n",
        "        \n",
        "        for x, y_truth in train_loader:\n",
        "        \n",
        "            x, y_truth = x.to(device), y_truth.to(device)\n",
        "\n",
        "            optimizer.zero_grad()\n",
        "\n",
        "            y_hat = model(x)\n",
        "            train_loss = objective(y_hat, y_truth)\n",
        "            train_acc = accuracy(y_hat, y_truth)\n",
        "\n",
        "            train_loss.backward()\n",
        "            optimizer.step()\n",
        "\n",
        "            train_accs.append(train_acc.item())\n",
        "            train_losses.append(train_loss.item())\n",
        "\n",
        "            if cnt % val_every == 0:\n",
        "                val_loss, val_acc = evaluate(model, objective, val_loader, device)\n",
        "                val_losses.append(val_loss.item())\n",
        "                val_accs.append(val_acc.item())\n",
        "\n",
        "            pbar.set_description('train loss: {:.4f}, train accuracy: {:.4f}'.format(train_loss.item(), train_acc))\n",
        "            pbar.update(1)\n",
        "            cnt += 1\n",
        "\n",
        "    pbar.close()\n",
        "    plt.subplot(121)\n",
        "    plt.plot(np.arange(len(train_accs)), train_accs, label='Train Accuracy')\n",
        "    plt.plot(np.arange(len(train_accs), step=val_every), val_accs, label='Val Accuracy')\n",
        "    plt.legend()\n",
        "    plt.subplot(122)\n",
        "    plt.plot(np.arange(len(train_losses)), train_losses, label='Train Loss')\n",
        "    plt.plot(np.arange(len(train_losses), step=val_every), val_losses, label='Val Loss')\n",
        "    plt.legend()\n",
        "    plt.show()  "
      ]
    },
    {
      "cell_type": "code",
      "execution_count": null,
      "metadata": {
        "id": "fvnxeLotchiH"
      },
      "outputs": [],
      "source": [
        "# train(start_frozen=True, model_unfreeze=0)  "
      ]
    },
    {
      "cell_type": "markdown",
      "metadata": {
        "id": "aEDv_-H7BvM0"
      },
      "source": [
        "### 1.4 Implement Unfreezing (1 hr)"
      ]
    },
    {
      "cell_type": "markdown",
      "metadata": {
        "id": "YH5mQBaa-_0b"
      },
      "source": [
        "#### Description"
      ]
    },
    {
      "cell_type": "markdown",
      "metadata": {
        "id": "u_YmE1pe-6LF"
      },
      "source": [
        "Unfreezing is a technique that can be helpful when fine tuning a CNN for a more difficult task with a large amount of data.\n",
        "\n",
        "The idea is that if we allow the network to tweak the earliest layers immediately, before the last FCL has been trained at all, the earliest layers will forget all of the useful features that they learned in order  to provide features that are helpful for the (untrained) FCL.\n",
        "\n",
        "So, rather than training all of the model weights at once, we learn the last fully connected layer, then train that layer together with the second-to-last layer, gradually adding layers until we reach the first layer."
      ]
    },
    {
      "cell_type": "markdown",
      "metadata": {
        "id": "XMKRI77_-8nc"
      },
      "source": [
        "#### TODO:"
      ]
    },
    {
      "cell_type": "markdown",
      "metadata": {
        "id": "KaUc8BTYC1bz"
      },
      "source": [
        "- Modify your model class by setting the `requires_grad` attribute of the ResNet to `False`. (but keep `requires_grad = True` for the last layer).\n",
        "- Add a member function to you model class that allows the user to unfreeze weights in the training loop. See [this github gist](https://gist.github.com/jcjohnson/6e41e8512c17eae5da50aebef3378a4c) for reference.\n",
        "- Modify your training loop to add logic that calls the `unfreeze` function of the model class (unfreeze one layer every epoch).\n",
        "- Call your train function to fine-tune the ResNet on your dataset."
      ]
    },
    {
      "cell_type": "markdown",
      "metadata": {
        "id": "qBT5jgifC7Im"
      },
      "source": [
        "#### Call your train function"
      ]
    },
    {
      "cell_type": "code",
      "execution_count": 18,
      "metadata": {
        "colab": {
          "base_uri": "https://localhost:8080/",
          "height": 297,
          "referenced_widgets": [
            "16bdb05541b048be870b9d267f9e25cb",
            "18f991f7fda243cc85d02d604bc27ab1",
            "0484abb22ed3480f9c221a03ec45ab70",
            "22bde517f15e4e74a9c9c862ae07edef",
            "568c7dc26d874926bf802616c5447859",
            "0349d4dbb4b04b6d950440bf31877b7d",
            "f1342cbad6dd4e6ca708da4832270ad0",
            "dd9bd4ca3fb042d795ef6bffd14060a7",
            "9fbbfca50cc54adc82ab0cb7db8dd782",
            "7138aad4bd2a4f0596158dcbdeb790c1",
            "a6e12a342b8d4a7a8f7a6ccebb1e1076"
          ]
        },
        "id": "Mg9ySEO_BNDx",
        "outputId": "0b181279-0485-4a20-f1df-92e258fb1fa5"
      },
      "outputs": [
        {
          "data": {
            "application/vnd.jupyter.widget-view+json": {
              "model_id": "16bdb05541b048be870b9d267f9e25cb",
              "version_major": 2,
              "version_minor": 0
            },
            "text/plain": [
              "  0%|          | 0/128 [00:00<?, ?it/s]"
            ]
          },
          "metadata": {},
          "output_type": "display_data"
        },
        {
          "data": {
            "image/png": "[encoded data removed]",
            "text/plain": [
              "<Figure size 432x288 with 2 Axes>"
            ]
          },
          "metadata": {
            "needs_background": "light"
          },
          "output_type": "display_data"
        }
      ],
      "source": [
        "# =================================================\n",
        "# train with unfreezing here \n",
        "# (should be a single call to your train function)\n",
        "# =================================================\n",
        "\n",
        "train(start_frozen=True, num_classes=5, model_unfreeze=8, epochs=8)  "
      ]
    },
    {
      "cell_type": "markdown",
      "metadata": {
        "id": "ZItH2lX7k4Yt"
      },
      "source": [
        "You may not see any improvement for your classification task, but unfreezing can help convergence for more difficult image classification tasks."
      ]
    },
    {
      "cell_type": "markdown",
      "metadata": {
        "id": "XAXHAUf3EEiE"
      },
      "source": [
        "##2 Fine-tune a language model - (15 min)"
      ]
    },
    {
      "cell_type": "markdown",
      "metadata": {
        "id": "yu9usOxtjFHL"
      },
      "source": [
        "In this section you will use the gpt-2-simple package [here](https://github.com/minimaxir/gpt-2-simple) to fine-tune the GPT-2 language model on a domain of your choice."
      ]
    },
    {
      "cell_type": "markdown",
      "metadata": {
        "id": "_K7F19SPQo6U"
      },
      "source": [
        "### 2.1 Generate text from the pretrained GPT-2 model"
      ]
    },
    {
      "cell_type": "markdown",
      "metadata": {
        "id": "9YLXvK51RnuL"
      },
      "source": [
        "#### Run this code to generate text from a pretrained model"
      ]
    },
    {
      "cell_type": "code",
      "execution_count": 1,
      "metadata": {
        "colab": {
          "base_uri": "https://localhost:8080/"
        },
        "id": "WDNOb_H5IRvH",
        "outputId": "1cb3ac35-8b52-4d5b-decc-f6a30dfec68f"
      },
      "outputs": [
        {
          "name": "stdout",
          "output_type": "stream",
          "text": [
            "Requirement already satisfied: gpt-2-simple in /usr/local/lib/python3.7/dist-packages (0.8.1)\n",
            "Requirement already satisfied: numpy in /usr/local/lib/python3.7/dist-packages (from gpt-2-simple) (1.21.5)\n",
            "Requirement already satisfied: tensorflow>=2.5.1 in /usr/local/lib/python3.7/dist-packages (from gpt-2-simple) (2.8.0)\n",
            "Requirement already satisfied: toposort in /usr/local/lib/python3.7/dist-packages (from gpt-2-simple) (1.7)\n",
            "Requirement already satisfied: regex in /usr/local/lib/python3.7/dist-packages (from gpt-2-simple) (2019.12.20)\n",
            "Requirement already satisfied: tqdm in /usr/local/lib/python3.7/dist-packages (from gpt-2-simple) (4.63.0)\n",
            "Requirement already satisfied: requests in /usr/local/lib/python3.7/dist-packages (from gpt-2-simple) (2.23.0)\n",
            "Requirement already satisfied: astunparse>=1.6.0 in /usr/local/lib/python3.7/dist-packages (from tensorflow>=2.5.1->gpt-2-simple) (1.6.3)\n",
            "Requirement already satisfied: gast>=0.2.1 in /usr/local/lib/python3.7/dist-packages (from tensorflow>=2.5.1->gpt-2-simple) (0.5.3)\n",
            "Requirement already satisfied: grpcio<2.0,>=1.24.3 in /usr/local/lib/python3.7/dist-packages (from tensorflow>=2.5.1->gpt-2-simple) (1.44.0)\n",
            "Requirement already satisfied: keras-preprocessing>=1.1.1 in /usr/local/lib/python3.7/dist-packages (from tensorflow>=2.5.1->gpt-2-simple) (1.1.2)\n",
            "Requirement already satisfied: wrapt>=1.11.0 in /usr/local/lib/python3.7/dist-packages (from tensorflow>=2.5.1->gpt-2-simple) (1.13.3)\n",
            "Requirement already satisfied: keras<2.9,>=2.8.0rc0 in /usr/local/lib/python3.7/dist-packages (from tensorflow>=2.5.1->gpt-2-simple) (2.8.0)\n",
            "Requirement already satisfied: h5py>=2.9.0 in /usr/local/lib/python3.7/dist-packages (from tensorflow>=2.5.1->gpt-2-simple) (3.1.0)\n",
            "Requirement already satisfied: flatbuffers>=1.12 in /usr/local/lib/python3.7/dist-packages (from tensorflow>=2.5.1->gpt-2-simple) (2.0)\n",
            "Requirement already satisfied: tensorflow-io-gcs-filesystem>=0.23.1 in /usr/local/lib/python3.7/dist-packages (from tensorflow>=2.5.1->gpt-2-simple) (0.24.0)\n",
            "Requirement already satisfied: tensorboard<2.9,>=2.8 in /usr/local/lib/python3.7/dist-packages (from tensorflow>=2.5.1->gpt-2-simple) (2.8.0)\n",
            "Requirement already satisfied: libclang>=9.0.1 in /usr/local/lib/python3.7/dist-packages (from tensorflow>=2.5.1->gpt-2-simple) (13.0.0)\n",
            "Requirement already satisfied: opt-einsum>=2.3.2 in /usr/local/lib/python3.7/dist-packages (from tensorflow>=2.5.1->gpt-2-simple) (3.3.0)\n",
            "Requirement already satisfied: absl-py>=0.4.0 in /usr/local/lib/python3.7/dist-packages (from tensorflow>=2.5.1->gpt-2-simple) (1.0.0)\n",
            "Requirement already satisfied: protobuf>=3.9.2 in /usr/local/lib/python3.7/dist-packages (from tensorflow>=2.5.1->gpt-2-simple) (3.17.3)\n",
            "Requirement already satisfied: tf-estimator-nightly==2.8.0.dev2021122109 in /usr/local/lib/python3.7/dist-packages (from tensorflow>=2.5.1->gpt-2-simple) (2.8.0.dev2021122109)\n",
            "Requirement already satisfied: termcolor>=1.1.0 in /usr/local/lib/python3.7/dist-packages (from tensorflow>=2.5.1->gpt-2-simple) (1.1.0)\n",
            "Requirement already satisfied: google-pasta>=0.1.1 in /usr/local/lib/python3.7/dist-packages (from tensorflow>=2.5.1->gpt-2-simple) (0.2.0)\n",
            "Requirement already satisfied: typing-extensions>=3.6.6 in /usr/local/lib/python3.7/dist-packages (from tensorflow>=2.5.1->gpt-2-simple) (3.10.0.2)\n",
            "Requirement already satisfied: setuptools in /usr/local/lib/python3.7/dist-packages (from tensorflow>=2.5.1->gpt-2-simple) (57.4.0)\n",
            "Requirement already satisfied: six>=1.12.0 in /usr/local/lib/python3.7/dist-packages (from tensorflow>=2.5.1->gpt-2-simple) (1.15.0)\n",
            "Requirement already satisfied: wheel<1.0,>=0.23.0 in /usr/local/lib/python3.7/dist-packages (from astunparse>=1.6.0->tensorflow>=2.5.1->gpt-2-simple) (0.37.1)\n",
            "Requirement already satisfied: cached-property in /usr/local/lib/python3.7/dist-packages (from h5py>=2.9.0->tensorflow>=2.5.1->gpt-2-simple) (1.5.2)\n",
            "Requirement already satisfied: google-auth-oauthlib<0.5,>=0.4.1 in /usr/local/lib/python3.7/dist-packages (from tensorboard<2.9,>=2.8->tensorflow>=2.5.1->gpt-2-simple) (0.4.6)\n",
            "Requirement already satisfied: google-auth<3,>=1.6.3 in /usr/local/lib/python3.7/dist-packages (from tensorboard<2.9,>=2.8->tensorflow>=2.5.1->gpt-2-simple) (1.35.0)\n",
            "Requirement already satisfied: markdown>=2.6.8 in /usr/local/lib/python3.7/dist-packages (from tensorboard<2.9,>=2.8->tensorflow>=2.5.1->gpt-2-simple) (3.3.6)\n",
            "Requirement already satisfied: tensorboard-data-server<0.7.0,>=0.6.0 in /usr/local/lib/python3.7/dist-packages (from tensorboard<2.9,>=2.8->tensorflow>=2.5.1->gpt-2-simple) (0.6.1)\n",
            "Requirement already satisfied: werkzeug>=0.11.15 in /usr/local/lib/python3.7/dist-packages (from tensorboard<2.9,>=2.8->tensorflow>=2.5.1->gpt-2-simple) (1.0.1)\n",
            "Requirement already satisfied: tensorboard-plugin-wit>=1.6.0 in /usr/local/lib/python3.7/dist-packages (from tensorboard<2.9,>=2.8->tensorflow>=2.5.1->gpt-2-simple) (1.8.1)\n",
            "Requirement already satisfied: rsa<5,>=3.1.4 in /usr/local/lib/python3.7/dist-packages (from google-auth<3,>=1.6.3->tensorboard<2.9,>=2.8->tensorflow>=2.5.1->gpt-2-simple) (4.8)\n",
            "Requirement already satisfied: pyasn1-modules>=0.2.1 in /usr/local/lib/python3.7/dist-packages (from google-auth<3,>=1.6.3->tensorboard<2.9,>=2.8->tensorflow>=2.5.1->gpt-2-simple) (0.2.8)\n",
            "Requirement already satisfied: cachetools<5.0,>=2.0.0 in /usr/local/lib/python3.7/dist-packages (from google-auth<3,>=1.6.3->tensorboard<2.9,>=2.8->tensorflow>=2.5.1->gpt-2-simple) (4.2.4)\n",
            "Requirement already satisfied: requests-oauthlib>=0.7.0 in /usr/local/lib/python3.7/dist-packages (from google-auth-oauthlib<0.5,>=0.4.1->tensorboard<2.9,>=2.8->tensorflow>=2.5.1->gpt-2-simple) (1.3.1)\n",
            "Requirement already satisfied: importlib-metadata>=4.4 in /usr/local/lib/python3.7/dist-packages (from markdown>=2.6.8->tensorboard<2.9,>=2.8->tensorflow>=2.5.1->gpt-2-simple) (4.11.2)\n",
            "Requirement already satisfied: zipp>=0.5 in /usr/local/lib/python3.7/dist-packages (from importlib-metadata>=4.4->markdown>=2.6.8->tensorboard<2.9,>=2.8->tensorflow>=2.5.1->gpt-2-simple) (3.7.0)\n",
            "Requirement already satisfied: pyasn1<0.5.0,>=0.4.6 in /usr/local/lib/python3.7/dist-packages (from pyasn1-modules>=0.2.1->google-auth<3,>=1.6.3->tensorboard<2.9,>=2.8->tensorflow>=2.5.1->gpt-2-simple) (0.4.8)\n",
            "Requirement already satisfied: certifi>=2017.4.17 in /usr/local/lib/python3.7/dist-packages (from requests->gpt-2-simple) (2021.10.8)\n",
            "Requirement already satisfied: idna<3,>=2.5 in /usr/local/lib/python3.7/dist-packages (from requests->gpt-2-simple) (2.10)\n",
            "Requirement already satisfied: chardet<4,>=3.0.2 in /usr/local/lib/python3.7/dist-packages (from requests->gpt-2-simple) (3.0.4)\n",
            "Requirement already satisfied: urllib3!=1.25.0,!=1.25.1,<1.26,>=1.21.1 in /usr/local/lib/python3.7/dist-packages (from requests->gpt-2-simple) (1.24.3)\n",
            "Requirement already satisfied: oauthlib>=3.0.0 in /usr/local/lib/python3.7/dist-packages (from requests-oauthlib>=0.7.0->google-auth-oauthlib<0.5,>=0.4.1->tensorboard<2.9,>=2.8->tensorflow>=2.5.1->gpt-2-simple) (3.2.0)\n",
            "TensorFlow 1.x selected.\n",
            "WARNING:tensorflow:\n",
            "The TensorFlow contrib module will not be included in TensorFlow 2.0.\n",
            "For more information, please see:\n",
            "  * https://github.com/tensorflow/community/blob/master/rfcs/20180907-contrib-sunset.md\n",
            "  * https://github.com/tensorflow/addons\n",
            "  * https://github.com/tensorflow/io (for I/O related ops)\n",
            "If you depend on functionality not listed there, please file an issue.\n",
            "\n"
          ]
        }
      ],
      "source": [
        "%pip install gpt-2-simple\n",
        "\n",
        "# the transformers package is built on top of Tensorflow, and the default TF version \n",
        "# for Colab will soon switch to 2.x. We remedy this with the following magic method\n",
        "%tensorflow_version 1.x \n",
        "\n",
        "import gpt_2_simple as gpt2\n",
        "import os\n",
        "import tensorflow as tf"
      ]
    },
    {
      "cell_type": "code",
      "execution_count": 2,
      "metadata": {
        "colab": {
          "base_uri": "https://localhost:8080/"
        },
        "id": "6aRJ-c9uRMOa",
        "outputId": "22a4a5ea-98ee-47a5-9708-6bcca01c7ca7"
      },
      "outputs": [
        {
          "name": "stdout",
          "output_type": "stream",
          "text": [
            "Downloading 124M model...\n"
          ]
        },
        {
          "name": "stderr",
          "output_type": "stream",
          "text": [
            "Fetching checkpoint: 1.05Mit [00:00, 624Mit/s]                                                      \n",
            "Fetching encoder.json: 1.05Mit [00:00, 2.69Mit/s]\n",
            "Fetching hparams.json: 1.05Mit [00:00, 593Mit/s]                                                    \n",
            "Fetching model.ckpt.data-00000-of-00001: 498Mit [00:17, 27.7Mit/s]                                  \n",
            "Fetching model.ckpt.index: 1.05Mit [00:00, 522Mit/s]                                                \n",
            "Fetching model.ckpt.meta: 1.05Mit [00:00, 3.56Mit/s]\n",
            "Fetching vocab.bpe: 1.05Mit [00:00, 3.12Mit/s]\n"
          ]
        },
        {
          "name": "stdout",
          "output_type": "stream",
          "text": [
            "Loading pretrained model models/124M/model.ckpt\n",
            "INFO:tensorflow:Restoring parameters from models/124M/model.ckpt\n"
          ]
        }
      ],
      "source": [
        "# This line is necessary to be able to run a new tf session\n",
        "tf.reset_default_graph()\n",
        "# The medium-sized model is \"355M\". If you run out of memory, try \"124M\" instead\n",
        "model_name = \"124M\"\n",
        "if not os.path.isdir(os.path.join(\"models\", model_name)):\n",
        "\tprint(f\"Downloading {model_name} model...\")\n",
        "\tgpt2.download_gpt2(model_name=model_name)   # model is saved into current directory under /models/355M/\n",
        "\n",
        "sess = gpt2.start_tf_sess()\n",
        "gpt2.load_gpt2(sess, model_name=model_name)"
      ]
    },
    {
      "cell_type": "code",
      "execution_count": 3,
      "metadata": {
        "colab": {
          "base_uri": "https://localhost:8080/"
        },
        "id": "WgyeAyNS9fiX",
        "outputId": "877f0152-63ca-4f78-e93e-fcf598aa4f29"
      },
      "outputs": [
        {
          "name": "stdout",
          "output_type": "stream",
          "text": [
            "Once upon a time, the world had been a land of gods and heroes, where the gods trusted the heroes to survive and provide for the people. The gods had been great, and had set up all the gods to be the gods of our time. But now, they were in decline.\n",
            "\n",
            "The gods had lost their ability to fight, their governments were crumbling and icy, and it was time to stop the fall of the nations.\n",
            "\n",
            "I'm not talking about the Altar of the Ancients, where the heroes were all dead; I'm talking about the Altar of the Young Gods.\n",
            "\n",
            "The Young Gods were the most powerful of all the gods, and the one they had to wield the most power because they were the only ones who would ever see the light of their power.\n",
            "\n",
            "When the arc of the universe ended, the gods would simply vanish.\n",
            "\n",
            "They'd been forgotten.\n",
            "\n",
            "They'd been all but forgotten.\n",
            "\n",
            "And what could they possibly do with all that power now? What would they possibly do with all this power?\n",
            "\n",
            "Was it just a false sense of betrayal or just a false sense of hope?\n",
            "\n",
            "The answer was no, but there was another way to think about this.\n",
            "\n",
            "The Young Gods were the ones who were the ones who would be able to turn the tide, and that would be the most powerful of all the Gods.\n",
            "\n",
            "That was why they had become the true gods, and it was why they had become the true Young Gods.\n",
            "\n",
            "So, if you were a true Young God, then you would be the one who could turn the tide with all that power.\n",
            "\n",
            "And that's why you had the power to make all the people you loved and loved.\n",
            "\n",
            "You were the one who would all be able to run the world to its full potential.\n",
            "\n",
            "And so, you were the one who would turn the tide.\n",
            "\n",
            "Now, if you read this, you will understand why I'm talking about your power.\n",
            "\n",
            "When you had the power, you were a true Young God.\n",
            "\n",
            "And now, you are the one who is the one who can turn the tide and make all the people around us come to see the Light of our power.\n",
            "\n",
            "I know that. And I know that you are the one who will make all the people around us fall in love.\n",
            "\n",
            "I know that you are the one who will make all the people around us be happy.\n",
            "\n",
            "I know that you are the one who will make all the people around us suffer as we deal with the darkness that is the heavens.\n",
            "\n",
            "And if you are the one who will make all the people around us fall in love, then you are the one that can turn the tides and give all those around us the good fortune of finding love.\n",
            "\n",
            "I know that you are the one who will make all the people around us fall in love and make all the people around us be happy.\n",
            "\n",
            "I know that you are the one who will make all the people around us fall in love and make all the people around us be happy.\n",
            "\n",
            "And if you are the one who will make all the people around us fall in love and make all the people around us be happy, then you are the one who can make all the people around us fall in love and make all the people around us fall in love and make all the people around us fall in love and make all the people around us fall in love and make all the people around us fall in love and make all the people around us fall in love and make all the people around us fall in love and make all the people around us fall in love and make all the people around us fall in love and make all the people around us fall in love and make all the people around us fall in love and make all the people around us fall in love and make all the people around us fall in love and make all the people around us fall in love and make all the people around us fall in love and make all the people around us fall in love and make all the people around us fall in love and make all the people around us fall in love and make all the people around us fall in love and make all the people around us fall in love and make all the people around us fall in love and make all the people around me fall in love and make all my friends fall in love and make all my friends fall in love and make all my friends fall in love and make all my friends fall in love and make all my friends fall in love and make all my friends fall in love and make all my friends fall in love and make all my friends fall in love and make all my friends fall in love and make all my friends fall in love and make all my friends fall in love and make all my friends fall in love and make all my friends fall in love and make all my friends fall in love and make all my friends fall in love and make all my friends fall in love\n"
          ]
        }
      ],
      "source": [
        "gpt2.generate(sess, model_name=model_name)"
      ]
    },
    {
      "cell_type": "markdown",
      "metadata": {
        "id": "AHmjSVf_FNHv"
      },
      "source": [
        "### 2.2 Download a text dataset"
      ]
    },
    {
      "cell_type": "markdown",
      "metadata": {
        "id": "gPXJkNubFyY6"
      },
      "source": [
        "#### TODO:"
      ]
    },
    {
      "cell_type": "markdown",
      "metadata": {
        "id": "KWkuRjbcFzwb"
      },
      "source": [
        "- Use the provided functions to download your own text dataset\n",
        "- [Project Gutenberg](https://www.gutenberg.org/) is a nice starting point for raw text corpora"
      ]
    },
    {
      "cell_type": "markdown",
      "metadata": {
        "id": "iD45m3IwF9hh"
      },
      "source": [
        "#### Download Dataset"
      ]
    },
    {
      "cell_type": "code",
      "execution_count": null,
      "metadata": {
        "colab": {
          "base_uri": "https://localhost:8080/",
          "height": 54
        },
        "id": "ESltl2QM5nxw",
        "outputId": "d79b5612-2efb-4ab1-c156-0e7807f27140"
      },
      "outputs": [
        {
          "name": "stdout",
          "output_type": "stream",
          "text": [
            "mv: cannot stat '/data/text/30.txt': No such file or directory\n",
            "bible.txt\n"
          ]
        }
      ],
      "source": [
        "# import zipfile\n",
        "# import os\n",
        "# from torchvision import datasets\n",
        "\n",
        "# def extract_zip(zip_path, remove_finished=True):\n",
        "#     print('Extracting {}'.format(zip_path))\n",
        "#     with zipfile.ZipFile(zip_path, 'r') as zip_ref:\n",
        "#         zip_ref.extractall(zip_path.replace('.zip', ''))\n",
        "#     if remove_finished:\n",
        "#         os.remove(zip_path)\n",
        "\n",
        "# def download_dataset(url, root='../data'):\n",
        "#     if not os.path.exists(os.path.join(root, 'text')):\n",
        "#         os.makedirs(os.path.join(root))\n",
        "#         datasets.utils.download_url(url, root, 'text.zip', None)\n",
        "#         extract_zip(os.path.join(root, 'text.zip'))\n",
        "#     return os.path.join(root, 'text')\n",
        "\n",
        "# ##########################################\n",
        "# # Set the url for your dataset here,\n",
        "# # move the dataset to the desired location\n",
        "# ##########################################\n",
        "# url = 'https://www.gutenberg.org/files/30/30.zip'\n",
        "# download_dataset(url)\n",
        "# !mv /data/text/30.txt /data/text/bible.txt\n",
        "# !ls ../data/text"
      ]
    },
    {
      "cell_type": "markdown",
      "metadata": {
        "id": "K7okRrcaw3G0"
      },
      "source": [
        "My custom dataset: the full text of six books from Jane Austen."
      ]
    },
    {
      "cell_type": "code",
      "execution_count": 4,
      "metadata": {
        "colab": {
          "base_uri": "https://localhost:8080/"
        },
        "id": "2K88JXGlw2nW",
        "outputId": "cc595cb4-6ec1-4d3a-fda6-7f51c503d549"
      },
      "outputs": [
        {
          "name": "stdout",
          "output_type": "stream",
          "text": [
            "Total number of characters: 4,296,653\n"
          ]
        }
      ],
      "source": [
        "import re        # regular expressions, for extracting text from books\n",
        "import requests  # for accessing books from URLs\n",
        "import os        # for creating directory to store books\n",
        "\n",
        "book_names = [\n",
        "    'Pride and Prejudice',\n",
        "    'Emma',\n",
        "    'Sense and Sensibility',\n",
        "    'Persuasion',\n",
        "    'Northanger Abbey',\n",
        "    'Mansfield Park',\n",
        "    'Lady Susan'\n",
        "]\n",
        "\n",
        "book_urls = [\n",
        "    'https://www.gutenberg.org/files/1342/1342-0.txt',\n",
        "    'https://www.gutenberg.org/cache/epub/158/pg158.txt',\n",
        "    'https://www.gutenberg.org/files/161/161-0.txt',\n",
        "    'https://www.gutenberg.org/cache/epub/105/pg105.txt',\n",
        "    'https://www.gutenberg.org/files/121/121-0.txt',\n",
        "    'https://www.gutenberg.org/files/141/141-0.txt',\n",
        "    'https://www.gutenberg.org/cache/epub/946/pg946.txt'\n",
        "]\n",
        "\n",
        "# Create a folder to save the books in\n",
        "if not os.path.exists('./books/'):\n",
        "    os.mkdir('./books/')\n",
        "\n",
        "jane_austen_full_text = ''\n",
        "\n",
        "# Save books to a folder so they can be accessed later if needed\n",
        "# Also save the entire text in the jane_austen_full_text variable\n",
        "for num, url in enumerate(book_urls):\n",
        "    response = requests.get(url)\n",
        "    # Ensure the response text is properly formatted as utf-8\n",
        "    # See: https://stackoverflow.com/a/44203507/17005348\n",
        "    response.encoding = 'UTF-8'\n",
        "    book_text = response.text\n",
        "    book_title = book_names[num].replace(' ', '_')\n",
        "    with open(f'./books/{book_title}.txt', mode='w+', encoding='utf-8') as book_file:\n",
        "        book_file.write(book_text)\n",
        "    \n",
        "    # Save the text to the jane_austen_full_text variable,\n",
        "    # removing the intro and end parts from Project Gutenberg\n",
        "    # which have this form: *** BEGIN BOOK *** or *** END OF BOOK ***\n",
        "    jane_austen_full_text += re.split(r'[*]{3}.*?[*]{3}', string=book_text)[1]\n",
        "\n",
        "with open(f'./books/jane_austen.txt', mode='w+', encoding='utf-8') as book_file:\n",
        "        book_file.write(jane_austen_full_text)\n",
        "\n",
        "print(f'Total number of characters: {len(jane_austen_full_text):,d}')"
      ]
    },
    {
      "cell_type": "markdown",
      "metadata": {
        "id": "usQE-rSPZq_X"
      },
      "source": [
        "### 2.3 Fine-tune GPT-2 on your own dataset"
      ]
    },
    {
      "cell_type": "markdown",
      "metadata": {
        "id": "IoA0tZZCa_1k"
      },
      "source": [
        "#### TODO:"
      ]
    },
    {
      "cell_type": "markdown",
      "metadata": {
        "id": "OoU6ML1mbgjP"
      },
      "source": [
        "- Swap out the dataset parameter with the path to your dataset"
      ]
    },
    {
      "cell_type": "markdown",
      "metadata": {
        "id": "8pa5vFJ5EUjv"
      },
      "source": [
        "#### Train on your dataset"
      ]
    },
    {
      "cell_type": "code",
      "execution_count": 6,
      "metadata": {
        "colab": {
          "base_uri": "https://localhost:8080/"
        },
        "id": "WuQ5snl4LuS0",
        "outputId": "620a1747-44bd-4b2b-c22d-f183ca5ea177"
      },
      "outputs": [
        {
          "name": "stdout",
          "output_type": "stream",
          "text": [
            "Loading checkpoint models/124M/model.ckpt\n",
            "INFO:tensorflow:Restoring parameters from models/124M/model.ckpt\n",
            "Loading dataset...\n"
          ]
        },
        {
          "name": "stderr",
          "output_type": "stream",
          "text": [
            "100%|██████████| 1/1 [00:04<00:00,  4.61s/it]\n"
          ]
        },
        {
          "name": "stdout",
          "output_type": "stream",
          "text": [
            "dataset has 1112424 tokens\n",
            "Training...\n",
            "[1 | 3.77] loss=3.70 avg=3.70\n",
            "[2 | 4.32] loss=2.81 avg=3.25\n",
            "[3 | 4.87] loss=3.77 avg=3.43\n",
            "[4 | 5.42] loss=3.58 avg=3.46\n",
            "[5 | 5.97] loss=3.55 avg=3.48\n",
            "[6 | 6.53] loss=3.52 avg=3.49\n",
            "[7 | 7.08] loss=3.93 avg=3.55\n",
            "[8 | 7.64] loss=3.62 avg=3.56\n",
            "[9 | 8.19] loss=4.10 avg=3.62\n",
            "[10 | 8.74] loss=3.46 avg=3.61\n",
            "[11 | 9.30] loss=3.45 avg=3.59\n",
            "[12 | 9.85] loss=3.63 avg=3.60\n",
            "[13 | 10.40] loss=3.61 avg=3.60\n",
            "[14 | 10.96] loss=3.18 avg=3.57\n",
            "[15 | 11.51] loss=3.71 avg=3.58\n",
            "[16 | 12.07] loss=3.00 avg=3.54\n",
            "[17 | 12.62] loss=3.29 avg=3.52\n",
            "[18 | 13.18] loss=3.28 avg=3.51\n",
            "[19 | 13.73] loss=3.29 avg=3.49\n",
            "[20 | 14.29] loss=3.31 avg=3.48\n",
            "[21 | 14.84] loss=3.12 avg=3.47\n",
            "[22 | 15.41] loss=3.71 avg=3.48\n",
            "[23 | 15.97] loss=3.40 avg=3.47\n",
            "[24 | 16.52] loss=3.73 avg=3.49\n",
            "[25 | 17.07] loss=3.73 avg=3.50\n",
            "[26 | 17.63] loss=3.08 avg=3.48\n",
            "[27 | 18.18] loss=3.51 avg=3.48\n",
            "[28 | 18.74] loss=2.92 avg=3.46\n",
            "[29 | 19.31] loss=2.46 avg=3.42\n",
            "[30 | 19.86] loss=3.38 avg=3.42\n",
            "[31 | 20.43] loss=3.53 avg=3.42\n",
            "[32 | 20.98] loss=3.56 avg=3.43\n",
            "[33 | 21.55] loss=3.45 avg=3.43\n",
            "[34 | 22.11] loss=3.04 avg=3.41\n",
            "[35 | 22.68] loss=3.40 avg=3.41\n",
            "[36 | 23.24] loss=3.02 avg=3.40\n",
            "[37 | 23.80] loss=3.36 avg=3.40\n",
            "[38 | 24.36] loss=2.95 avg=3.38\n",
            "[39 | 24.92] loss=3.17 avg=3.38\n",
            "[40 | 25.48] loss=3.63 avg=3.39\n",
            "[41 | 26.03] loss=3.06 avg=3.38\n",
            "[42 | 26.60] loss=3.47 avg=3.38\n",
            "[43 | 27.16] loss=3.09 avg=3.37\n",
            "[44 | 27.72] loss=3.11 avg=3.36\n",
            "[45 | 28.28] loss=3.53 avg=3.37\n",
            "[46 | 28.84] loss=3.51 avg=3.37\n",
            "[47 | 29.40] loss=3.25 avg=3.37\n",
            "[48 | 29.97] loss=2.84 avg=3.35\n",
            "[49 | 30.53] loss=2.76 avg=3.34\n",
            "[50 | 31.09] loss=3.62 avg=3.35\n",
            "[51 | 31.65] loss=3.33 avg=3.35\n",
            "[52 | 32.21] loss=2.67 avg=3.33\n",
            "[53 | 32.77] loss=2.71 avg=3.31\n",
            "[54 | 33.33] loss=3.38 avg=3.32\n",
            "[55 | 33.89] loss=3.31 avg=3.32\n",
            "[56 | 34.46] loss=2.84 avg=3.30\n",
            "[57 | 35.02] loss=3.34 avg=3.31\n",
            "[58 | 35.58] loss=3.32 avg=3.31\n",
            "[59 | 36.15] loss=2.52 avg=3.29\n",
            "[60 | 36.72] loss=3.29 avg=3.29\n",
            "[61 | 37.29] loss=3.22 avg=3.29\n",
            "[62 | 37.85] loss=3.28 avg=3.29\n",
            "[63 | 38.41] loss=3.32 avg=3.29\n",
            "[64 | 38.98] loss=2.65 avg=3.27\n",
            "[65 | 39.55] loss=3.36 avg=3.28\n",
            "[66 | 40.11] loss=2.38 avg=3.26\n",
            "[67 | 40.67] loss=3.39 avg=3.26\n",
            "[68 | 41.24] loss=3.54 avg=3.27\n",
            "[69 | 41.80] loss=2.89 avg=3.26\n",
            "[70 | 42.37] loss=3.52 avg=3.26\n",
            "[71 | 42.94] loss=2.77 avg=3.25\n",
            "[72 | 43.51] loss=2.49 avg=3.24\n",
            "[73 | 44.08] loss=2.40 avg=3.22\n",
            "[74 | 44.65] loss=3.19 avg=3.22\n",
            "[75 | 45.22] loss=3.27 avg=3.22\n",
            "[76 | 45.79] loss=3.29 avg=3.22\n",
            "[77 | 46.36] loss=3.22 avg=3.22\n",
            "[78 | 46.93] loss=3.01 avg=3.22\n",
            "[79 | 47.49] loss=3.00 avg=3.22\n",
            "[80 | 48.07] loss=2.67 avg=3.21\n",
            "[81 | 48.63] loss=3.52 avg=3.21\n",
            "[82 | 49.20] loss=3.42 avg=3.22\n",
            "[83 | 49.76] loss=2.15 avg=3.20\n",
            "[84 | 50.33] loss=2.39 avg=3.18\n",
            "[85 | 50.90] loss=3.38 avg=3.19\n",
            "[86 | 51.47] loss=3.35 avg=3.19\n",
            "[87 | 52.04] loss=3.02 avg=3.19\n",
            "[88 | 52.61] loss=3.62 avg=3.19\n",
            "[89 | 53.18] loss=3.55 avg=3.20\n",
            "[90 | 53.74] loss=3.03 avg=3.20\n",
            "[91 | 54.31] loss=2.52 avg=3.19\n",
            "[92 | 54.88] loss=3.50 avg=3.19\n",
            "[93 | 55.44] loss=3.35 avg=3.19\n",
            "[94 | 56.01] loss=3.51 avg=3.20\n",
            "[95 | 56.58] loss=2.54 avg=3.19\n",
            "[96 | 57.16] loss=2.52 avg=3.18\n",
            "[97 | 57.72] loss=2.60 avg=3.17\n",
            "[98 | 58.29] loss=3.35 avg=3.17\n",
            "[99 | 58.86] loss=2.46 avg=3.16\n",
            "[100 | 59.44] loss=3.50 avg=3.16\n",
            "Saving checkpoint/run1/model-100\n"
          ]
        }
      ],
      "source": [
        "# This line is necessary to be able to run a new tf session if one has already been run\n",
        "tf.reset_default_graph()\n",
        "# Start a session\n",
        "sess = gpt2.start_tf_sess()\n",
        "# Fine tune `model_name` on `data`\n",
        "###################################\n",
        "# Swap out the `dataset` parameter with the path to your text dataset\n",
        "###################################\n",
        "gpt2.finetune(sess,\n",
        "              dataset='./books/jane_austen.txt',\n",
        "              model_name=model_name,\n",
        "              restore_from='latest',\n",
        "              use_memory_saving_gradients = True,\n",
        "              only_train_transformer_layers= True,\n",
        "              accumulate_gradients = 1,\n",
        "              steps=100)   # steps is max number of training steps"
      ]
    },
    {
      "cell_type": "code",
      "execution_count": 7,
      "metadata": {
        "colab": {
          "base_uri": "https://localhost:8080/"
        },
        "id": "P5pFRQLE-OK6",
        "outputId": "446ea786-fe1f-49a7-da60-927fb52e0c62"
      },
      "outputs": [
        {
          "name": "stdout",
          "output_type": "stream",
          "text": [
            "When I was at the same time as the other day, a little while ago, when I was alone, and that I had no time to be ill, was a little interrupted by a knock at the door, and I was not at all troubled. I had a letter in my hand, which I could have given to my sister, and I was very anxious to get her to open it; but I did not think it would be very much of a good thing. I thought something of it would be best, and I was not particularly sure whether I should get the letter or not. The letter was very good; but it was my dear sister who did, and I was sent off immediately, and I was in an uproar, and I did not want to get back, all to myself, for it was very important to me; and so I had a bad letter in my hand, and I did not think it would be very much of a good thing. But I was much more anxious to get the letter, than to do anything; and I could not help putting it to my sister, as it were, that she could not have got the letter to Mrs. Bennet; and so I went to Mr. Boonley, and he was to be very glad of me.\n",
            "\n",
            "I have never seen Mr. Bennet so happy, so pleased, and so very happy to hear his name called upon; and I must say that I have never seen him so pleased, so happy, and so happy to visit him.\n",
            "\n",
            "I never see him so happy, and I am afraid I shall find him very unhappy.\n",
            "\n",
            "But I am too glad to have him on my side, as I am, and I am not very happy to have him on my side, as I am, and I am very glad to have him on my side, as I am.\n",
            "\n",
            "Mr. Bennet, I find you very well pleased.\n",
            "\n",
            "I have never known such a happy hour of health, as that of a lot of ladies, when they are glad to be without us; but I have seen that of a very, very, very high body of women, when they are much happier.\n",
            "\n",
            "I do not think that it is a bad thing to look at Mrs. Bennet, as she is not the least happy. It is not a bad thing to look at any of her friends who are not.\n",
            "I have never seen them so happy.\n",
            "\n",
            "I have never seen them so happy.\n",
            "\n",
            "Thank you,\n",
            "\n",
            "M.\n",
            "\n",
            "Mr. Bennet\n",
            "\n",
            "My dear Mr. Bennet,\n",
            "I am very glad to have your letter of April 28th.\n",
            "\n",
            "Such a letter has been sent from Miss Bennet, from Mrs. Bennet, from Elizabeth.\n",
            "\n",
            "From Mr. Bennet.\n",
            "\n",
            "I have a letter from Miss Bennet from you.\n",
            "\n",
            "How in the world can I expect her to be so happy?\n",
            "\n",
            "I can never be so happy.\n",
            "\n",
            "I am not afraid to look at her.\n",
            "\n",
            "I am afraid to look at her.\n",
            "\n",
            "I am afraid she will be unhappy,\n",
            "let her friends be happy,\n",
            "and I will be very glad to see her.\n",
            "\n",
            "I am not afraid to look at her.\n",
            "\n",
            "I am not afraid to look at her.\n",
            "\n",
            "I am afraid she will be very unhappy.\n",
            "\n",
            "Funny how Mrs. Bennet is always happy to look at Miss Bennet,\n",
            "and how very happy she must be.\n",
            "\n",
            "Lesley.\n",
            "\n",
            "My dear Polly,\n",
            "I am very much delighted to see you again at one of my last engagements. In the meantime, I have been glad to see you again, and I am very glad to see you again, in the court-yard.\n",
            "The court-yard is frequently a little crowded, and I have been very glad to see you again, and I am very glad to see you again. It is a very interesting place, and I am very glad to see you again.\n",
            "My dear Sir,\n",
            "I have been doing the business for a long time, and I want to see that you are not very much in the fashion of yourself, as I am. As I did not want to see you for a long time, I was glad to see you again; and as I had not been in this business, I was entirely satisfied with myself.\n",
            "I was delighted to see you again, and I am very glad to see you again.\n",
            "My dear Polly, I have been so busy this year, that I have not seen without a whole day's rest, and I am very glad to see that you are not in the fashion you should be; and of course I am very good, and have been very good to see you again, and I am very glad to see you again.\n",
            "I have not seen you before, and I am very glad to see you again.\n",
            "The court-\n"
          ]
        }
      ],
      "source": [
        "gpt2.generate(sess, run_name='run1')"
      ]
    }
  ],
  "metadata": {
    "colab": {
      "collapsed_sections": [],
      "name": "CS474_lab9_RyanParker.ipynb",
      "provenance": []
    },
    "kernelspec": {
      "display_name": "Python 3",
      "language": "python",
      "name": "python3"
    },
    "language_info": {
      "codemirror_mode": {
        "name": "ipython",
        "version": 3
      },
      "file_extension": ".py",
      "mimetype": "text/x-python",
      "name": "python",
      "nbconvert_exporter": "python",
      "pygments_lexer": "ipython3",
      "version": "3.7.4"
    },
    "widgets": {
      "application/vnd.jupyter.widget-state+json": {
        "025ff37d1df647bcaa447987876ca274": {
          "model_module": "@jupyter-widgets/controls",
          "model_module_version": "1.5.0",
          "model_name": "HBoxModel",
          "state": {
            "_dom_classes": [],
            "_model_module": "@jupyter-widgets/controls",
            "_model_module_version": "1.5.0",
            "_model_name": "HBoxModel",
            "_view_count": null,
            "_view_module": "@jupyter-widgets/controls",
            "_view_module_version": "1.5.0",
            "_view_name": "HBoxView",
            "box_style": "",
            "children": [
              "IPY_MODEL_c52b832faa8b4996ad976a2aa1e8d376",
              "IPY_MODEL_9b77d5f236a543b99b88d9322862fd1a",
              "IPY_MODEL_e2e639ee81df4227acea336c0ed3aa93"
            ],
            "layout": "IPY_MODEL_0f867013b3014e728bd15c7ad8cb6ca0"
          }
        },
        "0349d4dbb4b04b6d950440bf31877b7d": {
          "model_module": "@jupyter-widgets/base",
          "model_module_version": "1.2.0",
          "model_name": "LayoutModel",
          "state": {
            "_model_module": "@jupyter-widgets/base",
            "_model_module_version": "1.2.0",
            "_model_name": "LayoutModel",
            "_view_count": null,
            "_view_module": "@jupyter-widgets/base",
            "_view_module_version": "1.2.0",
            "_view_name": "LayoutView",
            "align_content": null,
            "align_items": null,
            "align_self": null,
            "border": null,
            "bottom": null,
            "display": null,
            "flex": null,
            "flex_flow": null,
            "grid_area": null,
            "grid_auto_columns": null,
            "grid_auto_flow": null,
            "grid_auto_rows": null,
            "grid_column": null,
            "grid_gap": null,
            "grid_row": null,
            "grid_template_areas": null,
            "grid_template_columns": null,
            "grid_template_rows": null,
            "height": null,
            "justify_content": null,
            "justify_items": null,
            "left": null,
            "margin": null,
            "max_height": null,
            "max_width": null,
            "min_height": null,
            "min_width": null,
            "object_fit": null,
            "object_position": null,
            "order": null,
            "overflow": null,
            "overflow_x": null,
            "overflow_y": null,
            "padding": null,
            "right": null,
            "top": null,
            "visibility": null,
            "width": null
          }
        },
        "0484abb22ed3480f9c221a03ec45ab70": {
          "model_module": "@jupyter-widgets/controls",
          "model_module_version": "1.5.0",
          "model_name": "FloatProgressModel",
          "state": {
            "_dom_classes": [],
            "_model_module": "@jupyter-widgets/controls",
            "_model_module_version": "1.5.0",
            "_model_name": "FloatProgressModel",
            "_view_count": null,
            "_view_module": "@jupyter-widgets/controls",
            "_view_module_version": "1.5.0",
            "_view_name": "ProgressView",
            "bar_style": "success",
            "description": "",
            "description_tooltip": null,
            "layout": "IPY_MODEL_dd9bd4ca3fb042d795ef6bffd14060a7",
            "max": 128,
            "min": 0,
            "orientation": "horizontal",
            "style": "IPY_MODEL_9fbbfca50cc54adc82ab0cb7db8dd782",
            "value": 128
          }
        },
        "0f867013b3014e728bd15c7ad8cb6ca0": {
          "model_module": "@jupyter-widgets/base",
          "model_module_version": "1.2.0",
          "model_name": "LayoutModel",
          "state": {
            "_model_module": "@jupyter-widgets/base",
            "_model_module_version": "1.2.0",
            "_model_name": "LayoutModel",
            "_view_count": null,
            "_view_module": "@jupyter-widgets/base",
            "_view_module_version": "1.2.0",
            "_view_name": "LayoutView",
            "align_content": null,
            "align_items": null,
            "align_self": null,
            "border": null,
            "bottom": null,
            "display": null,
            "flex": null,
            "flex_flow": null,
            "grid_area": null,
            "grid_auto_columns": null,
            "grid_auto_flow": null,
            "grid_auto_rows": null,
            "grid_column": null,
            "grid_gap": null,
            "grid_row": null,
            "grid_template_areas": null,
            "grid_template_columns": null,
            "grid_template_rows": null,
            "height": null,
            "justify_content": null,
            "justify_items": null,
            "left": null,
            "margin": null,
            "max_height": null,
            "max_width": null,
            "min_height": null,
            "min_width": null,
            "object_fit": null,
            "object_position": null,
            "order": null,
            "overflow": null,
            "overflow_x": null,
            "overflow_y": null,
            "padding": null,
            "right": null,
            "top": null,
            "visibility": null,
            "width": null
          }
        },
        "16bdb05541b048be870b9d267f9e25cb": {
          "model_module": "@jupyter-widgets/controls",
          "model_module_version": "1.5.0",
          "model_name": "HBoxModel",
          "state": {
            "_dom_classes": [],
            "_model_module": "@jupyter-widgets/controls",
            "_model_module_version": "1.5.0",
            "_model_name": "HBoxModel",
            "_view_count": null,
            "_view_module": "@jupyter-widgets/controls",
            "_view_module_version": "1.5.0",
            "_view_name": "HBoxView",
            "box_style": "",
            "children": [
              "IPY_MODEL_18f991f7fda243cc85d02d604bc27ab1",
              "IPY_MODEL_0484abb22ed3480f9c221a03ec45ab70",
              "IPY_MODEL_22bde517f15e4e74a9c9c862ae07edef"
            ],
            "layout": "IPY_MODEL_568c7dc26d874926bf802616c5447859"
          }
        },
        "18f991f7fda243cc85d02d604bc27ab1": {
          "model_module": "@jupyter-widgets/controls",
          "model_module_version": "1.5.0",
          "model_name": "HTMLModel",
          "state": {
            "_dom_classes": [],
            "_model_module": "@jupyter-widgets/controls",
            "_model_module_version": "1.5.0",
            "_model_name": "HTMLModel",
            "_view_count": null,
            "_view_module": "@jupyter-widgets/controls",
            "_view_module_version": "1.5.0",
            "_view_name": "HTMLView",
            "description": "",
            "description_tooltip": null,
            "layout": "IPY_MODEL_0349d4dbb4b04b6d950440bf31877b7d",
            "placeholder": "​",
            "style": "IPY_MODEL_f1342cbad6dd4e6ca708da4832270ad0",
            "value": "train loss: 0.1482, train accuracy: 1.0000.: 100%"
          }
        },
        "22bde517f15e4e74a9c9c862ae07edef": {
          "model_module": "@jupyter-widgets/controls",
          "model_module_version": "1.5.0",
          "model_name": "HTMLModel",
          "state": {
            "_dom_classes": [],
            "_model_module": "@jupyter-widgets/controls",
            "_model_module_version": "1.5.0",
            "_model_name": "HTMLModel",
            "_view_count": null,
            "_view_module": "@jupyter-widgets/controls",
            "_view_module_version": "1.5.0",
            "_view_name": "HTMLView",
            "description": "",
            "description_tooltip": null,
            "layout": "IPY_MODEL_7138aad4bd2a4f0596158dcbdeb790c1",
            "placeholder": "​",
            "style": "IPY_MODEL_a6e12a342b8d4a7a8f7a6ccebb1e1076",
            "value": " 128/128 [02:01&lt;00:00,  1.10s/it]"
          }
        },
        "4d24077c6e524590a33bc620d97b5ebf": {
          "model_module": "@jupyter-widgets/controls",
          "model_module_version": "1.5.0",
          "model_name": "ProgressStyleModel",
          "state": {
            "_model_module": "@jupyter-widgets/controls",
            "_model_module_version": "1.5.0",
            "_model_name": "ProgressStyleModel",
            "_view_count": null,
            "_view_module": "@jupyter-widgets/base",
            "_view_module_version": "1.2.0",
            "_view_name": "StyleView",
            "bar_color": null,
            "description_width": ""
          }
        },
        "568c7dc26d874926bf802616c5447859": {
          "model_module": "@jupyter-widgets/base",
          "model_module_version": "1.2.0",
          "model_name": "LayoutModel",
          "state": {
            "_model_module": "@jupyter-widgets/base",
            "_model_module_version": "1.2.0",
            "_model_name": "LayoutModel",
            "_view_count": null,
            "_view_module": "@jupyter-widgets/base",
            "_view_module_version": "1.2.0",
            "_view_name": "LayoutView",
            "align_content": null,
            "align_items": null,
            "align_self": null,
            "border": null,
            "bottom": null,
            "display": null,
            "flex": null,
            "flex_flow": null,
            "grid_area": null,
            "grid_auto_columns": null,
            "grid_auto_flow": null,
            "grid_auto_rows": null,
            "grid_column": null,
            "grid_gap": null,
            "grid_row": null,
            "grid_template_areas": null,
            "grid_template_columns": null,
            "grid_template_rows": null,
            "height": null,
            "justify_content": null,
            "justify_items": null,
            "left": null,
            "margin": null,
            "max_height": null,
            "max_width": null,
            "min_height": null,
            "min_width": null,
            "object_fit": null,
            "object_position": null,
            "order": null,
            "overflow": null,
            "overflow_x": null,
            "overflow_y": null,
            "padding": null,
            "right": null,
            "top": null,
            "visibility": null,
            "width": null
          }
        },
        "7138aad4bd2a4f0596158dcbdeb790c1": {
          "model_module": "@jupyter-widgets/base",
          "model_module_version": "1.2.0",
          "model_name": "LayoutModel",
          "state": {
            "_model_module": "@jupyter-widgets/base",
            "_model_module_version": "1.2.0",
            "_model_name": "LayoutModel",
            "_view_count": null,
            "_view_module": "@jupyter-widgets/base",
            "_view_module_version": "1.2.0",
            "_view_name": "LayoutView",
            "align_content": null,
            "align_items": null,
            "align_self": null,
            "border": null,
            "bottom": null,
            "display": null,
            "flex": null,
            "flex_flow": null,
            "grid_area": null,
            "grid_auto_columns": null,
            "grid_auto_flow": null,
            "grid_auto_rows": null,
            "grid_column": null,
            "grid_gap": null,
            "grid_row": null,
            "grid_template_areas": null,
            "grid_template_columns": null,
            "grid_template_rows": null,
            "height": null,
            "justify_content": null,
            "justify_items": null,
            "left": null,
            "margin": null,
            "max_height": null,
            "max_width": null,
            "min_height": null,
            "min_width": null,
            "object_fit": null,
            "object_position": null,
            "order": null,
            "overflow": null,
            "overflow_x": null,
            "overflow_y": null,
            "padding": null,
            "right": null,
            "top": null,
            "visibility": null,
            "width": null
          }
        },
        "7b90047cda93475797e349a946c7ae18": {
          "model_module": "@jupyter-widgets/base",
          "model_module_version": "1.2.0",
          "model_name": "LayoutModel",
          "state": {
            "_model_module": "@jupyter-widgets/base",
            "_model_module_version": "1.2.0",
            "_model_name": "LayoutModel",
            "_view_count": null,
            "_view_module": "@jupyter-widgets/base",
            "_view_module_version": "1.2.0",
            "_view_name": "LayoutView",
            "align_content": null,
            "align_items": null,
            "align_self": null,
            "border": null,
            "bottom": null,
            "display": null,
            "flex": null,
            "flex_flow": null,
            "grid_area": null,
            "grid_auto_columns": null,
            "grid_auto_flow": null,
            "grid_auto_rows": null,
            "grid_column": null,
            "grid_gap": null,
            "grid_row": null,
            "grid_template_areas": null,
            "grid_template_columns": null,
            "grid_template_rows": null,
            "height": null,
            "justify_content": null,
            "justify_items": null,
            "left": null,
            "margin": null,
            "max_height": null,
            "max_width": null,
            "min_height": null,
            "min_width": null,
            "object_fit": null,
            "object_position": null,
            "order": null,
            "overflow": null,
            "overflow_x": null,
            "overflow_y": null,
            "padding": null,
            "right": null,
            "top": null,
            "visibility": null,
            "width": null
          }
        },
        "7fa64a86ee1949f2be82bed2a19564d2": {
          "model_module": "@jupyter-widgets/base",
          "model_module_version": "1.2.0",
          "model_name": "LayoutModel",
          "state": {
            "_model_module": "@jupyter-widgets/base",
            "_model_module_version": "1.2.0",
            "_model_name": "LayoutModel",
            "_view_count": null,
            "_view_module": "@jupyter-widgets/base",
            "_view_module_version": "1.2.0",
            "_view_name": "LayoutView",
            "align_content": null,
            "align_items": null,
            "align_self": null,
            "border": null,
            "bottom": null,
            "display": null,
            "flex": null,
            "flex_flow": null,
            "grid_area": null,
            "grid_auto_columns": null,
            "grid_auto_flow": null,
            "grid_auto_rows": null,
            "grid_column": null,
            "grid_gap": null,
            "grid_row": null,
            "grid_template_areas": null,
            "grid_template_columns": null,
            "grid_template_rows": null,
            "height": null,
            "justify_content": null,
            "justify_items": null,
            "left": null,
            "margin": null,
            "max_height": null,
            "max_width": null,
            "min_height": null,
            "min_width": null,
            "object_fit": null,
            "object_position": null,
            "order": null,
            "overflow": null,
            "overflow_x": null,
            "overflow_y": null,
            "padding": null,
            "right": null,
            "top": null,
            "visibility": null,
            "width": null
          }
        },
        "9b77d5f236a543b99b88d9322862fd1a": {
          "model_module": "@jupyter-widgets/controls",
          "model_module_version": "1.5.0",
          "model_name": "FloatProgressModel",
          "state": {
            "_dom_classes": [],
            "_model_module": "@jupyter-widgets/controls",
            "_model_module_version": "1.5.0",
            "_model_name": "FloatProgressModel",
            "_view_count": null,
            "_view_module": "@jupyter-widgets/controls",
            "_view_module_version": "1.5.0",
            "_view_name": "ProgressView",
            "bar_style": "success",
            "description": "",
            "description_tooltip": null,
            "layout": "IPY_MODEL_e997355d61084d5caba4b6bc08d5fdee",
            "max": 643,
            "min": 0,
            "orientation": "horizontal",
            "style": "IPY_MODEL_4d24077c6e524590a33bc620d97b5ebf",
            "value": 643
          }
        },
        "9fbbfca50cc54adc82ab0cb7db8dd782": {
          "model_module": "@jupyter-widgets/controls",
          "model_module_version": "1.5.0",
          "model_name": "ProgressStyleModel",
          "state": {
            "_model_module": "@jupyter-widgets/controls",
            "_model_module_version": "1.5.0",
            "_model_name": "ProgressStyleModel",
            "_view_count": null,
            "_view_module": "@jupyter-widgets/base",
            "_view_module_version": "1.2.0",
            "_view_name": "StyleView",
            "bar_color": null,
            "description_width": ""
          }
        },
        "a6e12a342b8d4a7a8f7a6ccebb1e1076": {
          "model_module": "@jupyter-widgets/controls",
          "model_module_version": "1.5.0",
          "model_name": "DescriptionStyleModel",
          "state": {
            "_model_module": "@jupyter-widgets/controls",
            "_model_module_version": "1.5.0",
            "_model_name": "DescriptionStyleModel",
            "_view_count": null,
            "_view_module": "@jupyter-widgets/base",
            "_view_module_version": "1.2.0",
            "_view_name": "StyleView",
            "description_width": ""
          }
        },
        "c52b832faa8b4996ad976a2aa1e8d376": {
          "model_module": "@jupyter-widgets/controls",
          "model_module_version": "1.5.0",
          "model_name": "HTMLModel",
          "state": {
            "_dom_classes": [],
            "_model_module": "@jupyter-widgets/controls",
            "_model_module_version": "1.5.0",
            "_model_name": "HTMLModel",
            "_view_count": null,
            "_view_module": "@jupyter-widgets/controls",
            "_view_module_version": "1.5.0",
            "_view_name": "HTMLView",
            "description": "",
            "description_tooltip": null,
            "layout": "IPY_MODEL_7fa64a86ee1949f2be82bed2a19564d2",
            "placeholder": "​",
            "style": "IPY_MODEL_ebd2c37484e6490d8ef77a37abd2a8a8",
            "value": "100%"
          }
        },
        "da59f2cd999e411c99699fb84ef30e6c": {
          "model_module": "@jupyter-widgets/controls",
          "model_module_version": "1.5.0",
          "model_name": "DescriptionStyleModel",
          "state": {
            "_model_module": "@jupyter-widgets/controls",
            "_model_module_version": "1.5.0",
            "_model_name": "DescriptionStyleModel",
            "_view_count": null,
            "_view_module": "@jupyter-widgets/base",
            "_view_module_version": "1.2.0",
            "_view_name": "StyleView",
            "description_width": ""
          }
        },
        "dd9bd4ca3fb042d795ef6bffd14060a7": {
          "model_module": "@jupyter-widgets/base",
          "model_module_version": "1.2.0",
          "model_name": "LayoutModel",
          "state": {
            "_model_module": "@jupyter-widgets/base",
            "_model_module_version": "1.2.0",
            "_model_name": "LayoutModel",
            "_view_count": null,
            "_view_module": "@jupyter-widgets/base",
            "_view_module_version": "1.2.0",
            "_view_name": "LayoutView",
            "align_content": null,
            "align_items": null,
            "align_self": null,
            "border": null,
            "bottom": null,
            "display": null,
            "flex": null,
            "flex_flow": null,
            "grid_area": null,
            "grid_auto_columns": null,
            "grid_auto_flow": null,
            "grid_auto_rows": null,
            "grid_column": null,
            "grid_gap": null,
            "grid_row": null,
            "grid_template_areas": null,
            "grid_template_columns": null,
            "grid_template_rows": null,
            "height": null,
            "justify_content": null,
            "justify_items": null,
            "left": null,
            "margin": null,
            "max_height": null,
            "max_width": null,
            "min_height": null,
            "min_width": null,
            "object_fit": null,
            "object_position": null,
            "order": null,
            "overflow": null,
            "overflow_x": null,
            "overflow_y": null,
            "padding": null,
            "right": null,
            "top": null,
            "visibility": null,
            "width": null
          }
        },
        "e2e639ee81df4227acea336c0ed3aa93": {
          "model_module": "@jupyter-widgets/controls",
          "model_module_version": "1.5.0",
          "model_name": "HTMLModel",
          "state": {
            "_dom_classes": [],
            "_model_module": "@jupyter-widgets/controls",
            "_model_module_version": "1.5.0",
            "_model_name": "HTMLModel",
            "_view_count": null,
            "_view_module": "@jupyter-widgets/controls",
            "_view_module_version": "1.5.0",
            "_view_name": "HTMLView",
            "description": "",
            "description_tooltip": null,
            "layout": "IPY_MODEL_7b90047cda93475797e349a946c7ae18",
            "placeholder": "​",
            "style": "IPY_MODEL_da59f2cd999e411c99699fb84ef30e6c",
            "value": " 643/643 [01:32&lt;00:00,  9.17it/s]"
          }
        },
        "e997355d61084d5caba4b6bc08d5fdee": {
          "model_module": "@jupyter-widgets/base",
          "model_module_version": "1.2.0",
          "model_name": "LayoutModel",
          "state": {
            "_model_module": "@jupyter-widgets/base",
            "_model_module_version": "1.2.0",
            "_model_name": "LayoutModel",
            "_view_count": null,
            "_view_module": "@jupyter-widgets/base",
            "_view_module_version": "1.2.0",
            "_view_name": "LayoutView",
            "align_content": null,
            "align_items": null,
            "align_self": null,
            "border": null,
            "bottom": null,
            "display": null,
            "flex": null,
            "flex_flow": null,
            "grid_area": null,
            "grid_auto_columns": null,
            "grid_auto_flow": null,
            "grid_auto_rows": null,
            "grid_column": null,
            "grid_gap": null,
            "grid_row": null,
            "grid_template_areas": null,
            "grid_template_columns": null,
            "grid_template_rows": null,
            "height": null,
            "justify_content": null,
            "justify_items": null,
            "left": null,
            "margin": null,
            "max_height": null,
            "max_width": null,
            "min_height": null,
            "min_width": null,
            "object_fit": null,
            "object_position": null,
            "order": null,
            "overflow": null,
            "overflow_x": null,
            "overflow_y": null,
            "padding": null,
            "right": null,
            "top": null,
            "visibility": null,
            "width": null
          }
        },
        "ebd2c37484e6490d8ef77a37abd2a8a8": {
          "model_module": "@jupyter-widgets/controls",
          "model_module_version": "1.5.0",
          "model_name": "DescriptionStyleModel",
          "state": {
            "_model_module": "@jupyter-widgets/controls",
            "_model_module_version": "1.5.0",
            "_model_name": "DescriptionStyleModel",
            "_view_count": null,
            "_view_module": "@jupyter-widgets/base",
            "_view_module_version": "1.2.0",
            "_view_name": "StyleView",
            "description_width": ""
          }
        },
        "f1342cbad6dd4e6ca708da4832270ad0": {
          "model_module": "@jupyter-widgets/controls",
          "model_module_version": "1.5.0",
          "model_name": "DescriptionStyleModel",
          "state": {
            "_model_module": "@jupyter-widgets/controls",
            "_model_module_version": "1.5.0",
            "_model_name": "DescriptionStyleModel",
            "_view_count": null,
            "_view_module": "@jupyter-widgets/base",
            "_view_module_version": "1.2.0",
            "_view_name": "StyleView",
            "description_width": ""
          }
        }
      }
    }
  },
  "nbformat": 4,
  "nbformat_minor": 0
}
