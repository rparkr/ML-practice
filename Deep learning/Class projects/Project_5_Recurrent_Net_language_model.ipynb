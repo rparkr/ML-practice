{
  "cells": [
    {
      "cell_type": "markdown",
      "metadata": {
        "id": "MqSMurjLQrDW"
      },
      "source": [
        "# PyTorch Seq2Seq tutorial\n",
        "My implementation of the [PyTorch tutorial on sequence-to-sequence text processing](https://pytorch.org/tutorials/intermediate/seq2seq_translation_tutorial.html) (in this case, for a machine translation task).\n",
        "\n",
        "\n",
        "## Other helpful tutorials\n",
        "* [LSTMs in PyTorch for part-of-speech tagging](https://pytorch.org/tutorials/beginner/nlp/sequence_models_tutorial.html)\n",
        "* [Transformers in PyTorch for language modeling](https://pytorch.org/tutorials/beginner/transformer_tutorial.html)\n",
        "\n",
        "\n",
        "## Other helpful resources\n",
        "* Andrej Karpathy's [GitHub repo with char-rnn](https://github.com/karpathy/char-rnn) in Lua Torch; he explains parameters like _temperature_ and _priming_."
      ]
    },
    {
      "cell_type": "markdown",
      "metadata": {
        "id": "UJkXrzrzY4zO"
      },
      "source": [
        "Import required modules"
      ]
    },
    {
      "cell_type": "code",
      "execution_count": 1,
      "metadata": {
        "id": "vFr8QBsxQ5mH"
      },
      "outputs": [],
      "source": [
        "# Other packages\n",
        "import io           # process various input formats\n",
        "import unicodedata  # Unicode character reference (access to database on character properties)\n",
        "import string       # string constants\n",
        "import re           # regular expressions\n",
        "import random       # random selection methods\n",
        "import os           # file management\n",
        "import zipfile      # extract zip files (e.g., data file\n",
        "import requests     # get information from websites (e.g., download data file)\n",
        "from tqdm.notebook import tqdm  # progress bar display\n",
        "\n",
        "# PyTorch packages\n",
        "import torch\n",
        "import torch.nn as nn\n",
        "from torch import optim\n",
        "import torch.nn.functional as F\n",
        "\n",
        "device = torch.device('cuda' if torch.cuda.is_available() else 'cpu')"
      ]
    },
    {
      "cell_type": "markdown",
      "metadata": {
        "id": "9jzupIqyAFbA"
      },
      "source": [
        "## Data preprocessing"
      ]
    },
    {
      "cell_type": "markdown",
      "metadata": {
        "id": "UDY68hMjyM8u"
      },
      "source": [
        "Download data, which can be found at https://download.pytorch.org/tutorial/data.zip\n",
        "\n",
        "The data has translations of sentences between English and French."
      ]
    },
    {
      "cell_type": "code",
      "execution_count": 29,
      "metadata": {
        "colab": {
          "base_uri": "https://localhost:8080/"
        },
        "id": "Y_gk_QtoZexw",
        "outputId": "c7ab3cbd-b5fa-44a3-87ef-a146ccf4f3f5"
      },
      "outputs": [
        {
          "name": "stdout",
          "output_type": "stream",
          "text": [
            ".zip file will be saved in: /content/data.zip\n"
          ]
        }
      ],
      "source": [
        "# Determine the directory to save the file called 'data.zip'\n",
        "url = 'https://download.pytorch.org/tutorial/data.zip'\n",
        "# url = 'https://www.manythings.org/anki/spa-eng.zip'\n",
        "zip_path = url[url.rfind('/')+1:]\n",
        "print('.zip file will be saved in: ' + os.getcwd() + '/' + zip_path)\n",
        "\n",
        "# Download the file\n",
        "# See: https://www.kite.com/python/answers/how-to-download-a-file-from-a-url-in-python#use-requests-get\n",
        "with open('./' + zip_path, mode='wb') as download:\n",
        "    download.write(requests.get(url).content)\n",
        "\n",
        "# Unzip the file\n",
        "# See: https://stackoverflow.com/questions/31346790/unzip-all-zipped-files-in-a-folder-to-that-same-folder-using-python-2-7-5/56850153#56850153\n",
        "zipfile.ZipFile(zip_path).extractall()\n",
        "\n",
        "# try:\n",
        "#     zipfile.ZipFile(zip_path).extractall()\n",
        "# except zipfile.BadZipFile:\n",
        "#     print('Problem unzipping file')"
      ]
    },
    {
      "cell_type": "markdown",
      "metadata": {
        "id": "BV-LSilH8OY0"
      },
      "source": [
        "Create one-hot encoded vocabulary vectors, using dictionaries to track word-to-index and index-to-word representations of each word, along with a word frequency dictionary (word2count) to help with replacing rare words during translation."
      ]
    },
    {
      "cell_type": "code",
      "execution_count": 30,
      "metadata": {
        "id": "rPj2XZua8ZgY"
      },
      "outputs": [],
      "source": [
        "# Start Of Sequence token\n",
        "SOS_token = 0\n",
        "# End Of Sequence token\n",
        "EOS_token = 1\n",
        "\n",
        "\n",
        "# Language class to hold vocabulary dictionaries that map words to index positions\n",
        "class Lang:\n",
        "    def __init__(self, name):\n",
        "        self.name = name\n",
        "        self.word2index = {}\n",
        "        self.word2count = {}\n",
        "        self.index2word = {0: 'SOS', 1: 'EOS'}\n",
        "        # n_words has 2 at initialization: SOS and EOS\n",
        "        self.n_words = 2\n",
        "    \n",
        "    def addSentence(self, sentence):\n",
        "        for word in sentence.split(' '):\n",
        "            self.addWord(word)\n",
        "    \n",
        "    def addWord(self, word):\n",
        "        if word not in self.word2index:\n",
        "            # Assign word to the next index value\n",
        "            self.word2index[word] = self.n_words\n",
        "            self.word2count[word] = 1\n",
        "            self.index2word[self.n_words] = word\n",
        "            self.n_words += 1\n",
        "        else:\n",
        "            self.word2count[word] += 1"
      ]
    },
    {
      "cell_type": "markdown",
      "metadata": {
        "id": "UoWkeTs293Yn"
      },
      "source": [
        "Convert Unicode to ASCII to simplify (by reducing the character set)"
      ]
    },
    {
      "cell_type": "code",
      "execution_count": 31,
      "metadata": {
        "id": "NeZirUNc8ZZg"
      },
      "outputs": [],
      "source": [
        "# See: https://stackoverflow.com/questions/517923/what-is-the-best-way-to-remove-accents-normalize-in-a-python-unicode-string/518232#518232\n",
        "def unicodeToAscii(s):\n",
        "    return ''.join(\n",
        "        char for char in unicodedata.normalize('NFD', s)\n",
        "        if unicodedata.category(char) != 'Mn'\n",
        "    )\n",
        "\n",
        "def normalizeString(s):\n",
        "    '''lowercase, trim, and remove non-letter characters'''\n",
        "    s = unicodeToAscii(s.lower().strip())\n",
        "    s = re.sub(r'([.!?])', r' \\1', s)\n",
        "    s = re.sub(r'[^a-zA-Z.!?]+', r' ', s)\n",
        "    return s"
      ]
    },
    {
      "cell_type": "markdown",
      "metadata": {
        "id": "V0OxEldqAJh8"
      },
      "source": [
        "Read the file and separate into a list with each line of the file. Each line contains an English sentence followed by a translation in another language. The `reverse` flag will read other language --> English."
      ]
    },
    {
      "cell_type": "code",
      "execution_count": 32,
      "metadata": {
        "id": "u96pE1QR8ZV7"
      },
      "outputs": [],
      "source": [
        "def readLang(lang1, lang2, reverse=False):\n",
        "    print('Reading lines...')\n",
        "\n",
        "    # Read file and split into lines\n",
        "    lines = open(f'data/{lang1}-{lang2}.txt', encoding='utf-8').read().strip().split('\\n')\n",
        "\n",
        "    # Create and normalize pairs of strings from each line\n",
        "    pairs = [[normalizeString(s) for s in l.split('\\t')] for l in lines]\n",
        "\n",
        "    # Reverse pairs and create Lang objects for them\n",
        "    if reverse:\n",
        "        pairs = [list(reversed(p)) for p in pairs]\n",
        "        input_lang = Lang(lang2)\n",
        "        output_lang = Lang(lang1)\n",
        "    else:\n",
        "        input_lang = Lang(lang1)\n",
        "        output_lang = Lang(lang2)\n",
        "    \n",
        "    return input_lang, output_lang, pairs"
      ]
    },
    {
      "cell_type": "markdown",
      "metadata": {
        "id": "S84P_vs4CnOF"
      },
      "source": [
        "Filter dataset to reduce its size and training time."
      ]
    },
    {
      "cell_type": "code",
      "execution_count": 33,
      "metadata": {
        "id": "RBm_TQ4V8ZTj"
      },
      "outputs": [],
      "source": [
        "# Set max word length for a sentence (including ending punctuation)\n",
        "MAX_LENGTH = 10\n",
        "\n",
        "# Sentences chosen will be those that start with the following forms:\n",
        "eng_prefixes = (\n",
        "    'i am', 'i m',\n",
        "    'he is', 'he s',\n",
        "    'she is', 'she s',\n",
        "    'you are', 'you re',\n",
        "    'we are', 'we re',\n",
        "    'they are', 'they re'\n",
        ")\n",
        "\n",
        "def filterPair(p):\n",
        "    return (len(p[0].split(' ')) < MAX_LENGTH\n",
        "            and len(p[1].split(' ')) < MAX_LENGTH\n",
        "            and p[1].startswith(eng_prefixes))\n",
        "\n",
        "def filterPairs(pairs):\n",
        "    return [pair for pair in pairs if filterPair(pair)]"
      ]
    },
    {
      "cell_type": "markdown",
      "metadata": {
        "id": "qba7ZZcYESbt"
      },
      "source": [
        "Create function to load and process data"
      ]
    },
    {
      "cell_type": "code",
      "execution_count": 34,
      "metadata": {
        "id": "nrZ0IQMaAJH_"
      },
      "outputs": [],
      "source": [
        "def prepareData(lang1, lang2, reverse=False):\n",
        "    # Read a text file, split into lines and then into pairs\n",
        "    input_lang, output_lang, pairs = readLang(lang1, lang2, reverse=reverse)\n",
        "    print(f'Read {len(pairs):,d} pairs')\n",
        "    pairs = filterPairs(pairs)\n",
        "    print(f'Trimmed to {len(pairs):,d} sentence pairs')\n",
        "    print('Counting words...')\n",
        "    for pair in pairs:\n",
        "        input_lang.addSentence(pair[0])\n",
        "        output_lang.addSentence(pair[1])\n",
        "    print(f'Input: {input_lang.name} ({input_lang.n_words:,d} words)'\n",
        "            + f', Output: {output_lang.name} ({output_lang.n_words:,d} words)')\n",
        "    return input_lang, output_lang, pairs"
      ]
    },
    {
      "cell_type": "code",
      "execution_count": 35,
      "metadata": {
        "colab": {
          "base_uri": "https://localhost:8080/"
        },
        "id": "CfbnSiBVAJEl",
        "outputId": "3cd397f4-57a3-4469-e14d-5ef2bde1b53a"
      },
      "outputs": [
        {
          "name": "stdout",
          "output_type": "stream",
          "text": [
            "Reading lines...\n",
            "Read 135,842 pairs\n",
            "Trimmed to 11,893 sentence pairs\n",
            "Counting words...\n",
            "Input: fra (4,920 words), Output: eng (3,228 words)\n",
            "\n",
            "Random pair from fra and eng: ['je suis realiste .', 'i m realistic .']\n"
          ]
        }
      ],
      "source": [
        "input_lang, output_lang, pairs = prepareData('eng', 'fra', reverse=True)\n",
        "print(f'\\nRandom pair from {input_lang.name} and {output_lang.name}: {random.choice(pairs)}')"
      ]
    },
    {
      "cell_type": "markdown",
      "metadata": {
        "id": "qsuGD_BmGb1O"
      },
      "source": [
        "## Create neural network (sequence-to-sequence)"
      ]
    },
    {
      "cell_type": "markdown",
      "metadata": {
        "id": "tmF3jj9WHrCq"
      },
      "source": [
        "### Encoder network\n",
        "The encoder network produces a vector representing the meaning of an input. In this case, it will produce a vector output for each word in the input.\n",
        "\n",
        "See: https://pytorch.org/tutorials/intermediate/seq2seq_translation_tutorial.html#the-encoder"
      ]
    },
    {
      "cell_type": "code",
      "execution_count": 36,
      "metadata": {
        "id": "aKj4obFnGgRN"
      },
      "outputs": [],
      "source": [
        "class EncoderRNN(nn.Module):\n",
        "    def __init__(self, input_size, hidden_size):\n",
        "        super().__init__()\n",
        "        self.hidden_size = hidden_size\n",
        "        # Vector embedding of input\n",
        "        self.embedding = nn.Embedding(input_size, hidden_size)\n",
        "        # Gated Recurrent Unit\n",
        "        self.gru = nn.GRU(hidden_size, hidden_size)\n",
        "    \n",
        "    # Note that forward() takes two inputs: the normal 'input' and 'hidden'\n",
        "    def forward(self, input, hidden):\n",
        "        # Create a vector embedding of size (1, 1, *input.size())\n",
        "        # which corresponds to num_in_batch, num_channels, num_dimensions_input\n",
        "        embedded = self.embedding(input).view(1, 1, -1)\n",
        "        output = embedded\n",
        "        output, hidden = self.gru(output, hidden)\n",
        "        return output, hidden\n",
        "    \n",
        "    # Initialize the hidden weights with zeros\n",
        "    def initHidden(self):\n",
        "        return torch.zeros(1, 1, self.hidden_size, device=device)"
      ]
    },
    {
      "cell_type": "markdown",
      "metadata": {
        "id": "P51rMtcxKNhC"
      },
      "source": [
        "### Decoder network\n",
        "The decoder network takes an input vector (the output of the encoder network) and ouputs a vector in word-space that represents the probability distribution across words.\n",
        "\n",
        "Each iteration of the decoder network takes an input token and a hidden vector. The first input is the start-of-string token (SOS_token, or 0), and the first hidden vector is the final output vector from the encoder network, which is called the _context_ vector.\n",
        "\n",
        "See: https://pytorch.org/tutorials/intermediate/seq2seq_translation_tutorial.html#the-decoder"
      ]
    },
    {
      "cell_type": "code",
      "execution_count": 37,
      "metadata": {
        "id": "JUodnVmdGgNz"
      },
      "outputs": [],
      "source": [
        "class DecoderRNN(nn.Module):\n",
        "    def __init__(self, hidden_size, output_size):\n",
        "        super().__init__()\n",
        "        self.hidden_size = hidden_size\n",
        "\n",
        "        self.embedding = nn.Embedding(output_size, hidden_size)\n",
        "        self.gru = nn.GRU(hidden_size, hidden_size)\n",
        "        self.out = nn.Linear(hidden_size, output_size)\n",
        "        self.softmax = nn.LogSoftmax(dim=1)\n",
        "    \n",
        "    def forward(self, input, hidden):\n",
        "        output = self.embedding(input).view(1, 1, -1)\n",
        "        output = F.relu(output)\n",
        "        output, hidden = self.gru(output, hidden)\n",
        "        output = self.softmax(self.out(output[0]))\n",
        "        return output, hidden\n",
        "    \n",
        "    def initHidden(self):\n",
        "        return torch.zeros(1, 1, self.hidden_size, device=device)"
      ]
    },
    {
      "cell_type": "markdown",
      "metadata": {
        "id": "j3_qvl-ASJmp"
      },
      "source": [
        "## Model training\n",
        "See: https://pytorch.org/tutorials/intermediate/seq2seq_translation_tutorial.html#training"
      ]
    },
    {
      "cell_type": "markdown",
      "metadata": {
        "id": "4KxIOxbGSQqZ"
      },
      "source": [
        "Set up functions for preparing training data. Each training pair (input, target) must include a tensor for the input where each value is the index of the word in the input sentence, and a tensor for the output where each value is the index of the ward in the target sentence.\n",
        "\n",
        "Note that the end-of-sequence (EOS) tag is appended to the end of each vector in the training pairs."
      ]
    },
    {
      "cell_type": "code",
      "execution_count": 38,
      "metadata": {
        "id": "DIx-COzSGgJC"
      },
      "outputs": [],
      "source": [
        "def indexesFromSentence(lang, sentence):\n",
        "    return [lang.word2index[word] for word in sentence.split(' ')]\n",
        "\n",
        "def tensorFromSentence(lang, sentence):\n",
        "    indexes = indexesFromSentence(lang, sentence)\n",
        "    indexes.append(EOS_token)\n",
        "    # A 1-column integer vector with as many rows as there are indexes\n",
        "    return torch.tensor(indexes, dtype=torch.long, device=device).view(-1, 1)\n",
        "\n",
        "def tensorsFromPair(pair):\n",
        "    input_tensor = tensorFromSentence(input_lang, pair[0])\n",
        "    target_tensor = tensorFromSentence(output_lang, pair[1])\n",
        "    return (input_tensor, target_tensor)"
      ]
    },
    {
      "cell_type": "markdown",
      "metadata": {
        "id": "2M5AE9yYaNi_"
      },
      "source": [
        "### Training loop"
      ]
    },
    {
      "cell_type": "markdown",
      "metadata": {
        "id": "l8sK05mip_gf"
      },
      "source": [
        "Plotting function"
      ]
    },
    {
      "cell_type": "code",
      "execution_count": 39,
      "metadata": {
        "id": "HSdRi-mbqAz9"
      },
      "outputs": [],
      "source": [
        "import matplotlib.pyplot as plt\n",
        "import numpy as np\n",
        "\n",
        "def showPlot(losses, accuracy, titles=['Loss', 'Accuracy'], xlabels=['Samples', 'Samples'], ylabels=['Loss', 'Accuracy']):\n",
        "    plt.subplot(2, 1, 1)\n",
        "    plt.plot(losses)\n",
        "    plt.title(titles[0])\n",
        "    plt.xlabel(xlabels[0])\n",
        "    plt.ylabel(ylabels[0])\n",
        "\n",
        "    plt.subplot(2, 1, 2)\n",
        "    plt.plot(accuracy)\n",
        "    plt.title(titles[1])\n",
        "    plt.xlabel(xlabels[1])\n",
        "    plt.ylabel(ylabels[1])\n",
        "    plt.tight_layout()\n",
        "    plt.show()"
      ]
    },
    {
      "cell_type": "code",
      "execution_count": 40,
      "metadata": {
        "colab": {
          "base_uri": "https://localhost:8080/"
        },
        "id": "UZMVO40JnHix",
        "outputId": "674dccc3-424b-4658-c0cd-4371d373f647"
      },
      "outputs": [
        {
          "data": {
            "text/plain": [
              "0.625"
            ]
          },
          "execution_count": 40,
          "metadata": {},
          "output_type": "execute_result"
        }
      ],
      "source": [
        "# Testing a procedure for calculating accuracy between tensors\n",
        "\n",
        "a = torch.tensor([6,4,0,122,5,12,3,1], dtype=torch.long, device=device).view(-1, 1)\n",
        "b = torch.tensor([6,5,1,122,5,12,2,1], dtype=torch.long, device=device).view(-1, 1)\n",
        "\n",
        "(a == b).sum().item() / a.size(0)"
      ]
    },
    {
      "cell_type": "code",
      "execution_count": 41,
      "metadata": {
        "id": "yiYY0G7ySA6o"
      },
      "outputs": [],
      "source": [
        "def train(\n",
        "    input_tensor, target_tensor, encoder, decoder, encoder_optimizer,\n",
        "    decoder_optimizer, criterion, max_length=MAX_LENGTH):\n",
        "\n",
        "    encoder_hidden = encoder.initHidden()\n",
        "\n",
        "    # Reset gradients in the encoder and decoder networks\n",
        "    encoder_optimizer.zero_grad()\n",
        "    decoder_optimizer.zero_grad() \n",
        "\n",
        "    input_length = input_tensor.size(0)\n",
        "    target_length = target_tensor.size(0)\n",
        "\n",
        "    # Pass data through the encoder network and store outputs\n",
        "    encoder_outputs = torch.zeros(max_length, encoder.hidden_size, device=device)\n",
        "\n",
        "    # Start loss and accuracy at 0\n",
        "    loss = 0\n",
        "    # Accuracy is: num_correct_outputs / total_outputs. Best is 1, worst is 0.\n",
        "    acc = 0\n",
        "\n",
        "    for encoder_input in range(input_length):\n",
        "        encoder_output, encoder_hidden = encoder(input_tensor[encoder_input], encoder_hidden)\n",
        "        encoder_outputs[encoder_input] = encoder_output[0, 0]\n",
        "    \n",
        "    \n",
        "    # Set initial decoder input to the start-of-sequence token\n",
        "    decoder_input = torch.tensor([[SOS_token]], device=device)\n",
        "    # Set initial decoder hidden state to final encoder hidden state\n",
        "    decoder_hidden = encoder_hidden\n",
        "\n",
        "    for di in range(target_length):\n",
        "        decoder_output, decoder_hidden = decoder(decoder_input, decoder_hidden)\n",
        "        # Find the maximum value and index (input?)\n",
        "        topv, topi = decoder_output.topk(1)\n",
        "        # Detach from history (gradient) and set as next input\n",
        "        decoder_input = topi.squeeze().detach()\n",
        "        # Calculate loss and accuracy (scalar values)\n",
        "        loss += criterion(decoder_output, target_tensor[di])\n",
        "        acc += (decoder_input == target_tensor[di]).sum().item()\n",
        "        # Exit loop if end of sequence token is reached\n",
        "        if decoder_input.item() == EOS_token:\n",
        "            break\n",
        "    \n",
        "    # Backpropagate the loss\n",
        "    loss.backward()\n",
        "\n",
        "    # Step along gradient\n",
        "    encoder_optimizer.step()\n",
        "    decoder_optimizer.step()\n",
        "\n",
        "    # Average the loss\n",
        "    acc = acc / target_length\n",
        "\n",
        "    # Return the average loss and accuracy per iteration\n",
        "    return (loss.item() / target_length, acc)"
      ]
    },
    {
      "cell_type": "markdown",
      "metadata": {
        "id": "cITPs8EkgCdG"
      },
      "source": [
        "Steps for complete training process:\n",
        "1. Start timer (or `tqdm`)\n",
        "2. Intialize optimizers and criterion (loss function)\n",
        "3. Create a set of training pairs\n",
        "4. Start (empty) list of losses for plotting over time\n",
        "5. Call `train` through thousands of iterations and save loss information every so often."
      ]
    },
    {
      "cell_type": "code",
      "execution_count": 42,
      "metadata": {
        "id": "4IuHJvw2SA3H"
      },
      "outputs": [],
      "source": [
        "def trainIters(encoder, decoder, n_iters, print_every=100, plot_every=1000, learning_rate = 0.01):\n",
        "    # Store loss information for plotting\n",
        "    plot_losses = []\n",
        "    plot_accuracy = []\n",
        "\n",
        "    # Will be reset every print_every (or plot_every) iterations\n",
        "    print_loss_total = 0\n",
        "    plot_loss_total = 0\n",
        "    print_acc_total = 0\n",
        "    plot_acc_total = 0\n",
        "\n",
        "    encoder_optimizer = optim.Adam(encoder.parameters(), lr=learning_rate)\n",
        "    decoder_optimizer = optim.Adam(decoder.parameters(), lr=learning_rate)\n",
        "    # Create a list of random samples from the dataset, equal in length to the\n",
        "    # number of iterations (n_iters)\n",
        "    training_pairs = [tensorsFromPair(random.choice(pairs)) for i in range(n_iters)]\n",
        "\n",
        "    criterion = nn.NLLLoss()\n",
        "\n",
        "    progress_bar = tqdm(total=n_iters)\n",
        "    progress_bar.set_description('Training progress')\n",
        "\n",
        "    # Train on selected samples\n",
        "    for iter in range(1, n_iters + 1):\n",
        "        training_pair = training_pairs[iter - 1]\n",
        "        input_tensor = training_pair[0]\n",
        "        target_tensor = training_pair[1]\n",
        "\n",
        "        loss, acc = train(input_tensor, target_tensor, encoder, decoder,\n",
        "                          encoder_optimizer, decoder_optimizer, criterion)\n",
        "\n",
        "        print_loss_total += loss\n",
        "        plot_loss_total += loss\n",
        "        print_acc_total += acc\n",
        "        plot_acc_total += acc\n",
        "        \n",
        "        # Print loss information\n",
        "        if iter % print_every == 0:\n",
        "            print_loss_avg = print_loss_total / print_every\n",
        "            print_acc_avg = print_acc_total / print_every\n",
        "            # Reset loss and accuracy sums\n",
        "            print_loss_total = 0\n",
        "            print_acc_total = 0\n",
        "            progress_bar.set_description(f'Training progress: loss={print_loss_avg:,.2f}, acc={print_acc_avg:,.2f}')\n",
        "        \n",
        "        # Save loss information for plotting\n",
        "        if iter % plot_every == 0:\n",
        "            plot_loss_avg = plot_loss_total / plot_every\n",
        "            plot_acc_avg = plot_acc_total / plot_every\n",
        "            # Reset loss and accuracy sums\n",
        "            plot_loss_total = 0\n",
        "            plot_acc_total = 0\n",
        "            plot_losses.append(plot_loss_avg)\n",
        "            plot_accuracy.append(plot_acc_avg)\n",
        "        \n",
        "        progress_bar.update(n=1)\n",
        "\n",
        "    # showPlot(plot_losses, plot_accuracy)\n",
        "\n",
        "    return plot_losses, plot_accuracy"
      ]
    },
    {
      "cell_type": "markdown",
      "metadata": {
        "id": "MJhicmBQyMS8"
      },
      "source": [
        "## Evaluation\n",
        "Follows same procedure as training, but there are no target labels -- the model's predictions are just passed right back as inputs for the next iteration.\n",
        "\n",
        "https://pytorch.org/tutorials/intermediate/seq2seq_translation_tutorial.html#evaluation"
      ]
    },
    {
      "cell_type": "code",
      "execution_count": 57,
      "metadata": {
        "id": "kXbTk9nnxiyL"
      },
      "outputs": [],
      "source": [
        "def eval(encoder, decoder, sentence, max_length=MAX_LENGTH):\n",
        "    # Disable gradient computation\n",
        "    with torch.no_grad():\n",
        "        input_tensor = tensorFromSentence(input_lang, sentence)\n",
        "        input_length = input_tensor.size(0)\n",
        "        encoder_hidden = encoder.initHidden()\n",
        "\n",
        "        encoder_outputs = torch.zeros(max_length, encoder.hidden_size, device=device)\n",
        "\n",
        "        for encoder_input in range(input_length):\n",
        "            encoder_output, encoder_hidden = encoder(\n",
        "                input_tensor[encoder_input], encoder_hidden)\n",
        "            \n",
        "            encoder_outputs[encoder_input] += encoder_output[0, 0]\n",
        "        \n",
        "        # Start decoder with start-of-sequence (SOS) token\n",
        "        decoder_input = torch.tensor([[SOS_token]], device=device)\n",
        "        decoder_hidden = encoder_hidden\n",
        "\n",
        "        decoded_words = []\n",
        "\n",
        "        # Size reference for the tensors used below\n",
        "        # `````````````````````````````````````````\n",
        "        # decoder_output is a tensor of size torch.Size([1, 3228])\n",
        "        # decoder_output is a probability distribution across all words in the output space\n",
        "        # which, for Enlish is 3,228 (see the cell above where languages are loaded for the count)\n",
        "        # topvalue and topindex are tensors of size torch.Size([1, 1])\n",
        "        # topvalue is the maximum value across the decoder_output tensor\n",
        "        # topindex is the index (position) of the maximum value in the\n",
        "        # decoder_output tensor; that is, it is the word that has the highest\n",
        "        # probability.\n",
        "        \n",
        "\n",
        "        for di in range(max_length):\n",
        "            decoder_output, decoder_hidden = decoder(decoder_input, decoder_hidden)\n",
        "            topvalue, topindex = decoder_output.data.topk(1)\n",
        "\n",
        "            # Uncomment these lines to learn about the variables used here.\n",
        "            # print(f'decoder output: {decoder_output.data}')\n",
        "            # print(f'decoder output size: {decoder_output.data.shape}')\n",
        "            # print(f'topvalue: {topvalue}, topindex: {topindex}')\n",
        "            # print(f'topvalue size: {topvalue.shape}, topindex size: {topindex.shape}\\n')\n",
        "            \n",
        "            if topindex.item() == EOS_token:\n",
        "                decoded_words.append('<EOS>')\n",
        "                break\n",
        "            else:\n",
        "                decoded_words.append(output_lang.index2word[topindex.item()])\n",
        "            \n",
        "            decoder_input = topindex.squeeze().detach()\n",
        "        \n",
        "        return decoded_words"
      ]
    },
    {
      "cell_type": "markdown",
      "metadata": {
        "id": "gtlL5GHx1T-8"
      },
      "source": [
        "Create function to display outputs from evaluation"
      ]
    },
    {
      "cell_type": "code",
      "execution_count": 44,
      "metadata": {
        "id": "bZ9inZOvxiu_"
      },
      "outputs": [],
      "source": [
        "def evalRandomly(encoder, decoder, n=10):\n",
        "    for i in range(n):\n",
        "        pair = random.choice(pairs)\n",
        "        output_words = eval(encoder, decoder, pair[0])\n",
        "        output_sentence = ' '.join(output_words)\n",
        "        print(f'Input: {pair[0]}')\n",
        "        print(f'Target: {pair[1]}')\n",
        "        print(f'Guess: {output_sentence}\\n')"
      ]
    },
    {
      "cell_type": "markdown",
      "metadata": {
        "id": "mLMKSnOu2ZBf"
      },
      "source": [
        "## Create and train network"
      ]
    },
    {
      "cell_type": "code",
      "execution_count": 64,
      "metadata": {
        "id": "OnDc8TDExir_"
      },
      "outputs": [],
      "source": [
        "# Set number of hidden nodes\n",
        "hidden_size = 64\n",
        "# Initialize networks\n",
        "encoder1 = EncoderRNN(input_lang.n_words, hidden_size).to(device)\n",
        "decoder1 = DecoderRNN(hidden_size, output_lang.n_words).to(device)"
      ]
    },
    {
      "cell_type": "code",
      "execution_count": 65,
      "metadata": {
        "colab": {
          "base_uri": "https://localhost:8080/",
          "height": 49,
          "referenced_widgets": [
            "668aba69d30046beb1ed925e583b6be2",
            "a1d2fd60e1a04371a5fd1b4c4e1742ad",
            "a5997e9f00574065a2de4fd5caa9a5e2",
            "3e335eba3bb5405288f4c74e6c33ecc2",
            "c2c5130b6e344e9cac012fd883199310",
            "7a657de9ff484f679c93c3ed767515ed",
            "3d2e7a7ed7f44efca28efe2c90f58f37",
            "fd9bb87550d1403a9e5dc3e69aca4245",
            "6d6553c8ed684f39b0e0329cbe9a5a37",
            "fb3fb73436a6462fa455287967ee3827",
            "17a4892a2a5644dc8bf90608b3eb0716"
          ]
        },
        "id": "0EQRlWYp9HPI",
        "outputId": "054520f7-8688-46aa-b585-fbee3f1b3d84"
      },
      "outputs": [
        {
          "data": {
            "application/vnd.jupyter.widget-view+json": {
              "model_id": "668aba69d30046beb1ed925e583b6be2",
              "version_major": 2,
              "version_minor": 0
            },
            "text/plain": [
              "  0%|          | 0/1000 [00:00<?, ?it/s]"
            ]
          },
          "metadata": {},
          "output_type": "display_data"
        }
      ],
      "source": [
        "# Run training loop\n",
        "plot_losses, plot_accuracy = trainIters(encoder1, decoder1, n_iters=1000, print_every=10, plot_every=100)"
      ]
    },
    {
      "cell_type": "code",
      "execution_count": 66,
      "metadata": {
        "colab": {
          "base_uri": "https://localhost:8080/",
          "height": 297
        },
        "id": "63nr52em_LrO",
        "outputId": "4d55c7c6-4baf-4e6c-b946-21d83f3da482"
      },
      "outputs": [
        {
          "data": {
            "image/png": "[encoded data removed]",
            "text/plain": [
              "<Figure size 432x288 with 2 Axes>"
            ]
          },
          "metadata": {
            "needs_background": "light"
          },
          "output_type": "display_data"
        }
      ],
      "source": [
        "showPlot(plot_losses, plot_accuracy, xlabels=['Samples x 100', 'Samples x 100'])"
      ]
    },
    {
      "cell_type": "code",
      "execution_count": 67,
      "metadata": {
        "colab": {
          "base_uri": "https://localhost:8080/"
        },
        "id": "7P82tWRq5yzE",
        "outputId": "d8199b6c-95a2-41fd-ac72-c592916c8a0e"
      },
      "outputs": [
        {
          "name": "stdout",
          "output_type": "stream",
          "text": [
            "Input: je suis fatiguee des devoirs .\n",
            "Target: i am tired of homework .\n",
            "Guess: i m smarter to . <EOS>\n",
            "\n",
            "Input: elle est un peu niaise .\n",
            "Target: she s a bit naive .\n",
            "Guess: she s a to . <EOS>\n",
            "\n",
            "Input: je suis heureuse moi aussi .\n",
            "Target: i m happy too .\n",
            "Guess: i m sure . . <EOS>\n",
            "\n"
          ]
        }
      ],
      "source": [
        "evalRandomly(encoder1, decoder1, n=3)"
      ]
    },
    {
      "cell_type": "markdown",
      "metadata": {
        "id": "cksgAH12XRjV"
      },
      "source": [
        "# Lab 6: Sequence-to-sequence models\n",
        "\n",
        "### Description:\n",
        "For this lab, you will replicate the [char-rnn model by Andrej Karpathy](http://karpathy.github.io/2015/05/21/rnn-effectiveness/). This is a recurrent neural network that is trained probabilistically on sequences of characters and can be used to sample new sequences that are like the original.\n",
        "\n",
        "This lab will help you develop several new skills and understand some best practices needed for building large models. In addition, you'll be able to create networks that generate neat text!\n",
        "\n",
        "### Deliverable:\n",
        "- Fill in the code for the RNN (using PyTorch's built-in GRU).\n",
        "- Fill in the training loop\n",
        "- Fill in the evaluation loop. In this loop, rather than using a validation set, you will sample text from the RNN.\n",
        "- Implement your own GRU cell.\n",
        "- Train your RNN on a new domain of text (Star Wars, political speeches, etc. - have fun!)\n",
        "\n",
        "### Grading Standards:\n",
        "- 20% Implementation the RNN\n",
        "- 20% Implementation training loop\n",
        "- 20% Implementation of evaluation loop\n",
        "- 20% Implementation of your own GRU cell\n",
        "- 20% Training of your RNN on a domain of your choice\n",
        "\n",
        "### Tips:\n",
        "- Read through all the helper functions, run them, and make sure you understand what they are doing\n",
        "- At each stage, ask yourself: What should the dimensions of this tensor be? Should its data type be float or int? (int is called `long` in PyTorch)\n",
        "- Don't apply a softmax inside the RNN if you are using an nn.CrossEntropyLoss (which already applies a softmax as part of its computation).\n",
        "\n",
        "### Example Output:\n",
        "An example of my final samples are shown below (more detail in the\n",
        "final section of this writeup), after 150 passes through the data.\n",
        "Please generate about 15 samples for each dataset.\n",
        "\n",
        "<code>\n",
        "And ifte thin forgision forward thene over up to a fear not your\n",
        "And freitions, which is great God. Behold these are the loss sub\n",
        "And ache with the Lord hath bloes, which was done to the holy Gr\n",
        "And appeicis arm vinimonahites strong in name, to doth piseling \n",
        "And miniquithers these words, he commanded order not; neither sa\n",
        "And min for many would happine even to the earth, to said unto m\n",
        "And mie first be traditions? Behold, you, because it was a sound\n",
        "And from tike ended the Lamanites had administered, and I say bi\n",
        "</code>\n"
      ]
    },
    {
      "cell_type": "markdown",
      "metadata": {
        "id": "c2i_QpSsWG4c"
      },
      "source": [
        "## Part 0: Readings, data loading, and high-level training\n",
        "\n",
        "---\n",
        "\n",
        "The PyTorch sequence-to-sequence tutorial will help you develop your understanding of the code to implement a text-generating RNN.\n",
        "\n",
        "**Read the following**\n",
        "\n",
        "**Done** ✅ \n",
        "* ✅ [Pytorch sequence-to-sequence tutorial](https://pytorch.org/tutorials/intermediate/seq2seq_translation_tutorial.html) (You will NOT be implementing the encoder part of this tutorial.) --> See section [PyTorch Seq2Seq tutorial](#scrollTo=PyTorch_Seq2Seq_tutorial) above.\n",
        "* ✅ [Understanding LSTM Networks](http://colah.github.io/posts/2015-08-Understanding-LSTMs/)\n",
        "\n",
        "\n",
        "\n",
        "\n"
      ]
    },
    {
      "cell_type": "code",
      "execution_count": 1,
      "metadata": {
        "colab": {
          "base_uri": "https://localhost:8080/"
        },
        "id": "l7bdZWxvJrsx",
        "outputId": "29e6c1ae-33ff-40fa-f5e9-597d8c09671e"
      },
      "outputs": [
        {
          "name": "stdout",
          "output_type": "stream",
          "text": [
            "--2022-02-13 00:02:51--  https://piazza.com/redirect/s3?bucket=uploads&prefix=attach%2Fjlifkda6h0x5bk%2Fhzosotq4zil49m%2Fjn13x09arfeb%2Ftext_files.tar.gz\n",
            "Resolving piazza.com (piazza.com)... 18.214.211.171, 54.156.235.193, 52.7.218.200, ...\n",
            "Connecting to piazza.com (piazza.com)|18.214.211.171|:443... connected.\n",
            "HTTP request sent, awaiting response... 302 Found\n",
            "Location: https://cdn-uploads.piazza.com/attach/jlifkda6h0x5bk/hzosotq4zil49m/jn13x09arfeb/text_files.tar.gz [following]\n",
            "--2022-02-13 00:02:51--  https://cdn-uploads.piazza.com/attach/jlifkda6h0x5bk/hzosotq4zil49m/jn13x09arfeb/text_files.tar.gz\n",
            "Resolving cdn-uploads.piazza.com (cdn-uploads.piazza.com)... 65.8.181.79, 65.8.181.46, 65.8.181.3, ...\n",
            "Connecting to cdn-uploads.piazza.com (cdn-uploads.piazza.com)|65.8.181.79|:443... connected.\n",
            "HTTP request sent, awaiting response... 200 OK\n",
            "Length: 1533290 (1.5M) [application/x-gzip]\n",
            "Saving to: ‘./text_files.tar.gz’\n",
            "\n",
            "./text_files.tar.gz 100%[===================>]   1.46M  --.-KB/s    in 0.1s    \n",
            "\n",
            "2022-02-13 00:02:51 (12.5 MB/s) - ‘./text_files.tar.gz’ saved [1533290/1533290]\n",
            "\n",
            "Collecting unidecode\n",
            "  Downloading Unidecode-1.3.2-py3-none-any.whl (235 kB)\n",
            "\u001b[K     |████████████████████████████████| 235 kB 5.0 MB/s \n",
            "\u001b[?25hInstalling collected packages: unidecode\n",
            "Successfully installed unidecode-1.3.2\n",
            "\n",
            "\n",
            "file length: 2,579,888 bytes\n"
          ]
        }
      ],
      "source": [
        "! wget -O ./text_files.tar.gz 'https://piazza.com/redirect/s3?bucket=uploads&prefix=attach%2Fjlifkda6h0x5bk%2Fhzosotq4zil49m%2Fjn13x09arfeb%2Ftext_files.tar.gz' \n",
        "! tar -xzf text_files.tar.gz\n",
        "! pip install unidecode\n",
        "# ! pip install torch\n",
        "\n",
        "import unidecode\n",
        "import string\n",
        "import random\n",
        "import re\n",
        " \n",
        "# import pdb\n",
        "\n",
        "# string.printable returns a string of all printable ASCII characters\n",
        "all_characters = string.printable\n",
        "n_characters = len(all_characters)\n",
        "file = unidecode.unidecode(open('./text_files/lotr.txt').read())\n",
        "file_len = len(file)\n",
        "print(f'\\n\\nfile length: {file_len:,d} characters')"
      ]
    },
    {
      "cell_type": "markdown",
      "metadata": {
        "id": "pgbIPOW-DpoY"
      },
      "source": [
        "Define a function to sample a random section of the training text.\n",
        "\n",
        "Returns a `chunk_len` section of sequential characters from the training text starting at a randomly-chosen index."
      ]
    },
    {
      "cell_type": "code",
      "execution_count": 3,
      "metadata": {
        "colab": {
          "base_uri": "https://localhost:8080/"
        },
        "id": "TxBeKeNjJ0NQ",
        "outputId": "4828df32-dea6-407e-e1cc-91003fafbd46"
      },
      "outputs": [
        {
          "name": "stdout",
          "output_type": "stream",
          "text": [
            "news and no mistake. You have not told me all, no \n",
            "indeed, not by a long way. But I do not doubt that you are doing as Gandalf \n",
            "would wish. There is something very big going on, that I can see, and wha\n"
          ]
        }
      ],
      "source": [
        "chunk_len = 300\n",
        " \n",
        "def random_chunk():\n",
        "    start_index = random.randint(0, file_len - chunk_len)\n",
        "    end_index = start_index + chunk_len + 1\n",
        "    return file[start_index:end_index]\n",
        "  \n",
        "print(random_chunk())"
      ]
    },
    {
      "cell_type": "markdown",
      "metadata": {
        "id": "G516a49iFPcV"
      },
      "source": [
        "Store character indices in a vector (`tensor`, in this case)"
      ]
    },
    {
      "cell_type": "code",
      "execution_count": 5,
      "metadata": {
        "colab": {
          "base_uri": "https://localhost:8080/"
        },
        "id": "On0_WitWJ99e",
        "outputId": "62434817-4877-418c-fffe-73ee17e494d0"
      },
      "outputs": [
        {
          "name": "stdout",
          "output_type": "stream",
          "text": [
            "tensor([10, 11, 12, 39, 40, 41])\n"
          ]
        }
      ],
      "source": [
        "import torch\n",
        "\n",
        "# Turn string into list of longs\n",
        "def char_tensor(string):\n",
        "    tensor = torch.zeros(len(string)).long()\n",
        "    for c in range(len(string)):\n",
        "        tensor[c] = all_characters.index(string[c])\n",
        "    return tensor\n",
        "\n",
        "print(char_tensor('abcDEF'))"
      ]
    },
    {
      "cell_type": "code",
      "execution_count": 71,
      "metadata": {
        "colab": {
          "base_uri": "https://localhost:8080/"
        },
        "id": "BatgZR--FdDg",
        "outputId": "76f4129d-a90b-43c4-be67-4aa4d9abb8fa"
      },
      "outputs": [
        {
          "name": "stdout",
          "output_type": "stream",
          "text": [
            "0: 0 | 1: 1 | 2: 2 | 3: 3 | 4: 4\n",
            "5: 5 | 6: 6 | 7: 7 | 8: 8 | 9: 9\n",
            "10: a | 11: b | 12: c | 13: d | 14: e\n",
            "15: f | 16: g | 17: h | 18: i | 19: j\n",
            "20: k | 21: l | 22: m | 23: n | 24: o\n",
            "25: p | 26: q | 27: r | 28: s | 29: t\n",
            "30: u | 31: v | 32: w | 33: x | 34: y\n",
            "35: z | 36: A | 37: B | 38: C | 39: D\n",
            "40: E | 41: F | 42: G | 43: H | 44: I\n",
            "45: J | 46: K | 47: L | 48: M | 49: N\n",
            "50: O | 51: P | 52: Q | 53: R | 54: S\n",
            "55: T | 56: U | 57: V | 58: W | 59: X\n",
            "60: Y | 61: Z | 62: ! | 63: \" | 64: #\n",
            "65: $ | 66: % | 67: & | 68: ' | 69: (\n",
            "70: ) | 71: * | 72: + | 73: , | 74: -\n",
            "75: . | 76: / | 77: : | 78: ; | 79: <\n",
            "80: = | 81: > | 82: ? | 83: @ | 84: [\n",
            "85: \\ | 86: ] | 87: ^ | 88: _ | 89: `\n",
            "90: { | 91: | | 92: } | 93: ~ | 94:  \n",
            "95: \t | 96: \n",
            " | 97: \r | 98: \u000b | 99: \f\n"
          ]
        }
      ],
      "source": [
        "# Display character list with indexes\n",
        "for i in range(20):\n",
        "    print(f'{i*5}: {all_characters[i*5]} | {(i*5)+1}: {all_characters[(i*5)+1]}'\n",
        "    + f' | {(i*5)+2}: {all_characters[(i*5)+2]} | {(i*5)+3}: {all_characters[(i*5)+3]}'\n",
        "    + f' | {(i*5)+4}: {all_characters[(i*5)+4]}')\n",
        "\n",
        "# Alternative method:\n",
        "# [(i, char) for i, char in enumerate(all_characters)]"
      ]
    },
    {
      "cell_type": "markdown",
      "metadata": {
        "id": "CYJPTLcaYmfI"
      },
      "source": [
        "---\n",
        "\n",
        "## Part 4: Creating your own GRU cell \n",
        "\n",
        "**(Come back to this later - its defined here so that the GRU will be defined before it is used)**\n",
        "\n",
        "---\n",
        "\n",
        "The cell that you used in Part 1 was a pre-defined Pytorch layer. Now, write your own GRU class using the same parameters as the built-in Pytorch class does.\n",
        "\n",
        "Please try not to look at the GRU cell definition. The answer is right there in the code, and in theory, you could just cut-and-paste it. This bit is on your honor!\n",
        "\n",
        "**TODO:**\n",
        "\n",
        "**DOING:**\n",
        "* Create a custom GRU cell\n",
        "\n",
        "**DONE:**\n",
        "\n",
        "\n",
        "## Helpful references\n",
        "* https://pytorch.org/docs/stable/generated/torch.nn.GRU.html\n",
        "* https://pytorch.org/docs/stable/generated/torch.nn.GRUCell.html\n",
        "* https://blog.floydhub.com/gru-with-pytorch/\n",
        "* https://towardsdatascience.com/understanding-gru-networks-2ef37df6c9be\n",
        "\n",
        "\n"
      ]
    },
    {
      "cell_type": "code",
      "execution_count": 6,
      "metadata": {
        "id": "aavAv50ZKQ-F"
      },
      "outputs": [],
      "source": [
        "import torch\n",
        "import torch.nn as nn\n",
        "import torch.nn.functional as F\n",
        "\n",
        "\n",
        "class GRU(nn.Module):\n",
        "    def __init__(self, input_size, hidden_size, num_layers):\n",
        "        super().__init__()\n",
        "        self.input_size = input_size\n",
        "        self.hidden_size = hidden_size\n",
        "        self.num_layers = num_layers\n",
        "\n",
        "        # Activation functions\n",
        "        self.sigmoid = nn.Sigmoid()\n",
        "        self.tanh = nn.Tanh()\n",
        "\n",
        "        # Linear layers (weight matrices)\n",
        "        # ```````````````````````````````\n",
        "        # Connor (TA) said: Remember to not reuse \n",
        "        # weight and bias matrices/linear layers.\n",
        "        # You can use a loop to create the weights for each layer \n",
        "        # (you'll need 6 separate [weights]), but remember to store them in \n",
        "        # an nn.ModuleList rather than a standard Python list, so PyTorch can\n",
        "        # correctly find their parameters when you call model.parameters().\n",
        "\n",
        "    \n",
        "    def forward(self, inputs, hidden):\n",
        "        # Each layer does the following:\n",
        "        # r_t = sigmoid(W_ir*x_t + b_ir + W_hr*h_(t-1) + b_hr)\n",
        "        # z_t = sigmoid(W_iz*x_t + b_iz + W_hz*h_(t-1) + b_hz)\n",
        "        # n_t = tanh(W_in*x_t + b_in + r_t**(W_hn*h_(t-1) + b_hn))\n",
        "        # h_(t) = (1 - z_t)**n_t + z_t**h_(t-1)\n",
        "        # Where ** is hadamard product (not matrix multiplication, but elementwise multiplication)\n",
        "        return outputs, hiddens\n",
        "  \n"
      ]
    },
    {
      "cell_type": "markdown",
      "metadata": {
        "id": "qtXdX-B_WiAY"
      },
      "source": [
        "---\n",
        "\n",
        "##  Part 1: Building a sequence to sequence model\n",
        "\n",
        "---\n",
        "\n",
        "Great! We have the data in a useable form. We can switch out which text file we are reading from and trying to simulate.\n",
        "\n",
        "We now want to build an RNN model. In this section, we will use built-in PyTorch pieces to create our RNN class.\n",
        "\n",
        "\n",
        "**TODO:**\n",
        "\n",
        "**DONE:** ✅\n",
        "* ✅ Create an RNN class that extends from nn.Module.\n",
        "\n"
      ]
    },
    {
      "cell_type": "code",
      "execution_count": 38,
      "metadata": {
        "id": "d6tNdEnzWj5F"
      },
      "outputs": [],
      "source": [
        "class RNN(nn.Module):\n",
        "    def __init__(self, input_size, hidden_size, output_size, n_layers=1):\n",
        "        super().__init__()\n",
        "        self.input_size = input_size\n",
        "        self.hidden_size = hidden_size\n",
        "        self.output_size = output_size\n",
        "        self.n_layers = n_layers\n",
        "        \n",
        "        # Vector representation of input\n",
        "        self.embedding = nn.Embedding(num_embeddings = input_size,\n",
        "                                      embedding_dim = output_size)\n",
        "        # Gated Recurrent Unit\n",
        "        self.gru = nn.GRU(input_size = input_size,\n",
        "                          hidden_size = hidden_size,\n",
        "                          num_layers = n_layers)\n",
        "        # Output (linear fully-connected layer)\n",
        "        self.fc = nn.Linear(hidden_size, output_size)\n",
        "        self.relu = nn.ReLU()\n",
        "\n",
        "\n",
        "    def forward(self, input_char, hidden):\n",
        "        # GRU docs: https://pytorch.org/docs/stable/generated/torch.nn.GRU.html\n",
        "        # Output is in the form: output, hidden_state\n",
        "        # Input format is sequence_length, batch_size, input_size\n",
        "        # Since this is a 1-char model, sequence_length = 1. batch_size also = 1\n",
        "        output = self.embedding(input_char).view(1, 1, -1)\n",
        "        output, hidden = self.gru(output, hidden)\n",
        "        # Output is returned in 3 dimensions: sequence_length, batch_size, probability_distribution\n",
        "        # Squeeze output so there are only 2 dimensions: (1, n_characters)\n",
        "        output = self.relu(self.fc(output.squeeze(dim=0)))\n",
        "        return output, hidden\n",
        "\n",
        "    def init_hidden(self):\n",
        "        return torch.zeros(self.n_layers, 1, self.hidden_size)"
      ]
    },
    {
      "cell_type": "markdown",
      "metadata": {
        "id": "8RL7b1MZSaXF"
      },
      "source": [
        "The `random_training_set()` function selects a random subset of the training text and offsets that subset by 1 character to define the target set."
      ]
    },
    {
      "cell_type": "code",
      "execution_count": null,
      "metadata": {
        "id": "hrhXghEPKD-5"
      },
      "outputs": [],
      "source": [
        "def random_training_set():    \n",
        "    chunk = random_chunk()\n",
        "    inp = char_tensor(chunk[:-1])\n",
        "    target = char_tensor(chunk[1:])\n",
        "    return inp, target\n",
        "\n",
        "# random_training_set()"
      ]
    },
    {
      "cell_type": "markdown",
      "metadata": {
        "id": "ZpiGObbBX0Mr"
      },
      "source": [
        "---\n",
        "\n",
        "## Part 2: Sample text and Training information\n",
        "\n",
        "---\n",
        "\n",
        "We now want to be able to train our network and sample text after training.\n",
        "\n",
        "This function outlines how training a sequence style network goes. \n",
        "\n",
        "### NOTE: `decoder_optimizer`, `decoder` (RNN model), and `criterion` (loss function) will be defined below as global variables\n",
        "\n",
        "**TODO:**\n",
        "\n",
        "**DONE:** ✅\n",
        "* ✅ Fill in the pieces.\n",
        "\n",
        "\n"
      ]
    },
    {
      "cell_type": "code",
      "execution_count": 50,
      "metadata": {
        "id": "2ALC3Pf8Kbsi"
      },
      "outputs": [],
      "source": [
        "def train(inp, target):\n",
        "    ## initialize hidden layers, set up gradient and loss \n",
        "    decoder_optimizer.zero_grad()\n",
        "    hidden = decoder.init_hidden()\n",
        "    # Store each prediction, for verifying against target\n",
        "    predictions = []\n",
        "\n",
        "    # Start loss and accuracy at 0\n",
        "    loss = 0\n",
        "    # Accuracy is: num_correct_outputs / total_outputs. Best is 1, worst is 0.\n",
        "    acc = 0\n",
        "    \n",
        "    # Set first input to the first character in the input set\n",
        "    input_char = inp[0]\n",
        "\n",
        "    # Run the decoder once for each character in the chunk_size (target length)\n",
        "    for i in range(len(target)):\n",
        "        # Set input for the iteration\n",
        "        input_char = inp[i]           # <-- Teacher Forcing\n",
        "        decoder_output, hidden = decoder(input_char, hidden)\n",
        "\n",
        "        # # Set input for next iteration, the max probability from outputs\n",
        "        # # Dim 0 is the batch_size (just 1), so dim 1 is the probability distribution\n",
        "        # # vector across the possible output space (100-dimensions, one for each character).\n",
        "        # # Calling the .detach() method removes the tensor from the computation graph.\n",
        "        # input_char = decoder_output.argmax(dim=1).detach()\n",
        "\n",
        "        # Calculate loss and accuracy (which are scalar values)\n",
        "        # unsqueeze operation gives a \"batch_size\" dimension to the target\n",
        "        loss += criterion(decoder_output, target[i].unsqueeze(0))\n",
        "        predictions.append(decoder_output.argmax(dim=1).item())\n",
        "    \n",
        "    # Backpropagate the loss\n",
        "    loss.backward()\n",
        "\n",
        "    # Step along gradient\n",
        "    decoder_optimizer.step()\n",
        "\n",
        "    # Return the loss and accuracy per iteration\n",
        "    return loss.item(), predictions"
      ]
    },
    {
      "cell_type": "markdown",
      "metadata": {
        "id": "EN06NUu3YRlz"
      },
      "source": [
        "---\n",
        "\n",
        "## Part 3: Sample text and Training information\n",
        "\n",
        "---\n",
        "\n",
        "You can at this time, if you choose, also write out your train loop boilerplate that samples random sequences and trains your RNN. This will be helpful to have working before writing your own GRU class.\n",
        "\n",
        "If you are finished training, or during training, and you want to sample from the network you may consider using the following function. If your RNN model is instantiated as `decoder`then this will probabilistically sample a sequence of length `predict_len`\n",
        "\n",
        "**TODO:**\n",
        "\n",
        "**DONE:** ✅\n",
        "* ✅ Fill out the evaluate function to generate text frome a primed string\n"
      ]
    },
    {
      "cell_type": "code",
      "execution_count": 130,
      "metadata": {
        "id": "B-bp-OZ1KjNh"
      },
      "outputs": [],
      "source": [
        "def sample_outputs(output, temperature):\n",
        "    \"\"\"Takes in a vector of unnormalized probability weights and samples a character from the distribution\"\"\"\n",
        "    return torch.multinomial(torch.exp(output / temperature), 1)\n",
        "\n",
        "def evaluate(prime_str='A', predict_len=100, temperature=0.8):\n",
        "    with torch.no_grad():\n",
        "        # Initialize hidden state\n",
        "        hidden = decoder.init_hidden()\n",
        "        # First, \"prime\" the sequence generation with the prime_str\n",
        "        full_text = ''\n",
        "        for one_char in prime_str:\n",
        "            full_text += one_char\n",
        "            decoder_output, hidden = decoder(char_tensor(one_char), hidden)\n",
        "\n",
        "        inp_char = sample_outputs(decoder_output, temperature)\n",
        "        for iter in range(predict_len):\n",
        "            decoder_output, hidden = decoder(inp_char, hidden)\n",
        "            chosen_char = sample_outputs(decoder_output, temperature)\n",
        "            inp_char = chosen_char\n",
        "            full_text += all_characters[chosen_char.item()]\n",
        "        \n",
        "    return full_text"
      ]
    },
    {
      "cell_type": "markdown",
      "metadata": {
        "id": "Du4AGA8PcFEW"
      },
      "source": [
        "---\n",
        "\n",
        "## Part 4: (Create a GRU cell, requirements above)\n",
        "\n",
        "---\n"
      ]
    },
    {
      "cell_type": "markdown",
      "metadata": {
        "id": "GFS2bpHSZEU6"
      },
      "source": [
        "\n",
        "---\n",
        "\n",
        "## Part 5: Run it and generate some text!\n",
        "\n",
        "---\n",
        "\n",
        "**TODO:** \n",
        "\n",
        "**DONE:** ✅\n",
        "* ✅ Create some cool output\n",
        "\n",
        "\n",
        "Assuming everything has gone well, you should be able to run the main function in the scaffold code, using either your custom GRU cell or the built in layer, and see output something like this. I trained on the “lotr.txt” dataset, using chunk_length=200, hidden_size=100 for 2000 epochs. These are the results, along with the prime string:\n",
        "\n",
        "---\n",
        "\n",
        "```\n",
        "Seed string: 'G'\n",
        " \n",
        " Gandalf was decrond. \n",
        "'All have lord you. Forward the road at least walk this is stuff, and \n",
        "went to the long grey housel-winding and kindled side was a sleep pleasuring, I do long \n",
        "row hrough. In  \n",
        "\n",
        "\n",
        "I:\n",
        " \n",
        " I they were not the lord of the hoomes. \n",
        "Home already well from the Elves. And he sat strength, and we \n",
        "housed out of the good of the days to the mountains from his perith. \n",
        "\n",
        "'Yess! Where though as if  \n",
        "\n",
        "```\n",
        "---\n"
      ]
    },
    {
      "cell_type": "code",
      "execution_count": 82,
      "metadata": {
        "id": "-nXFeCmdKodw"
      },
      "outputs": [],
      "source": [
        "from tqdm.notebook import tqdm\n",
        "n_iters = 2000\n",
        "print_every = 10\n",
        "plot_every = 100\n",
        "hidden_size = 128\n",
        "n_layers = 3\n",
        "lr = 0.001\n",
        " \n",
        "decoder = RNN(n_characters, hidden_size, n_characters, n_layers)\n",
        "decoder_optimizer = torch.optim.Adam(decoder.parameters(), lr=lr)\n",
        "criterion = nn.CrossEntropyLoss()"
      ]
    },
    {
      "cell_type": "markdown",
      "metadata": {
        "id": "Nh5iKOJScyei"
      },
      "source": [
        "Below is the model (`decoder`) training loop. Each epoch is a single pass through a 'chunk' of text, as defined by the `chunk_len` variable at the beginning of this lab."
      ]
    },
    {
      "cell_type": "code",
      "execution_count": 83,
      "metadata": {
        "colab": {
          "base_uri": "https://localhost:8080/",
          "height": 49,
          "referenced_widgets": [
            "2ef87b23b59d4b4ca126b70303928214",
            "0cdf46998c4b46f2bedbbb812b816a43",
            "fbbe44766e6744a28149189e44623f4a",
            "0df45daae7ad4daaab054bc639f796c0",
            "56a82614ebdf46eab7dc43ff6b688e41",
            "5c18658e37f642eca6f054dd246c3fa0",
            "aa26c828cb3646a3b7f3c41f00c9104f",
            "bf8fe007cdd545fba81be11b4e4da9f3",
            "edaddd973c354c668f2a7a7520738df6",
            "e9e933604de54e129befe09009f87d2d",
            "ef7c3c81f8594dd3a597f86b5fee127d"
          ]
        },
        "id": "xKfozqw-6eqb",
        "outputId": "9bebae30-2a8b-45e1-ea5a-ce1ac0eecbe9"
      },
      "outputs": [
        {
          "data": {
            "application/vnd.jupyter.widget-view+json": {
              "model_id": "2ef87b23b59d4b4ca126b70303928214",
              "version_major": 2,
              "version_minor": 0
            },
            "text/plain": [
              "  0%|          | 0/2000 [00:00<?, ?it/s]"
            ]
          },
          "metadata": {},
          "output_type": "display_data"
        }
      ],
      "source": [
        "plot_losses = []\n",
        "plot_accuracy = []\n",
        "\n",
        "input_list = []\n",
        "target_list = []\n",
        "prediction_list = []\n",
        "\n",
        "print_loss_total = 0\n",
        "plot_loss_total = 0\n",
        "\n",
        "progress_bar = tqdm(total=n_iters)\n",
        "progress_bar.set_description('Training progress')\n",
        "\n",
        "for iter in range(1, n_iters+1):\n",
        "    # Run training through a sequence of chunk_len characters\n",
        "    inp_tensor, target_tensor = random_training_set()\n",
        "    # Save output: total loss over the sequence, and predictions\n",
        "    loss_, guesses = train(inp_tensor, target_tensor)\n",
        "    \n",
        "    input_list.extend(list(inp_tensor))\n",
        "    target_list.extend(list(target_tensor))\n",
        "    prediction_list.extend(guesses)\n",
        "    \n",
        "    print_loss_total += loss_\n",
        "    plot_loss_total += loss_\n",
        "\n",
        "    # Print loss information\n",
        "    if iter % print_every == 0:\n",
        "        seq_length = print_every * chunk_len\n",
        "        print_loss_avg = print_loss_total / seq_length\n",
        "        # Find the average accuracy over the past sequence_length number of predictions\n",
        "        print_acc_avg = sum([prediction_list[i]==target_list[i] for i in range(-seq_length, 0)]) / (seq_length)\n",
        "        # Reset loss and accuracy sums\n",
        "        print_loss_total = 0\n",
        "        progress_bar.set_description(f'Training progress: loss={print_loss_avg:,.2f}, acc={print_acc_avg:,.2f}')\n",
        "    \n",
        "    # Save loss information for plotting\n",
        "    if iter % plot_every == 0:\n",
        "        seq_length = plot_every * chunk_len\n",
        "        plot_loss_avg = plot_loss_total / seq_length\n",
        "        plot_acc_avg = sum([prediction_list[i]==target_list[i] for i in range(-seq_length, 0)]) / (seq_length)\n",
        "        # Reset loss and accuracy sums\n",
        "        plot_loss_total = 0\n",
        "        plot_losses.append(plot_loss_avg)\n",
        "        plot_accuracy.append(plot_acc_avg)\n",
        "    \n",
        "    progress_bar.update(n=1)"
      ]
    },
    {
      "cell_type": "markdown",
      "metadata": {
        "id": "YgWW9aUEhuNG"
      },
      "source": [
        "Display plots showing loss and accuracy over time"
      ]
    },
    {
      "cell_type": "code",
      "execution_count": 84,
      "metadata": {
        "colab": {
          "base_uri": "https://localhost:8080/",
          "height": 441
        },
        "id": "9icpFagMhtnq",
        "outputId": "db2ecb90-81e5-4f56-cb93-879202101d03"
      },
      "outputs": [
        {
          "data": {
            "image/png": "[encoded data removed]",
            "text/plain": [
              "<Figure size 432x432 with 2 Axes>"
            ]
          },
          "metadata": {
            "needs_background": "light"
          },
          "output_type": "display_data"
        }
      ],
      "source": [
        "import matplotlib.pyplot as plt\n",
        "\n",
        "x = range(0, n_iters, plot_every)\n",
        "\n",
        "# for info on subplots, see: https://matplotlib.org/stable/api/_as_gen/matplotlib.pyplot.subplots.html\n",
        "# and: https://matplotlib.org/stable/gallery/subplots_axes_and_figures/shared_axis_demo.html\n",
        "fig, (ax1, ax2) = plt.subplots(nrows=2, ncols=1, sharex=True, figsize=(6, 6))\n",
        "ax1.plot(x, plot_losses)\n",
        "ax1.set_title('Loss')\n",
        "ax1.set_ylabel('Loss')\n",
        "\n",
        "ax2.plot(x, plot_accuracy)\n",
        "ax2.set_title('Prediction Accuracy')\n",
        "ax2.set_xlabel('Number of sequences')\n",
        "ax2.set_ylabel('Accuracy')\n",
        "plt.tight_layout()\n",
        "plt.show()"
      ]
    },
    {
      "cell_type": "code",
      "execution_count": 85,
      "metadata": {
        "colab": {
          "base_uri": "https://localhost:8080/"
        },
        "id": "Ee0so6aKJ5L8",
        "outputId": "09a1e495-e89f-44ba-9cd7-a94224dec044"
      },
      "outputs": [
        {
          "name": "stdout",
          "output_type": "stream",
          "text": [
            " lo :\n",
            "\n",
            "king at the plaen head \n",
            "is bent the still on the must bStill in the nees of the \n",
            "is cave had mooth out gilfor to the vidil, see there is \n",
            "But the shall still still deepaned's eep the vines Sam, and he \n",
            "\n",
            "\n",
            " ca :\n",
            "\n",
            "es could recearan from the \n",
            "eril like the fells then the furth the reastling illed and the looded upon in the4's \n",
            "heart startle ons book, and the cands, and speal armed before the f \n",
            "\n",
            "\n",
            " ra :\n",
            "\n",
            "e bour (re unders and kno}s intave the botsed stats must the rince the gate \n",
            "peaths over and in \n",
            "not remmor, and left all for as time, but \n",
            "call be an in mights gubod, and the2ll \u000be could bent thun ea \n",
            "\n",
            "\n",
            " ca :\n",
            "\n",
            "e and here Lear in the have \n",
            "reallembers, and looked of \n",
            "the Fiders<ich of Zook find last to them\t had ba-ken \n",
            "that finch like the Ring fire out : But But into the feel though there dar\\ not hear crun \n",
            "\n",
            "\n",
            " ra :\n",
            "\n",
            "hing bittle, and go that follo8s of the\\ care the should hevour take the patht2ng's b$o the \n",
            "Bropslest and >or left Aronor, and had hone close of the \n",
            "denemuin Mordor ead, but massed under stunlfouste \n",
            "\n",
            "\n",
            " Th :\n",
            "\n",
            "] still before that hands,' said Sam there have been their a thought of his could not \n",
            "left that long no have \n",
            "the posencur and calk, if For the thought ^uchip and folZ into the shorse flied and entel \n",
            "\n",
            "\n",
            " lo :\n",
            "\n",
            "king stenred and the \n",
            "care, but in it the? Then the fell szil not fall all \n",
            "a troBder theP has \n",
            "mranging to paces still clive to could , and the stappin}ting olds \n",
            "refur, _eaded of the made dear had b \n",
            "\n",
            "\n",
            " wh :\n",
            "\n",
            "te he fell of =the heard spinl_ch stebled their \n",
            "giled, . For the \n",
            "stood upening in the *ust like that help in mountant, even the hines of the fine before heir, lets it talked \n",
            "to place )ans of for th \n",
            "\n",
            "\n",
            " ra :\n",
            "\n",
            "ched bagth long to me hage that \u000be his cell far lear care all fire, looked to he even~s time a \n",
            "galls held flope elven he had lands the old \n",
            "cire of the eeps a feet life hore for the gues\t, stood to t \n",
            "\n",
            "\n",
            " Th :\n",
            "\n",
            "lked so to \n",
            ": \n",
            "their baster+ its them againstange,' said lilt, have been this cloud, but doj's can the fir fields sat \n",
            "one that no had enter the \ting think upon the destand hen he the call \n",
            "into the \n",
            " \n",
            "\n",
            "\n"
          ]
        }
      ],
      "source": [
        "start_strings = [\" Th\", \" wh\", \" he\", \" I \", \" ca\", \" G\", \" lo\", \" ra\"]\n",
        "\n",
        "for i in range(10):\n",
        "    start = random.choice(start_strings)\n",
        "    print(start, ':\\n')\n",
        "    # all_characters.index(string[c])\n",
        "    print(evaluate(prime_str=start, predict_len=200, temperature=0.8), '\\n\\n')"
      ]
    },
    {
      "cell_type": "markdown",
      "metadata": {
        "id": "YJhgDc2IauPE"
      },
      "source": [
        "---\n",
        "\n",
        "## Part 6: Generate output on a different dataset\n",
        "\n",
        "---\n",
        "\n",
        "**TODO:**\n",
        "\n",
        "* Choose a textual dataset. Here are some [text datasets](https://www.kaggle.com/datasets?tags=14104-text+data%2C13205-text+mining) from Kaggle \n",
        "\n",
        "* Generate some decent looking results and evaluate your model's performance (say what it did well / not so well)\n",
        "\n",
        "**DONE:**\n",
        "* ✅ Chose text dataset: complete works of Jane Austen from Project Gutenberg\n",
        "* ✅ Generated results (for my analysis, see below)\n",
        "\n",
        "\n",
        "### Analysis\n",
        "With a hidden state size of 128, 3 layers, and a sequence length of 300, the model took just under 30 minutes to train for 3,000 iterations (of 300 characters each) on Google Colab's CPUs. I did not use the GPU since I didn't think there was much to parallelize because everything was sequential and processing a single character at a time.\n",
        "\n",
        "**What went well**\n",
        "\n",
        "The model achieved around 60% accuracy (measured on a character-by-character basis), which is great since it has only 309,364 parameters. [Andrej Karpathy recommends](https://github.com/karpathy/char-rnn#sampling) keeping parameter count on the same order of magnitude as the input data. Since the input data I used is ~4MB, I could probably support a model with at least a couple million parameters.\n",
        "\n",
        "**What could be improved?**\n",
        "\n",
        "The model could be more powerful, as I noted above. I would increase the hidden state size to probably 512 and perhaps add 1 or 2 additional layers to the network. I believe if I made those adjustments and perhaps included a way to parallelize the training process so it could run on the GPU, then with a long enough training period, the model could learn to replicate Ms. Austen's writing style quite well.\n",
        "\n",
        "**Other thoughts**\n",
        "\n",
        "Even with a brief training period and a relatively weak model, the network successfully produced text that has a similar feel to Jane Austen's writing.\n",
        "\n"
      ]
    },
    {
      "cell_type": "markdown",
      "metadata": {
        "id": "bLyXxKBa9CbD"
      },
      "source": [
        "### Collect text data: all of Jane Austen's books\n",
        "Source: [Project Gutenberg](https://www.gutenberg.org/ebooks/author/68)\n",
        "\n",
        "Books included:\n",
        "* [Pride and Prejudice](https://www.gutenberg.org/ebooks/1342)\n",
        "* [Emma](https://www.gutenberg.org/ebooks/158)\n",
        "* [Sense and Sensibility](https://www.gutenberg.org/ebooks/161)\n",
        "* [Persuasion](https://www.gutenberg.org/ebooks/105)\n",
        "* [Northanger Abbey](https://www.gutenberg.org/ebooks/121)\n",
        "* [Mansfield Park](https://www.gutenberg.org/ebooks/141)\n",
        "* [Lady Susan](https://www.gutenberg.org/ebooks/946)"
      ]
    },
    {
      "cell_type": "code",
      "execution_count": 111,
      "metadata": {
        "colab": {
          "base_uri": "https://localhost:8080/"
        },
        "id": "emGd0XKh4OlF",
        "outputId": "723d9534-8da2-4b92-d3d0-80815dd728fe"
      },
      "outputs": [
        {
          "name": "stdout",
          "output_type": "stream",
          "text": [
            "Total number of characters: 4,296,646\n"
          ]
        }
      ],
      "source": [
        "import re        # regular expressions, for extracting text from books\n",
        "import requests  # for accessing books from URLs\n",
        "import os        # for creating directory to store books\n",
        "\n",
        "book_names = [\n",
        "    'Pride and Prejudice',\n",
        "    'Emma',\n",
        "    'Sense and Sensibility',\n",
        "    'Persuasion',\n",
        "    'Northanger Abbey',\n",
        "    'Mansfield Park',\n",
        "    'Lady Susan'\n",
        "]\n",
        "\n",
        "book_urls = [\n",
        "    'https://www.gutenberg.org/files/1342/1342-0.txt',\n",
        "    'https://www.gutenberg.org/cache/epub/158/pg158.txt',\n",
        "    'https://www.gutenberg.org/files/161/161-0.txt',\n",
        "    'https://www.gutenberg.org/cache/epub/105/pg105.txt',\n",
        "    'https://www.gutenberg.org/files/121/121-0.txt',\n",
        "    'https://www.gutenberg.org/files/141/141-0.txt',\n",
        "    'https://www.gutenberg.org/cache/epub/946/pg946.txt'\n",
        "]\n",
        "\n",
        "# Create a folder to save the books in\n",
        "try:\n",
        "    os.mkdir(os.getcwd() + '/books/')\n",
        "except FileExistsError:\n",
        "    # folder exists, no need to create it\n",
        "    pass\n",
        "\n",
        "jane_austen_full_text = ''\n",
        "\n",
        "# Save books to a folder so they can be accessed later if needed\n",
        "# Also save the entire text in the jane_austen_full_text variable\n",
        "for num, url in enumerate(book_urls):\n",
        "    response = requests.get(url)\n",
        "    # Ensure the response text is properly formatted as utf-8\n",
        "    # See: https://stackoverflow.com/a/44203507/17005348\n",
        "    response.encoding = 'UTF-8'\n",
        "    book_text = response.text\n",
        "    book_title = book_names[num].replace(' ', '_')\n",
        "    with open(f'{os.getcwd()}/books/{book_title}.txt', mode='w+', encoding='utf-8') as book_file:\n",
        "        book_file.write(book_text)\n",
        "    \n",
        "    # Save the text to the jane_austen_full_text variable,\n",
        "    # removing the intro and end parts from Project Gutenberg\n",
        "    # which have this form: *** BEGIN BOOK *** or *** END OF BOOK ***\n",
        "    jane_austen_full_text += re.split(r'[*]{3}.*?[*]{3}', string=book_text)[1]\n",
        "\n",
        "print(f'Total number of characters: {len(jane_austen_full_text):,d}')"
      ]
    },
    {
      "cell_type": "markdown",
      "metadata": {
        "id": "zqDT0rtCGjNe"
      },
      "source": [
        "Reset data loading variables (`file` is particularly crucial)"
      ]
    },
    {
      "cell_type": "code",
      "execution_count": 125,
      "metadata": {
        "colab": {
          "base_uri": "https://localhost:8080/"
        },
        "id": "W2ufxGo7GiU7",
        "outputId": "96341f5d-1819-47a8-b22e-303d4c2d2d08"
      },
      "outputs": [
        {
          "name": "stdout",
          "output_type": "stream",
          "text": [
            "File length: 4,301,853 characters\n",
            "Original text length: 4,296,646 characters\n"
          ]
        }
      ],
      "source": [
        "import unidecode\n",
        "\n",
        "# string.printable returns a string of all printable ASCII characters\n",
        "all_characters = string.printable\n",
        "n_characters = len(all_characters)\n",
        "# unidecode.unidecode(text_string) converts Unicode to standard ASCII characters\n",
        "file = unidecode.unidecode(jane_austen_full_text)\n",
        "file_len = len(file)\n",
        "print(f'File length: {file_len:,d} characters')\n",
        "print(f'Original text length: {len(jane_austen_full_text):,d} characters')"
      ]
    },
    {
      "cell_type": "markdown",
      "metadata": {
        "id": "xWKBBqkqGmjG"
      },
      "source": [
        "### Train model"
      ]
    },
    {
      "cell_type": "code",
      "execution_count": 126,
      "metadata": {
        "id": "53AMymZlG9Ck"
      },
      "outputs": [],
      "source": [
        "from tqdm.notebook import tqdm\n",
        "n_iters = 3000\n",
        "chunk_len = 300\n",
        "print_every = 10\n",
        "plot_every = 100\n",
        "hidden_size = 128\n",
        "n_layers = 3\n",
        "lr = 0.001\n",
        " \n",
        "decoder = RNN(n_characters, hidden_size, n_characters, n_layers)\n",
        "decoder_optimizer = torch.optim.Adam(decoder.parameters(), lr=lr)\n",
        "criterion = nn.CrossEntropyLoss()"
      ]
    },
    {
      "cell_type": "code",
      "execution_count": 144,
      "metadata": {
        "colab": {
          "base_uri": "https://localhost:8080/"
        },
        "id": "ZJFhnocoUJ-m",
        "outputId": "dbb55b19-eced-4ef5-a8a0-afd864b69104"
      },
      "outputs": [
        {
          "name": "stdout",
          "output_type": "stream",
          "text": [
            "309,364 parameters\n"
          ]
        }
      ],
      "source": [
        "total_params = sum([layer.numel() for layer in decoder.parameters()])\n",
        "print(f'{total_params:,d} parameters')"
      ]
    },
    {
      "cell_type": "code",
      "execution_count": 127,
      "metadata": {
        "colab": {
          "base_uri": "https://localhost:8080/",
          "height": 49,
          "referenced_widgets": [
            "e67e783eaa554fc5827173f194196db5",
            "46136c5ea231490d85247baeeef7e6f5",
            "8ebb019c3ae1477db83da20b5bf344f7",
            "5a59c1c8481646798344d75bf4eb1b92",
            "8897a6029d9f4cbea26efee58848ef94",
            "7205f5866cc044b9af83a1242d71486d",
            "ff63a636d0584eeab51b1a4ac9b1f262",
            "e8fc85c96ce044c581a3063db3ea325c",
            "16bab95eebe04e7a8c0325ebc49fca14",
            "6c04c5cb90aa4477a4c5873f6ac1f2aa",
            "9dc83fa34a93458d9ce30c15e66077f9"
          ]
        },
        "id": "9AQv86VEHO4R",
        "outputId": "73983488-78a1-4d27-ae3f-67fd5b678f8c"
      },
      "outputs": [
        {
          "data": {
            "application/vnd.jupyter.widget-view+json": {
              "model_id": "e67e783eaa554fc5827173f194196db5",
              "version_major": 2,
              "version_minor": 0
            },
            "text/plain": [
              "  0%|          | 0/3000 [00:00<?, ?it/s]"
            ]
          },
          "metadata": {},
          "output_type": "display_data"
        }
      ],
      "source": [
        "plot_losses = []\n",
        "plot_accuracy = []\n",
        "\n",
        "input_list = []\n",
        "target_list = []\n",
        "prediction_list = []\n",
        "\n",
        "print_loss_total = 0\n",
        "plot_loss_total = 0\n",
        "\n",
        "progress_bar = tqdm(total=n_iters)\n",
        "progress_bar.set_description('Training progress')\n",
        "\n",
        "for iter in range(1, n_iters+1):\n",
        "    # Run training through a sequence of chunk_len characters\n",
        "    inp_tensor, target_tensor = random_training_set()\n",
        "    # Save output: total loss over the sequence, and predictions\n",
        "    loss_, guesses = train(inp_tensor, target_tensor)\n",
        "    \n",
        "    input_list.extend(list(inp_tensor))\n",
        "    target_list.extend(list(target_tensor))\n",
        "    prediction_list.extend(guesses)\n",
        "    \n",
        "    print_loss_total += loss_\n",
        "    plot_loss_total += loss_\n",
        "\n",
        "    # Print loss information\n",
        "    if iter % print_every == 0:\n",
        "        seq_length = print_every * chunk_len\n",
        "        print_loss_avg = print_loss_total / seq_length\n",
        "        # Find the average accuracy over the past sequence_length number of predictions\n",
        "        print_acc_avg = sum([prediction_list[i]==target_list[i] for i in range(-seq_length, 0)]) / (seq_length)\n",
        "        # Reset loss and accuracy sums\n",
        "        print_loss_total = 0\n",
        "        progress_bar.set_description(f'Training progress: loss={print_loss_avg:,.2f}, acc={print_acc_avg:,.2f}')\n",
        "    \n",
        "    # Save loss information for plotting\n",
        "    if iter % plot_every == 0:\n",
        "        seq_length = plot_every * chunk_len\n",
        "        plot_loss_avg = plot_loss_total / seq_length\n",
        "        plot_acc_avg = sum([prediction_list[i]==target_list[i] for i in range(-seq_length, 0)]) / (seq_length)\n",
        "        # Reset loss and accuracy sums\n",
        "        plot_loss_total = 0\n",
        "        plot_losses.append(plot_loss_avg)\n",
        "        plot_accuracy.append(plot_acc_avg)\n",
        "    \n",
        "    progress_bar.update(n=1)"
      ]
    },
    {
      "cell_type": "markdown",
      "metadata": {
        "id": "qsxV8zguGmae"
      },
      "source": [
        "### Plot model performance"
      ]
    },
    {
      "cell_type": "code",
      "execution_count": 128,
      "metadata": {
        "colab": {
          "base_uri": "https://localhost:8080/",
          "height": 441
        },
        "id": "EVnOKxrvGlnt",
        "outputId": "03523cc7-569d-4627-8008-56c725e7a580"
      },
      "outputs": [
        {
          "data": {
            "image/png": "[encoded data removed]",
            "text/plain": [
              "<Figure size 432x432 with 2 Axes>"
            ]
          },
          "metadata": {
            "needs_background": "light"
          },
          "output_type": "display_data"
        }
      ],
      "source": [
        "import matplotlib.pyplot as plt\n",
        "\n",
        "x = range(0, n_iters, plot_every)\n",
        "\n",
        "# for info on subplots, see: https://matplotlib.org/stable/api/_as_gen/matplotlib.pyplot.subplots.html\n",
        "# and: https://matplotlib.org/stable/gallery/subplots_axes_and_figures/shared_axis_demo.html\n",
        "fig, (ax1, ax2) = plt.subplots(nrows=2, ncols=1, sharex=True, figsize=(6, 6))\n",
        "ax1.plot(x, plot_losses)\n",
        "ax1.set_title('Loss')\n",
        "ax1.set_ylabel('Loss')\n",
        "\n",
        "ax2.plot(x, plot_accuracy)\n",
        "ax2.set_title('Prediction Accuracy')\n",
        "ax2.set_xlabel('Number of sequences')\n",
        "ax2.set_ylabel('Accuracy')\n",
        "plt.tight_layout()\n",
        "plt.show()"
      ]
    },
    {
      "cell_type": "markdown",
      "metadata": {
        "id": "flcJbcXNHVCe"
      },
      "source": [
        "### Evaluate model"
      ]
    },
    {
      "cell_type": "code",
      "execution_count": 147,
      "metadata": {
        "colab": {
          "base_uri": "https://localhost:8080/"
        },
        "id": "2tH54J6THbMF",
        "outputId": "c26118e9-6949-4212-8de8-a153af4e5ac4"
      },
      "outputs": [
        {
          "name": "stdout",
          "output_type": "stream",
          "text": [
            "Prime sequences: ['a horse and', 'o her.  She', 'r dispositi', 'ducement he', 'ing got\\r\\nre'] \n",
            "====================================================================\n",
            "\n",
            "a horse andintended to the evening the way to the\r\n",
            "      the particulity of the way of the party. The interest could be sure in\r\n",
            "      the fancy would be seemed prosably soon as the room.\r\n",
            "\r\n",
            "      This was be in \n",
            "\n",
            "\n",
            "o her.  Shehad been the other was a consurced that he had\r\n",
            "      all the particulary was particular of hope to the same could not engagement\r\n",
            "      that the will be to the attention state to be much to the sensi \n",
            "\n",
            "\n",
            "r dispositin of the other with the world that the hanks had very inconstant of the serious of her\n",
            "      pressed to the been her the things of her the saw her own\n",
            "      with a with your neither to be no most co \n",
            "\n",
            "\n",
            "ducement he to the last supered to her\n",
            "      to be being sentiment were the first indeed to see the handsome the\n",
            "lillings a produced the every can the propicing\n",
            "      conversation, and when the possible.  He  \n",
            "\n",
            "\n",
            "ing got\n",
            "relied she care to see the look of the family of his sisters, and the\n",
            "      the respect her so reserved her not the sight to her sister the house of the his own of the world, and it was so our into cou \n",
            "\n",
            "\n"
          ]
        }
      ],
      "source": [
        "# Generate 10-character priming sequences sampled from the text\n",
        "prime_len = 10\n",
        "start_locations = random.sample(range(len(file)-(prime_len+1)), k=5)\n",
        "prime_sequences = [file[sl:sl+prime_len+1] for sl in start_locations]\n",
        "\n",
        "print('Prime sequences: ', prime_sequences, '\\n', '='*30, '\\n', sep='')\n",
        "\n",
        "for start in prime_sequences:\n",
        "    print(evaluate(prime_str=start, predict_len=200, temperature=0.5), '\\n\\n')\n",
        "\n",
        "# Alternative implementation\n",
        "# for i in range(10):\n",
        "#     start = random.choice(prime_sequences)\n",
        "#     print(evaluate(prime_str=start, predict_len=200, temperature=0.5), '\\n\\n')"
      ]
    },
    {
      "cell_type": "markdown",
      "metadata": {
        "id": "r-GF59WyWdwc"
      },
      "source": [
        "A second evaluation, for fun :)"
      ]
    },
    {
      "cell_type": "code",
      "execution_count": 148,
      "metadata": {
        "colab": {
          "base_uri": "https://localhost:8080/"
        },
        "id": "jC7Gi94HWda7",
        "outputId": "9ad6184e-7790-4eaa-a00c-cbe54c37180b"
      },
      "outputs": [
        {
          "name": "stdout",
          "output_type": "stream",
          "text": [
            "Hello, Jane, how are you today? Which she was in\r\n",
            "present to be the soon for a taken from the probormed the since. The\r\n",
            "spread the should have in the most truth with her found the particated to be walk for\r\n",
            "she was the fine any being a confidence of the proper, but the sister to the child on the\r\n",
            "was the tried the confistant to all the found the room of the interious\r\n",
            "very thing was not the ouse one was the hangs which in the father lost had been only\r\n",
            "      the concersion of the single the satisfaction place of the sister to \n"
          ]
        }
      ],
      "source": [
        "print(evaluate(prime_str='Hello, Jane, how are you today? ', \n",
        "               predict_len=500, temperature=0.5))"
      ]
    },
    {
      "cell_type": "markdown",
      "metadata": {
        "id": "BKL2Bfig4PfC"
      },
      "source": [
        "**Another potential idea for training data:** my personal, daily journal from 2021, which has 847,514 characters."
      ]
    }
  ],
  "metadata": {
    "colab": {
      "collapsed_sections": [],
      "name": "CS474_lab6_RyanParker.ipynb",
      "provenance": [],
      "toc_visible": true
    },
    "kernelspec": {
      "display_name": "Python 3",
      "language": "python",
      "name": "python3"
    },
    "language_info": {
      "codemirror_mode": {
        "name": "ipython",
        "version": 3
      },
      "file_extension": ".py",
      "mimetype": "text/x-python",
      "name": "python",
      "nbconvert_exporter": "python",
      "pygments_lexer": "ipython3",
      "version": "3.7.1"
    },
    "pycharm": {
      "stem_cell": {
        "cell_type": "raw",
        "metadata": {
          "collapsed": false
        },
        "source": []
      }
    },
    "widgets": {
      "application/vnd.jupyter.widget-state+json": {
        "0cdf46998c4b46f2bedbbb812b816a43": {
          "model_module": "@jupyter-widgets/base",
          "model_module_version": "1.2.0",
          "model_name": "LayoutModel",
          "state": {
            "_model_module": "@jupyter-widgets/base",
            "_model_module_version": "1.2.0",
            "_model_name": "LayoutModel",
            "_view_count": null,
            "_view_module": "@jupyter-widgets/base",
            "_view_module_version": "1.2.0",
            "_view_name": "LayoutView",
            "align_content": null,
            "align_items": null,
            "align_self": null,
            "border": null,
            "bottom": null,
            "display": null,
            "flex": null,
            "flex_flow": null,
            "grid_area": null,
            "grid_auto_columns": null,
            "grid_auto_flow": null,
            "grid_auto_rows": null,
            "grid_column": null,
            "grid_gap": null,
            "grid_row": null,
            "grid_template_areas": null,
            "grid_template_columns": null,
            "grid_template_rows": null,
            "height": null,
            "justify_content": null,
            "justify_items": null,
            "left": null,
            "margin": null,
            "max_height": null,
            "max_width": null,
            "min_height": null,
            "min_width": null,
            "object_fit": null,
            "object_position": null,
            "order": null,
            "overflow": null,
            "overflow_x": null,
            "overflow_y": null,
            "padding": null,
            "right": null,
            "top": null,
            "visibility": null,
            "width": null
          }
        },
        "0df45daae7ad4daaab054bc639f796c0": {
          "model_module": "@jupyter-widgets/controls",
          "model_module_version": "1.5.0",
          "model_name": "FloatProgressModel",
          "state": {
            "_dom_classes": [],
            "_model_module": "@jupyter-widgets/controls",
            "_model_module_version": "1.5.0",
            "_model_name": "FloatProgressModel",
            "_view_count": null,
            "_view_module": "@jupyter-widgets/controls",
            "_view_module_version": "1.5.0",
            "_view_name": "ProgressView",
            "bar_style": "success",
            "description": "",
            "description_tooltip": null,
            "layout": "IPY_MODEL_edaddd973c354c668f2a7a7520738df6",
            "max": 2000,
            "min": 0,
            "orientation": "horizontal",
            "style": "IPY_MODEL_bf8fe007cdd545fba81be11b4e4da9f3",
            "value": 2000
          }
        },
        "16bab95eebe04e7a8c0325ebc49fca14": {
          "model_module": "@jupyter-widgets/base",
          "model_module_version": "1.2.0",
          "model_name": "LayoutModel",
          "state": {
            "_model_module": "@jupyter-widgets/base",
            "_model_module_version": "1.2.0",
            "_model_name": "LayoutModel",
            "_view_count": null,
            "_view_module": "@jupyter-widgets/base",
            "_view_module_version": "1.2.0",
            "_view_name": "LayoutView",
            "align_content": null,
            "align_items": null,
            "align_self": null,
            "border": null,
            "bottom": null,
            "display": null,
            "flex": null,
            "flex_flow": null,
            "grid_area": null,
            "grid_auto_columns": null,
            "grid_auto_flow": null,
            "grid_auto_rows": null,
            "grid_column": null,
            "grid_gap": null,
            "grid_row": null,
            "grid_template_areas": null,
            "grid_template_columns": null,
            "grid_template_rows": null,
            "height": null,
            "justify_content": null,
            "justify_items": null,
            "left": null,
            "margin": null,
            "max_height": null,
            "max_width": null,
            "min_height": null,
            "min_width": null,
            "object_fit": null,
            "object_position": null,
            "order": null,
            "overflow": null,
            "overflow_x": null,
            "overflow_y": null,
            "padding": null,
            "right": null,
            "top": null,
            "visibility": null,
            "width": null
          }
        },
        "17a4892a2a5644dc8bf90608b3eb0716": {
          "model_module": "@jupyter-widgets/base",
          "model_module_version": "1.2.0",
          "model_name": "LayoutModel",
          "state": {
            "_model_module": "@jupyter-widgets/base",
            "_model_module_version": "1.2.0",
            "_model_name": "LayoutModel",
            "_view_count": null,
            "_view_module": "@jupyter-widgets/base",
            "_view_module_version": "1.2.0",
            "_view_name": "LayoutView",
            "align_content": null,
            "align_items": null,
            "align_self": null,
            "border": null,
            "bottom": null,
            "display": null,
            "flex": null,
            "flex_flow": null,
            "grid_area": null,
            "grid_auto_columns": null,
            "grid_auto_flow": null,
            "grid_auto_rows": null,
            "grid_column": null,
            "grid_gap": null,
            "grid_row": null,
            "grid_template_areas": null,
            "grid_template_columns": null,
            "grid_template_rows": null,
            "height": null,
            "justify_content": null,
            "justify_items": null,
            "left": null,
            "margin": null,
            "max_height": null,
            "max_width": null,
            "min_height": null,
            "min_width": null,
            "object_fit": null,
            "object_position": null,
            "order": null,
            "overflow": null,
            "overflow_x": null,
            "overflow_y": null,
            "padding": null,
            "right": null,
            "top": null,
            "visibility": null,
            "width": null
          }
        },
        "2ef87b23b59d4b4ca126b70303928214": {
          "model_module": "@jupyter-widgets/controls",
          "model_module_version": "1.5.0",
          "model_name": "HBoxModel",
          "state": {
            "_dom_classes": [],
            "_model_module": "@jupyter-widgets/controls",
            "_model_module_version": "1.5.0",
            "_model_name": "HBoxModel",
            "_view_count": null,
            "_view_module": "@jupyter-widgets/controls",
            "_view_module_version": "1.5.0",
            "_view_name": "HBoxView",
            "box_style": "",
            "children": [
              "IPY_MODEL_fbbe44766e6744a28149189e44623f4a",
              "IPY_MODEL_0df45daae7ad4daaab054bc639f796c0",
              "IPY_MODEL_56a82614ebdf46eab7dc43ff6b688e41"
            ],
            "layout": "IPY_MODEL_0cdf46998c4b46f2bedbbb812b816a43"
          }
        },
        "3d2e7a7ed7f44efca28efe2c90f58f37": {
          "model_module": "@jupyter-widgets/base",
          "model_module_version": "1.2.0",
          "model_name": "LayoutModel",
          "state": {
            "_model_module": "@jupyter-widgets/base",
            "_model_module_version": "1.2.0",
            "_model_name": "LayoutModel",
            "_view_count": null,
            "_view_module": "@jupyter-widgets/base",
            "_view_module_version": "1.2.0",
            "_view_name": "LayoutView",
            "align_content": null,
            "align_items": null,
            "align_self": null,
            "border": null,
            "bottom": null,
            "display": null,
            "flex": null,
            "flex_flow": null,
            "grid_area": null,
            "grid_auto_columns": null,
            "grid_auto_flow": null,
            "grid_auto_rows": null,
            "grid_column": null,
            "grid_gap": null,
            "grid_row": null,
            "grid_template_areas": null,
            "grid_template_columns": null,
            "grid_template_rows": null,
            "height": null,
            "justify_content": null,
            "justify_items": null,
            "left": null,
            "margin": null,
            "max_height": null,
            "max_width": null,
            "min_height": null,
            "min_width": null,
            "object_fit": null,
            "object_position": null,
            "order": null,
            "overflow": null,
            "overflow_x": null,
            "overflow_y": null,
            "padding": null,
            "right": null,
            "top": null,
            "visibility": null,
            "width": null
          }
        },
        "3e335eba3bb5405288f4c74e6c33ecc2": {
          "model_module": "@jupyter-widgets/controls",
          "model_module_version": "1.5.0",
          "model_name": "FloatProgressModel",
          "state": {
            "_dom_classes": [],
            "_model_module": "@jupyter-widgets/controls",
            "_model_module_version": "1.5.0",
            "_model_name": "FloatProgressModel",
            "_view_count": null,
            "_view_module": "@jupyter-widgets/controls",
            "_view_module_version": "1.5.0",
            "_view_name": "ProgressView",
            "bar_style": "success",
            "description": "",
            "description_tooltip": null,
            "layout": "IPY_MODEL_6d6553c8ed684f39b0e0329cbe9a5a37",
            "max": 1000,
            "min": 0,
            "orientation": "horizontal",
            "style": "IPY_MODEL_fd9bb87550d1403a9e5dc3e69aca4245",
            "value": 1000
          }
        },
        "46136c5ea231490d85247baeeef7e6f5": {
          "model_module": "@jupyter-widgets/base",
          "model_module_version": "1.2.0",
          "model_name": "LayoutModel",
          "state": {
            "_model_module": "@jupyter-widgets/base",
            "_model_module_version": "1.2.0",
            "_model_name": "LayoutModel",
            "_view_count": null,
            "_view_module": "@jupyter-widgets/base",
            "_view_module_version": "1.2.0",
            "_view_name": "LayoutView",
            "align_content": null,
            "align_items": null,
            "align_self": null,
            "border": null,
            "bottom": null,
            "display": null,
            "flex": null,
            "flex_flow": null,
            "grid_area": null,
            "grid_auto_columns": null,
            "grid_auto_flow": null,
            "grid_auto_rows": null,
            "grid_column": null,
            "grid_gap": null,
            "grid_row": null,
            "grid_template_areas": null,
            "grid_template_columns": null,
            "grid_template_rows": null,
            "height": null,
            "justify_content": null,
            "justify_items": null,
            "left": null,
            "margin": null,
            "max_height": null,
            "max_width": null,
            "min_height": null,
            "min_width": null,
            "object_fit": null,
            "object_position": null,
            "order": null,
            "overflow": null,
            "overflow_x": null,
            "overflow_y": null,
            "padding": null,
            "right": null,
            "top": null,
            "visibility": null,
            "width": null
          }
        },
        "56a82614ebdf46eab7dc43ff6b688e41": {
          "model_module": "@jupyter-widgets/controls",
          "model_module_version": "1.5.0",
          "model_name": "HTMLModel",
          "state": {
            "_dom_classes": [],
            "_model_module": "@jupyter-widgets/controls",
            "_model_module_version": "1.5.0",
            "_model_name": "HTMLModel",
            "_view_count": null,
            "_view_module": "@jupyter-widgets/controls",
            "_view_module_version": "1.5.0",
            "_view_name": "HTMLView",
            "description": "",
            "description_tooltip": null,
            "layout": "IPY_MODEL_ef7c3c81f8594dd3a597f86b5fee127d",
            "placeholder": "​",
            "style": "IPY_MODEL_e9e933604de54e129befe09009f87d2d",
            "value": " 2000/2000 [1:19:14&lt;00:00,  2.33it/s]"
          }
        },
        "5a59c1c8481646798344d75bf4eb1b92": {
          "model_module": "@jupyter-widgets/controls",
          "model_module_version": "1.5.0",
          "model_name": "FloatProgressModel",
          "state": {
            "_dom_classes": [],
            "_model_module": "@jupyter-widgets/controls",
            "_model_module_version": "1.5.0",
            "_model_name": "FloatProgressModel",
            "_view_count": null,
            "_view_module": "@jupyter-widgets/controls",
            "_view_module_version": "1.5.0",
            "_view_name": "ProgressView",
            "bar_style": "",
            "description": "",
            "description_tooltip": null,
            "layout": "IPY_MODEL_16bab95eebe04e7a8c0325ebc49fca14",
            "max": 3000,
            "min": 0,
            "orientation": "horizontal",
            "style": "IPY_MODEL_e8fc85c96ce044c581a3063db3ea325c",
            "value": 3000
          }
        },
        "5c18658e37f642eca6f054dd246c3fa0": {
          "model_module": "@jupyter-widgets/controls",
          "model_module_version": "1.5.0",
          "model_name": "DescriptionStyleModel",
          "state": {
            "_model_module": "@jupyter-widgets/controls",
            "_model_module_version": "1.5.0",
            "_model_name": "DescriptionStyleModel",
            "_view_count": null,
            "_view_module": "@jupyter-widgets/base",
            "_view_module_version": "1.2.0",
            "_view_name": "StyleView",
            "description_width": ""
          }
        },
        "668aba69d30046beb1ed925e583b6be2": {
          "model_module": "@jupyter-widgets/controls",
          "model_module_version": "1.5.0",
          "model_name": "HBoxModel",
          "state": {
            "_dom_classes": [],
            "_model_module": "@jupyter-widgets/controls",
            "_model_module_version": "1.5.0",
            "_model_name": "HBoxModel",
            "_view_count": null,
            "_view_module": "@jupyter-widgets/controls",
            "_view_module_version": "1.5.0",
            "_view_name": "HBoxView",
            "box_style": "",
            "children": [
              "IPY_MODEL_a5997e9f00574065a2de4fd5caa9a5e2",
              "IPY_MODEL_3e335eba3bb5405288f4c74e6c33ecc2",
              "IPY_MODEL_c2c5130b6e344e9cac012fd883199310"
            ],
            "layout": "IPY_MODEL_a1d2fd60e1a04371a5fd1b4c4e1742ad"
          }
        },
        "6c04c5cb90aa4477a4c5873f6ac1f2aa": {
          "model_module": "@jupyter-widgets/controls",
          "model_module_version": "1.5.0",
          "model_name": "DescriptionStyleModel",
          "state": {
            "_model_module": "@jupyter-widgets/controls",
            "_model_module_version": "1.5.0",
            "_model_name": "DescriptionStyleModel",
            "_view_count": null,
            "_view_module": "@jupyter-widgets/base",
            "_view_module_version": "1.2.0",
            "_view_name": "StyleView",
            "description_width": ""
          }
        },
        "6d6553c8ed684f39b0e0329cbe9a5a37": {
          "model_module": "@jupyter-widgets/base",
          "model_module_version": "1.2.0",
          "model_name": "LayoutModel",
          "state": {
            "_model_module": "@jupyter-widgets/base",
            "_model_module_version": "1.2.0",
            "_model_name": "LayoutModel",
            "_view_count": null,
            "_view_module": "@jupyter-widgets/base",
            "_view_module_version": "1.2.0",
            "_view_name": "LayoutView",
            "align_content": null,
            "align_items": null,
            "align_self": null,
            "border": null,
            "bottom": null,
            "display": null,
            "flex": null,
            "flex_flow": null,
            "grid_area": null,
            "grid_auto_columns": null,
            "grid_auto_flow": null,
            "grid_auto_rows": null,
            "grid_column": null,
            "grid_gap": null,
            "grid_row": null,
            "grid_template_areas": null,
            "grid_template_columns": null,
            "grid_template_rows": null,
            "height": null,
            "justify_content": null,
            "justify_items": null,
            "left": null,
            "margin": null,
            "max_height": null,
            "max_width": null,
            "min_height": null,
            "min_width": null,
            "object_fit": null,
            "object_position": null,
            "order": null,
            "overflow": null,
            "overflow_x": null,
            "overflow_y": null,
            "padding": null,
            "right": null,
            "top": null,
            "visibility": null,
            "width": null
          }
        },
        "7205f5866cc044b9af83a1242d71486d": {
          "model_module": "@jupyter-widgets/controls",
          "model_module_version": "1.5.0",
          "model_name": "DescriptionStyleModel",
          "state": {
            "_model_module": "@jupyter-widgets/controls",
            "_model_module_version": "1.5.0",
            "_model_name": "DescriptionStyleModel",
            "_view_count": null,
            "_view_module": "@jupyter-widgets/base",
            "_view_module_version": "1.2.0",
            "_view_name": "StyleView",
            "description_width": ""
          }
        },
        "7a657de9ff484f679c93c3ed767515ed": {
          "model_module": "@jupyter-widgets/controls",
          "model_module_version": "1.5.0",
          "model_name": "DescriptionStyleModel",
          "state": {
            "_model_module": "@jupyter-widgets/controls",
            "_model_module_version": "1.5.0",
            "_model_name": "DescriptionStyleModel",
            "_view_count": null,
            "_view_module": "@jupyter-widgets/base",
            "_view_module_version": "1.2.0",
            "_view_name": "StyleView",
            "description_width": ""
          }
        },
        "8897a6029d9f4cbea26efee58848ef94": {
          "model_module": "@jupyter-widgets/controls",
          "model_module_version": "1.5.0",
          "model_name": "HTMLModel",
          "state": {
            "_dom_classes": [],
            "_model_module": "@jupyter-widgets/controls",
            "_model_module_version": "1.5.0",
            "_model_name": "HTMLModel",
            "_view_count": null,
            "_view_module": "@jupyter-widgets/controls",
            "_view_module_version": "1.5.0",
            "_view_name": "HTMLView",
            "description": "",
            "description_tooltip": null,
            "layout": "IPY_MODEL_9dc83fa34a93458d9ce30c15e66077f9",
            "placeholder": "​",
            "style": "IPY_MODEL_6c04c5cb90aa4477a4c5873f6ac1f2aa",
            "value": " 3000/3000 [28:30&lt;00:00,  1.06s/it]"
          }
        },
        "8ebb019c3ae1477db83da20b5bf344f7": {
          "model_module": "@jupyter-widgets/controls",
          "model_module_version": "1.5.0",
          "model_name": "HTMLModel",
          "state": {
            "_dom_classes": [],
            "_model_module": "@jupyter-widgets/controls",
            "_model_module_version": "1.5.0",
            "_model_name": "HTMLModel",
            "_view_count": null,
            "_view_module": "@jupyter-widgets/controls",
            "_view_module_version": "1.5.0",
            "_view_name": "HTMLView",
            "description": "",
            "description_tooltip": null,
            "layout": "IPY_MODEL_ff63a636d0584eeab51b1a4ac9b1f262",
            "placeholder": "​",
            "style": "IPY_MODEL_7205f5866cc044b9af83a1242d71486d",
            "value": "Training progress: loss=1.45, acc=0.58: 100%"
          }
        },
        "9dc83fa34a93458d9ce30c15e66077f9": {
          "model_module": "@jupyter-widgets/base",
          "model_module_version": "1.2.0",
          "model_name": "LayoutModel",
          "state": {
            "_model_module": "@jupyter-widgets/base",
            "_model_module_version": "1.2.0",
            "_model_name": "LayoutModel",
            "_view_count": null,
            "_view_module": "@jupyter-widgets/base",
            "_view_module_version": "1.2.0",
            "_view_name": "LayoutView",
            "align_content": null,
            "align_items": null,
            "align_self": null,
            "border": null,
            "bottom": null,
            "display": null,
            "flex": null,
            "flex_flow": null,
            "grid_area": null,
            "grid_auto_columns": null,
            "grid_auto_flow": null,
            "grid_auto_rows": null,
            "grid_column": null,
            "grid_gap": null,
            "grid_row": null,
            "grid_template_areas": null,
            "grid_template_columns": null,
            "grid_template_rows": null,
            "height": null,
            "justify_content": null,
            "justify_items": null,
            "left": null,
            "margin": null,
            "max_height": null,
            "max_width": null,
            "min_height": null,
            "min_width": null,
            "object_fit": null,
            "object_position": null,
            "order": null,
            "overflow": null,
            "overflow_x": null,
            "overflow_y": null,
            "padding": null,
            "right": null,
            "top": null,
            "visibility": null,
            "width": null
          }
        },
        "a1d2fd60e1a04371a5fd1b4c4e1742ad": {
          "model_module": "@jupyter-widgets/base",
          "model_module_version": "1.2.0",
          "model_name": "LayoutModel",
          "state": {
            "_model_module": "@jupyter-widgets/base",
            "_model_module_version": "1.2.0",
            "_model_name": "LayoutModel",
            "_view_count": null,
            "_view_module": "@jupyter-widgets/base",
            "_view_module_version": "1.2.0",
            "_view_name": "LayoutView",
            "align_content": null,
            "align_items": null,
            "align_self": null,
            "border": null,
            "bottom": null,
            "display": null,
            "flex": null,
            "flex_flow": null,
            "grid_area": null,
            "grid_auto_columns": null,
            "grid_auto_flow": null,
            "grid_auto_rows": null,
            "grid_column": null,
            "grid_gap": null,
            "grid_row": null,
            "grid_template_areas": null,
            "grid_template_columns": null,
            "grid_template_rows": null,
            "height": null,
            "justify_content": null,
            "justify_items": null,
            "left": null,
            "margin": null,
            "max_height": null,
            "max_width": null,
            "min_height": null,
            "min_width": null,
            "object_fit": null,
            "object_position": null,
            "order": null,
            "overflow": null,
            "overflow_x": null,
            "overflow_y": null,
            "padding": null,
            "right": null,
            "top": null,
            "visibility": null,
            "width": null
          }
        },
        "a5997e9f00574065a2de4fd5caa9a5e2": {
          "model_module": "@jupyter-widgets/controls",
          "model_module_version": "1.5.0",
          "model_name": "HTMLModel",
          "state": {
            "_dom_classes": [],
            "_model_module": "@jupyter-widgets/controls",
            "_model_module_version": "1.5.0",
            "_model_name": "HTMLModel",
            "_view_count": null,
            "_view_module": "@jupyter-widgets/controls",
            "_view_module_version": "1.5.0",
            "_view_name": "HTMLView",
            "description": "",
            "description_tooltip": null,
            "layout": "IPY_MODEL_3d2e7a7ed7f44efca28efe2c90f58f37",
            "placeholder": "​",
            "style": "IPY_MODEL_7a657de9ff484f679c93c3ed767515ed",
            "value": "Training progress: loss=3.36, acc=0.44: 100%"
          }
        },
        "aa26c828cb3646a3b7f3c41f00c9104f": {
          "model_module": "@jupyter-widgets/base",
          "model_module_version": "1.2.0",
          "model_name": "LayoutModel",
          "state": {
            "_model_module": "@jupyter-widgets/base",
            "_model_module_version": "1.2.0",
            "_model_name": "LayoutModel",
            "_view_count": null,
            "_view_module": "@jupyter-widgets/base",
            "_view_module_version": "1.2.0",
            "_view_name": "LayoutView",
            "align_content": null,
            "align_items": null,
            "align_self": null,
            "border": null,
            "bottom": null,
            "display": null,
            "flex": null,
            "flex_flow": null,
            "grid_area": null,
            "grid_auto_columns": null,
            "grid_auto_flow": null,
            "grid_auto_rows": null,
            "grid_column": null,
            "grid_gap": null,
            "grid_row": null,
            "grid_template_areas": null,
            "grid_template_columns": null,
            "grid_template_rows": null,
            "height": null,
            "justify_content": null,
            "justify_items": null,
            "left": null,
            "margin": null,
            "max_height": null,
            "max_width": null,
            "min_height": null,
            "min_width": null,
            "object_fit": null,
            "object_position": null,
            "order": null,
            "overflow": null,
            "overflow_x": null,
            "overflow_y": null,
            "padding": null,
            "right": null,
            "top": null,
            "visibility": null,
            "width": null
          }
        },
        "bf8fe007cdd545fba81be11b4e4da9f3": {
          "model_module": "@jupyter-widgets/controls",
          "model_module_version": "1.5.0",
          "model_name": "ProgressStyleModel",
          "state": {
            "_model_module": "@jupyter-widgets/controls",
            "_model_module_version": "1.5.0",
            "_model_name": "ProgressStyleModel",
            "_view_count": null,
            "_view_module": "@jupyter-widgets/base",
            "_view_module_version": "1.2.0",
            "_view_name": "StyleView",
            "bar_color": null,
            "description_width": ""
          }
        },
        "c2c5130b6e344e9cac012fd883199310": {
          "model_module": "@jupyter-widgets/controls",
          "model_module_version": "1.5.0",
          "model_name": "HTMLModel",
          "state": {
            "_dom_classes": [],
            "_model_module": "@jupyter-widgets/controls",
            "_model_module_version": "1.5.0",
            "_model_name": "HTMLModel",
            "_view_count": null,
            "_view_module": "@jupyter-widgets/controls",
            "_view_module_version": "1.5.0",
            "_view_name": "HTMLView",
            "description": "",
            "description_tooltip": null,
            "layout": "IPY_MODEL_17a4892a2a5644dc8bf90608b3eb0716",
            "placeholder": "​",
            "style": "IPY_MODEL_fb3fb73436a6462fa455287967ee3827",
            "value": " 1000/1000 [00:36&lt;00:00, 28.67it/s]"
          }
        },
        "e67e783eaa554fc5827173f194196db5": {
          "model_module": "@jupyter-widgets/controls",
          "model_module_version": "1.5.0",
          "model_name": "HBoxModel",
          "state": {
            "_dom_classes": [],
            "_model_module": "@jupyter-widgets/controls",
            "_model_module_version": "1.5.0",
            "_model_name": "HBoxModel",
            "_view_count": null,
            "_view_module": "@jupyter-widgets/controls",
            "_view_module_version": "1.5.0",
            "_view_name": "HBoxView",
            "box_style": "",
            "children": [
              "IPY_MODEL_8ebb019c3ae1477db83da20b5bf344f7",
              "IPY_MODEL_5a59c1c8481646798344d75bf4eb1b92",
              "IPY_MODEL_8897a6029d9f4cbea26efee58848ef94"
            ],
            "layout": "IPY_MODEL_46136c5ea231490d85247baeeef7e6f5"
          }
        },
        "e8fc85c96ce044c581a3063db3ea325c": {
          "model_module": "@jupyter-widgets/controls",
          "model_module_version": "1.5.0",
          "model_name": "ProgressStyleModel",
          "state": {
            "_model_module": "@jupyter-widgets/controls",
            "_model_module_version": "1.5.0",
            "_model_name": "ProgressStyleModel",
            "_view_count": null,
            "_view_module": "@jupyter-widgets/base",
            "_view_module_version": "1.2.0",
            "_view_name": "StyleView",
            "bar_color": null,
            "description_width": ""
          }
        },
        "e9e933604de54e129befe09009f87d2d": {
          "model_module": "@jupyter-widgets/controls",
          "model_module_version": "1.5.0",
          "model_name": "DescriptionStyleModel",
          "state": {
            "_model_module": "@jupyter-widgets/controls",
            "_model_module_version": "1.5.0",
            "_model_name": "DescriptionStyleModel",
            "_view_count": null,
            "_view_module": "@jupyter-widgets/base",
            "_view_module_version": "1.2.0",
            "_view_name": "StyleView",
            "description_width": ""
          }
        },
        "edaddd973c354c668f2a7a7520738df6": {
          "model_module": "@jupyter-widgets/base",
          "model_module_version": "1.2.0",
          "model_name": "LayoutModel",
          "state": {
            "_model_module": "@jupyter-widgets/base",
            "_model_module_version": "1.2.0",
            "_model_name": "LayoutModel",
            "_view_count": null,
            "_view_module": "@jupyter-widgets/base",
            "_view_module_version": "1.2.0",
            "_view_name": "LayoutView",
            "align_content": null,
            "align_items": null,
            "align_self": null,
            "border": null,
            "bottom": null,
            "display": null,
            "flex": null,
            "flex_flow": null,
            "grid_area": null,
            "grid_auto_columns": null,
            "grid_auto_flow": null,
            "grid_auto_rows": null,
            "grid_column": null,
            "grid_gap": null,
            "grid_row": null,
            "grid_template_areas": null,
            "grid_template_columns": null,
            "grid_template_rows": null,
            "height": null,
            "justify_content": null,
            "justify_items": null,
            "left": null,
            "margin": null,
            "max_height": null,
            "max_width": null,
            "min_height": null,
            "min_width": null,
            "object_fit": null,
            "object_position": null,
            "order": null,
            "overflow": null,
            "overflow_x": null,
            "overflow_y": null,
            "padding": null,
            "right": null,
            "top": null,
            "visibility": null,
            "width": null
          }
        },
        "ef7c3c81f8594dd3a597f86b5fee127d": {
          "model_module": "@jupyter-widgets/base",
          "model_module_version": "1.2.0",
          "model_name": "LayoutModel",
          "state": {
            "_model_module": "@jupyter-widgets/base",
            "_model_module_version": "1.2.0",
            "_model_name": "LayoutModel",
            "_view_count": null,
            "_view_module": "@jupyter-widgets/base",
            "_view_module_version": "1.2.0",
            "_view_name": "LayoutView",
            "align_content": null,
            "align_items": null,
            "align_self": null,
            "border": null,
            "bottom": null,
            "display": null,
            "flex": null,
            "flex_flow": null,
            "grid_area": null,
            "grid_auto_columns": null,
            "grid_auto_flow": null,
            "grid_auto_rows": null,
            "grid_column": null,
            "grid_gap": null,
            "grid_row": null,
            "grid_template_areas": null,
            "grid_template_columns": null,
            "grid_template_rows": null,
            "height": null,
            "justify_content": null,
            "justify_items": null,
            "left": null,
            "margin": null,
            "max_height": null,
            "max_width": null,
            "min_height": null,
            "min_width": null,
            "object_fit": null,
            "object_position": null,
            "order": null,
            "overflow": null,
            "overflow_x": null,
            "overflow_y": null,
            "padding": null,
            "right": null,
            "top": null,
            "visibility": null,
            "width": null
          }
        },
        "fb3fb73436a6462fa455287967ee3827": {
          "model_module": "@jupyter-widgets/controls",
          "model_module_version": "1.5.0",
          "model_name": "DescriptionStyleModel",
          "state": {
            "_model_module": "@jupyter-widgets/controls",
            "_model_module_version": "1.5.0",
            "_model_name": "DescriptionStyleModel",
            "_view_count": null,
            "_view_module": "@jupyter-widgets/base",
            "_view_module_version": "1.2.0",
            "_view_name": "StyleView",
            "description_width": ""
          }
        },
        "fbbe44766e6744a28149189e44623f4a": {
          "model_module": "@jupyter-widgets/controls",
          "model_module_version": "1.5.0",
          "model_name": "HTMLModel",
          "state": {
            "_dom_classes": [],
            "_model_module": "@jupyter-widgets/controls",
            "_model_module_version": "1.5.0",
            "_model_name": "HTMLModel",
            "_view_count": null,
            "_view_module": "@jupyter-widgets/controls",
            "_view_module_version": "1.5.0",
            "_view_name": "HTMLView",
            "description": "",
            "description_tooltip": null,
            "layout": "IPY_MODEL_aa26c828cb3646a3b7f3c41f00c9104f",
            "placeholder": "​",
            "style": "IPY_MODEL_5c18658e37f642eca6f054dd246c3fa0",
            "value": "Training progress: loss=1.78, acc=0.53: 100%"
          }
        },
        "fd9bb87550d1403a9e5dc3e69aca4245": {
          "model_module": "@jupyter-widgets/controls",
          "model_module_version": "1.5.0",
          "model_name": "ProgressStyleModel",
          "state": {
            "_model_module": "@jupyter-widgets/controls",
            "_model_module_version": "1.5.0",
            "_model_name": "ProgressStyleModel",
            "_view_count": null,
            "_view_module": "@jupyter-widgets/base",
            "_view_module_version": "1.2.0",
            "_view_name": "StyleView",
            "bar_color": null,
            "description_width": ""
          }
        },
        "ff63a636d0584eeab51b1a4ac9b1f262": {
          "model_module": "@jupyter-widgets/base",
          "model_module_version": "1.2.0",
          "model_name": "LayoutModel",
          "state": {
            "_model_module": "@jupyter-widgets/base",
            "_model_module_version": "1.2.0",
            "_model_name": "LayoutModel",
            "_view_count": null,
            "_view_module": "@jupyter-widgets/base",
            "_view_module_version": "1.2.0",
            "_view_name": "LayoutView",
            "align_content": null,
            "align_items": null,
            "align_self": null,
            "border": null,
            "bottom": null,
            "display": null,
            "flex": null,
            "flex_flow": null,
            "grid_area": null,
            "grid_auto_columns": null,
            "grid_auto_flow": null,
            "grid_auto_rows": null,
            "grid_column": null,
            "grid_gap": null,
            "grid_row": null,
            "grid_template_areas": null,
            "grid_template_columns": null,
            "grid_template_rows": null,
            "height": null,
            "justify_content": null,
            "justify_items": null,
            "left": null,
            "margin": null,
            "max_height": null,
            "max_width": null,
            "min_height": null,
            "min_width": null,
            "object_fit": null,
            "object_position": null,
            "order": null,
            "overflow": null,
            "overflow_x": null,
            "overflow_y": null,
            "padding": null,
            "right": null,
            "top": null,
            "visibility": null,
            "width": null
          }
        }
      }
    }
  },
  "nbformat": 4,
  "nbformat_minor": 0
}
