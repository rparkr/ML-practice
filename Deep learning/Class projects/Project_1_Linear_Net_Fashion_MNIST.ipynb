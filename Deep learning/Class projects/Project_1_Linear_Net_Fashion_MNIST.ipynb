{
  "cells": [
    {
      "cell_type": "markdown",
      "metadata": {
        "id": "view-in-github"
      },
      "source": [
        "# Lab 2: Intro to PyTorch\n",
        "\n",
        "## Deliverable\n",
        "\n",
        "For this lab, you will submit an IPython notebook via Learning Suite.\n",
        "This lab will be mostly boilerplate code, but you will be required to implement a few extras.\n",
        "\n",
        "**NOTE: you almost certainly will not understand most of what's going on in this lab!\n",
        "That's ok - the point is just to get you going with PyTorch.\n",
        "We'll be working on developing a deeper understanding of every part of this code\n",
        "over the course of the next two weeks.**\n",
        "\n",
        "A major goal of this lab is to help you become conversant in working through PyTorch\n",
        "tutorials and documentation.\n",
        "You should turn to the documentation first, but you may google whatever you need, as there are many great PyTorch tutorials online.\n",
        "\n",
        "This notebook will have four parts:\n",
        "\n",
        "* Part 1: Your notebook should contain the boilerplate code. See below.\n",
        "\n",
        "* Part 2: Your notebook should contain a testing loop.\n",
        "\n",
        "* Part 3: Your notebook should contain a visualization of test/training performance over time.\n",
        "\n",
        "The resulting image could, for example, look like this:\n",
        "![example image](http://liftothers.org/dokuwiki/lib/exe/fetch.php?cache=&w=900&h=608&tok=3092fe&media=cs501r_f2018:lab2.png)\n",
        "\n",
        "* Part 4: Your notebook should contain the completed microtasks and pass all the asserts.\n",
        "\n",
        "See the assigned readings for pointers to documentation on PyTorch.\n",
        "___\n",
        "\n",
        "### Grading standards:\n",
        "Your notebook will be graded on the following:\n",
        "\n",
        "* 40% Successfully followed lab video and typed in code\n",
        "* 20% Modified code to include a test/train split\n",
        "* 20% Modified code to include a visualization of train/test losses\n",
        "* 10% Tidy and legible figures, including labeled axes where appropriate\n",
        "* 10% Correct solutions to the microtasks\n",
        "___\n",
        "\n",
        "### Description\n",
        "Throughout this class, we will be using PyTorch to implement our deep neural networks. \n",
        "PyTorch is a deep learning framework that handles the low-level details of \n",
        "GPU integration and automatic differentiation.\n",
        "\n",
        "The goal of this lab is to help you become familiar with PyTorch. \n",
        "The four parts of the lab are outlined above.\n",
        "\n",
        "For part 1, you should watch the video below, and type in the code as it is explained to you.\n",
        "\n",
        "A more detailed outline of Part 1 is below.\n",
        "\n",
        "For part 2, you must add a validation (or testing) loop using the \n",
        "FashionMNIST dataset with train=False\n",
        "\n",
        "For part 3, you must plot the loss values.\n",
        "\n",
        "For part 4, you must complete the microtasks and pass all asserts.\n",
        "\n",
        "Optional: Demonstrate overfitting on the training data.\n",
        "\n",
        "The easiest way to do this is to limit the size of your training dataset \n",
        "so that it only returns a single batch (i.e. len(dataloader) == batch_size, \n",
        "and train for multiple epochs. For example,\n",
        "I set my batch size to 42, and augmented my dataloader to produce only 42 \n",
        "unique items by overwriting the len function to return 42. \n",
        "In my training loop, I performed a validation every epoch which basically corresponded \n",
        "to a validation every step.\n",
        "\n",
        "In practice, you will normally compute your validation loss every n steps, \n",
        "rather than at the end of every epoch. This is because some epochs can take hours, \n",
        "or even days and you don’t often want to wait that long to see your results.\n",
        "\n",
        "Testing your algorithm by using a single batch and training until overfitting \n",
        "is a great way of making sure that your model and optimizer are working the way they should!\n",
        "\n",
        "___\n",
        "\n",
        "### Part 0\n",
        "Watch Tutorial Video\n",
        "\n",
        "[https://youtu.be/E76hLX9WCLE](https://youtu.be/E76hLX9WCLE)\n",
        "\n",
        "**TODO:**\n",
        "\n",
        "**DONE:**\n",
        "* ✔ Watch Tutorial Video\n",
        "\n",
        "### Part 1\n",
        "Your notebook should contain the boilerplate code. See below.\n",
        "\n",
        "**TODO:**\n",
        "\n",
        "**DONE:**\n",
        "* ✔ Replicate boilerplate from the video\n",
        "\n",
        "___\n",
        "\n",
        "### Part 2\n",
        "Your notebook should contain a testing (validation) loop.\n",
        "\n",
        "**TODO:**\n",
        "\n",
        "**DONE:**\n",
        "* ✔ Add a testing (validation) loop"
      ]
    },
    {
      "cell_type": "code",
      "execution_count": 23,
      "metadata": {
        "colab": {
          "base_uri": "https://localhost:8080/"
        },
        "id": "QClXc9i7VRyA",
        "outputId": "98d3eab8-0759-4720-e8ef-0b5f4bd882b6",
        "pycharm": {
          "is_executing": false
        }
      },
      "outputs": [
        {
          "name": "stdout",
          "output_type": "stream",
          "text": [
            "Requirement already satisfied: torch in /usr/local/lib/python3.7/dist-packages (1.10.0+cu111)\n",
            "Requirement already satisfied: typing-extensions in /usr/local/lib/python3.7/dist-packages (from torch) (3.10.0.2)\n",
            "Requirement already satisfied: torchvision in /usr/local/lib/python3.7/dist-packages (0.11.1+cu111)\n",
            "Requirement already satisfied: pillow!=8.3.0,>=5.3.0 in /usr/local/lib/python3.7/dist-packages (from torchvision) (7.1.2)\n",
            "Requirement already satisfied: numpy in /usr/local/lib/python3.7/dist-packages (from torchvision) (1.19.5)\n",
            "Requirement already satisfied: torch==1.10.0 in /usr/local/lib/python3.7/dist-packages (from torchvision) (1.10.0+cu111)\n",
            "Requirement already satisfied: typing-extensions in /usr/local/lib/python3.7/dist-packages (from torch==1.10.0->torchvision) (3.10.0.2)\n",
            "Requirement already satisfied: tqdm in /usr/local/lib/python3.7/dist-packages (4.62.3)\n"
          ]
        }
      ],
      "source": [
        "!pip install torch \n",
        "!pip install torchvision\n",
        "!pip install tqdm"
      ]
    },
    {
      "cell_type": "markdown",
      "metadata": {
        "id": "jDxkBvA0H22n"
      },
      "source": [
        "# Note to TAs\n",
        "To help me process and understand the video so I can best retain the information (and use it for reference later), I included a _ton_ of comments in my code below. \n",
        "\n",
        "I recognize that so many comments reduces simplicity in readability; thanks for your understanding."
      ]
    },
    {
      "cell_type": "code",
      "execution_count": 24,
      "metadata": {
        "colab": {
          "base_uri": "https://localhost:8080/"
        },
        "id": "OU80yuvqVXwk",
        "outputId": "b4b12990-b81f-4b9d-ab12-bad1bbeec5a5",
        "pycharm": {
          "is_executing": false
        }
      },
      "outputs": [
        {
          "name": "stderr",
          "output_type": "stream",
          "text": [
            "epoch: 99, batch: 1199, loss: 0.6827, val_loss: 0.6596:   0%|          | 0/120000 [18:12<?, ?it/s]\n"
          ]
        }
      ],
      "source": [
        "# ===============================================\n",
        "# Write the boilerplate code from the video here\n",
        "# ===============================================\n",
        "\n",
        "import torch\n",
        "import torch.nn as nn\n",
        "import torch.nn.functional as F\n",
        "import torch.optim as optim\n",
        "# See: https://pytorch.org/tutorials/beginner/basics/data_tutorial.html\n",
        "from torch.utils.data import Dataset, DataLoader\n",
        "import numpy as np\n",
        "import matplotlib.pyplot as plt\n",
        "from torchvision import transforms, utils, datasets\n",
        "# tqdm creates a progress bar. See: https://github.com/tqdm/tqdm#readme\n",
        "# See also: https://tqdm.github.io/\n",
        "from tqdm import tqdm\n",
        "\n",
        "# You need to request a GPU from Runtime > Change Runtime Type\n",
        "assert torch.cuda.is_available()\n",
        "\n",
        "# ===============================================\n",
        "# Extend the torch.Module class to create your own neural network\n",
        "# ===============================================\n",
        "\n",
        "# See: https://pytorch.org/docs/stable/notes/extending.html#extending-torch-nn\n",
        "# Create the neural network model, which holds parameters and gradients\n",
        "# In PyTorch, all models inherit from the torch.nn.Module class\n",
        "class LinearNetwork(nn.Module):\n",
        "    def __init__(self, dataset):\n",
        "        # Call the superclass, to get parameters from the class that this belongs to\n",
        "        super(LinearNetwork, self).__init__()\n",
        "        x, y = dataset[0]\n",
        "        # Since we're working with images, call the torch function .size() to get the dimensions\n",
        "        channels, height, width = x.size()\n",
        "        # There are 10 possible classes this network predicts\n",
        "        out_dimensions = 10\n",
        "\n",
        "        # Create the network. nn.Sequential() is a class that can hold all \n",
        "        # other modules within it, in a hierarchy. It cascades methods down\n",
        "        # such that the output of one becomes the input to the next.\n",
        "        # nn.Linear is a fully-connected layer.\n",
        "        # The first argument for each layer is the number of inputs.\n",
        "        # The second argument for each layer is the number of outputs.\n",
        "        # The output number for one layer should be the same as the input number\n",
        "        # for the layer that follows it.\n",
        "        output_number = 1000\n",
        "        input_number = output_number\n",
        "        self.net = nn.Sequential(\n",
        "            nn.Linear(channels * height * width, output_number), \n",
        "            nn.ReLU(),\n",
        "            nn.Linear(input_number, out_dimensions)\n",
        "        )\n",
        "\n",
        "    # Pass data forward through the network, as a batch\n",
        "    def forward(self, x):\n",
        "        batch_num, channels, height, width = x.size()\n",
        "        # Flatten data into a 2-dimensional matrix so it can be passed\n",
        "        # through the Linear layers (comes in as a 4-D matrix, because of batch count)\n",
        "        flattened = x.view(batch_num, channels * height * width)\n",
        "        return self.net(flattened)\n",
        "\n",
        "    # DON'T OVERWRITE THE backward() FUNCTION -- it calculates the gradient\n",
        "\n",
        "# ===============================================\n",
        "# Create a dataset class that extends the torch.utils.data Dataset class here\n",
        "# ===============================================\n",
        "\n",
        "# See: https://pytorch.org/tutorials/beginner/basics/data_tutorial.html\n",
        "# Create a dataset loader, inheriting from the torch.utils.data.Dataset class\n",
        "class FashionMNISTProcessedDataset(Dataset):\n",
        "    # root is the directory to save in\n",
        "    def __init__(self, root, train=True):\n",
        "        # See: https://pytorch.org/vision/stable/datasets.html#fashion-mnist\n",
        "        self.data = datasets.FashionMNIST(\n",
        "            root,\n",
        "            train=True,\n",
        "            transform = transforms.ToTensor(),\n",
        "            download=True)\n",
        "    \n",
        "    def __getitem__(self, i):\n",
        "        x, y = self.data[i]\n",
        "        return x, y\n",
        "\n",
        "    def __len__(self):\n",
        "        return len(self.data)\n",
        "\n",
        "# ===============================================\n",
        "# Instantiate the train and validation datasets\n",
        "# ===============================================\n",
        "train_dataset = FashionMNISTProcessedDataset(root='/tmp/fashionmnist', train=True)\n",
        "val_dataset = FashionMNISTProcessedDataset(root='/tmp/fashionmnist', train=False)\n",
        "\n",
        "# ===============================================\n",
        "# Instantiate your data loaders\n",
        "# Create batches from the training and validation datasets\n",
        "# ===============================================\n",
        "train_loader = DataLoader(train_dataset, batch_size=50, pin_memory=True)\n",
        "validation_loader = DataLoader(val_dataset, batch_size=50)\n",
        "\n",
        "# ===============================================\n",
        "# Instantiate your model, loss, and optimizer functions\n",
        "# ===============================================\n",
        "model = LinearNetwork(train_dataset)\n",
        "model = model.cuda()\n",
        "# Set cost (loss) function to Cross Entropy Loss\n",
        "objective = torch.nn.CrossEntropyLoss()\n",
        "# The optimizer minimizes the cost function\n",
        "optimizer = optim.SGD(params=model.parameters(), lr=1e-4)\n",
        "\n",
        "\n",
        "# ===============================================\n",
        "# Run your training / validation loops\n",
        "# ===============================================\n",
        "\n",
        "# An epoch ends when all batches of training data have been processed\n",
        "num_epochs = 100\n",
        "loop = tqdm(total=len(train_loader) * num_epochs, position=0)\n",
        "\n",
        "# Initialize variables for validation\n",
        "train_losses = []\n",
        "validation_losses = []\n",
        "counter = 0\n",
        "\n",
        "# Training loop\n",
        "for epoch in range(num_epochs):\n",
        "    batch = 0\n",
        "    for x, y_truth in train_loader:\n",
        "        # load tensors on GPU (non_blocking=True means \"don't wait until all data has moved from CPU to GPU\")\n",
        "        x, y_truth = x.cuda(non_blocking=True), y_truth.cuda(non_blocking=True)\n",
        "        # Clear the optimizer gradient so it can be updated\n",
        "        optimizer.zero_grad()\n",
        "        # Predicted values are y_hat\n",
        "        y_hat = model(x)\n",
        "        # Determine the loss\n",
        "        loss = objective(y_hat, y_truth)\n",
        "\n",
        "        # Validate every on the first batch every 5 epochs\n",
        "        if (epoch % 5 == 0) and batch == 0:\n",
        "            train_losses.append(loss.item())\n",
        "            validation_loss_list = []\n",
        "            # Validation loop (same as training loop, but w/ validation data)\n",
        "            for val_x, val_y_truth in validation_loader:\n",
        "                val_x, val_y_truth = val_x.cuda(non_blocking=True), val_y_truth.cuda(non_blocking=True)\n",
        "                val_y_hat = model(val_x)\n",
        "                validation_loss_list.append(objective(val_y_hat, val_y_truth).item())\n",
        "            # Save the average of the loss\n",
        "            validation_losses.append(sum(validation_loss_list) / float(len(validation_loss_list)))\n",
        "        loop.set_description(f'epoch: {epoch}'\n",
        "                            f', batch: {batch:d}'\n",
        "                            f', loss: {loss.item():.4f}'\n",
        "                            f', val_loss: {validation_losses[-1]:.4f}')\n",
        "        # Compute the gradient on each level of the model (network)\n",
        "        loss.backward()\n",
        "\n",
        "        # Take a step to decrease the cost (loss) function\n",
        "        optimizer.step()\n",
        "        batch += 1\n",
        "\n",
        "# End training, hide output display\n",
        "loop.close()"
      ]
    },
    {
      "cell_type": "code",
      "execution_count": 29,
      "metadata": {
        "colab": {
          "base_uri": "https://localhost:8080/"
        },
        "id": "UgjxN5aDZ9sD",
        "outputId": "f45ba124-9be5-416d-a86a-26eb7bf6af18"
      },
      "outputs": [
        {
          "name": "stdout",
          "output_type": "stream",
          "text": [
            "Total parameters: 795,010\n"
          ]
        }
      ],
      "source": [
        "# View the number of parameters\n",
        "# torch.numel = number of elements\n",
        "num_params = sum([torch.numel(layer) for layer in model.parameters()])\n",
        "print(f'Total parameters: {num_params:,d}')"
      ]
    },
    {
      "cell_type": "markdown",
      "metadata": {
        "id": "_IZmHOvirnFn"
      },
      "source": [
        "\n",
        "___\n",
        "\n",
        "### Part 3\n",
        "Your notebook should contain a visualization of test/training\n",
        "performance over time. Use matplotlib.pyplot, and label the graph's axes.\n",
        "\n",
        "**TODO:**\n",
        "\n",
        "**DONE:**\n",
        "* Add a visualization of test/train performance (i.e. loss) over time."
      ]
    },
    {
      "cell_type": "code",
      "execution_count": null,
      "metadata": {
        "id": "2NKHvRKQWaFZ"
      },
      "outputs": [],
      "source": [
        "# View the list of losses calculated every 5 epochs\n",
        "train_losses"
      ]
    },
    {
      "cell_type": "code",
      "execution_count": 31,
      "metadata": {
        "colab": {
          "base_uri": "https://localhost:8080/",
          "height": 295
        },
        "id": "YqYrbI5-WHb3",
        "outputId": "6c707328-80eb-4cbe-8ba3-c1e018d462fd",
        "pycharm": {
          "is_executing": false
        }
      },
      "outputs": [
        {
          "data": {
            "image/png": "[encoded data removed]",
            "text/plain": [
              "<Figure size 432x288 with 1 Axes>"
            ]
          },
          "metadata": {
            "needs_background": "light"
          },
          "output_type": "display_data"
        }
      ],
      "source": [
        "# Write your code to create a plot of your loss over time\n",
        "fig = plt.figure()\n",
        "ax = fig.add_subplot(111)\n",
        "epoch_count = [5 * item for item in range(len(validation_losses))]\n",
        "ax.plot(epoch_count, validation_losses, label='Validation Loss', c='darkred')\n",
        "ax.plot(epoch_count, train_losses, label='Training Loss', c='royalblue')\n",
        "plt.legend()\n",
        "plt.xlabel('Epoch')\n",
        "plt.ylabel('Loss')\n",
        "plt.title('Model performance over time: training and validation')\n",
        "plt.show()"
      ]
    },
    {
      "cell_type": "markdown",
      "metadata": {
        "id": "0wW4QNYG4LE2"
      },
      "source": [
        "\n",
        "___\n",
        "\n",
        "### Part 4\n",
        "Complete the following microtasks to learn some important PyTorch skills.\n",
        "\n",
        "If you do not know how to complete one of the microtasks, use [PyTorch's documentation](https://pytorch.org/docs/stable/index.html)! PyTorch is very well documented, and you will need to learn how to use the documentation, especially in later labs.\n",
        "\n",
        "**TODO:**\n",
        "\n",
        "**DONE:**\n",
        "* Complete microtasks"
      ]
    },
    {
      "cell_type": "markdown",
      "metadata": {
        "id": "gEMHUksuCYh6"
      },
      "source": [
        "### Computation Graph Microtasks"
      ]
    },
    {
      "cell_type": "code",
      "execution_count": 32,
      "metadata": {
        "colab": {
          "base_uri": "https://localhost:8080/"
        },
        "id": "m8jriPb-CYh8",
        "outputId": "39617bcc-df7c-4fe3-9c90-462a32aa2972"
      },
      "outputs": [
        {
          "name": "stdout",
          "output_type": "stream",
          "text": [
            "tensor([0.8713, 0.0704, 0.3029, 0.9503, 0.5776, 0.2419, 0.5028, 0.9189, 0.9371,\n",
            "        0.0245])\n"
          ]
        }
      ],
      "source": [
        "# To understand how PyTorch organizes the computation graph, let's walk through \n",
        "# a quick example!\n",
        "\n",
        "# 1. First, construct a tensor 'a' that contains 10 random floats. \n",
        "# This will simulate the output layer of a network. Hint: use `torch.rand`.\n",
        "a = torch.rand(10)\n",
        "print(a)\n",
        "assert a.size() == torch.Size([10])"
      ]
    },
    {
      "cell_type": "code",
      "execution_count": 33,
      "metadata": {
        "colab": {
          "base_uri": "https://localhost:8080/"
        },
        "id": "jsODlPlICYh-",
        "outputId": "cc68155f-9e86-4ff1-c37d-d35a436ccb0c"
      },
      "outputs": [
        {
          "name": "stdout",
          "output_type": "stream",
          "text": [
            "Parameter containing:\n",
            "tensor([0.8713, 0.0704, 0.3029, 0.9503, 0.5776, 0.2419, 0.5028, 0.9189, 0.9371,\n",
            "        0.0245], requires_grad=True)\n"
          ]
        }
      ],
      "source": [
        "# 2. Now turn 'a' into an `nn.Parameter` so that it be attached to the computation\n",
        "# graph.\n",
        "\n",
        "a = nn.Parameter(data=a)\n",
        "print(a)\n",
        "assert type(a) == nn.Parameter\n",
        "\n",
        "# Notice that our original tensor 'a' is nested inside of a Parameter object.\n",
        "# The Parameter object knows that it will need to compute gradients at some point.\n",
        "\n",
        "# No need to do anything here, but this assert should pass.\n",
        "assert a.requires_grad == True"
      ]
    },
    {
      "cell_type": "code",
      "execution_count": 35,
      "metadata": {
        "colab": {
          "base_uri": "https://localhost:8080/"
        },
        "id": "9pWBd2pGCYiB",
        "outputId": "b5736456-d63c-48c5-8f43-b906d651fd25"
      },
      "outputs": [
        {
          "name": "stdout",
          "output_type": "stream",
          "text": [
            "tensor(1.9823, grad_fn=<NllLossBackward0>)\n",
            "tensor([ 0.1313,  0.0590,  0.0744,  0.1421,  0.0979,  0.0700,  0.0909, -0.8622,\n",
            "         0.1403,  0.0563])\n"
          ]
        }
      ],
      "source": [
        "# 3. Let's run 'a' through a loss function. The output of the loss function is\n",
        "# just another tensor, but this tensor remembers what operations produced it.\n",
        "loss_fn = nn.CrossEntropyLoss()\n",
        "loss = loss_fn(a.unsqueeze(0), torch.Tensor([7]).long())\n",
        "print(loss)\n",
        "\n",
        "# Now, instruct the network to do a backward pass, by calling '.backward()' on the \n",
        "# result of the loss function. We should now be able to see the gradients that \n",
        "# were computed for 'a' w.r.t. the loss.\n",
        "loss.backward()\n",
        "assert a.grad is not None\n",
        "print(a.grad)"
      ]
    },
    {
      "cell_type": "code",
      "execution_count": 36,
      "metadata": {
        "colab": {
          "base_uri": "https://localhost:8080/"
        },
        "id": "oWVzQMPnCYiC",
        "outputId": "5e0717d9-dd3b-4cb2-c098-b3fa198272ed"
      },
      "outputs": [
        {
          "name": "stdout",
          "output_type": "stream",
          "text": [
            "Parameter containing:\n",
            "tensor([0.8713, 0.0704, 0.3029, 0.9503, 0.5776, 0.2419, 0.5028, 0.9189, 0.9371,\n",
            "        0.0245], requires_grad=True)\n",
            "tensor([0.8713, 0.0704, 0.3029, 0.9503, 0.5776, 0.2419, 0.5028, 0.9189, 0.9371,\n",
            "        0.0245])\n"
          ]
        }
      ],
      "source": [
        "# 4. If we were to use 'a' in another operation, this might affect the computation graph.\n",
        "# To make sure that you are not adversly affecting the computation graph, call\n",
        "# `.detach()` on 'a' and assign the result to a new variable 'b'.\n",
        "b = a.detach()\n",
        "print(a)\n",
        "print(b)\n",
        "assert a.requires_grad == True\n",
        "assert b.requires_grad == False"
      ]
    }
  ],
  "metadata": {
    "accelerator": "GPU",
    "colab": {
      "collapsed_sections": [],
      "name": "CS474_lab2_RyanParker.ipynb",
      "provenance": [],
      "toc_visible": true
    },
    "kernelspec": {
      "display_name": "Python 3",
      "language": "python",
      "name": "python3"
    },
    "language_info": {
      "codemirror_mode": {
        "name": "ipython",
        "version": 3
      },
      "file_extension": ".py",
      "mimetype": "text/x-python",
      "name": "python",
      "nbconvert_exporter": "python",
      "pygments_lexer": "ipython3",
      "version": "3.7.1"
    },
    "pycharm": {
      "stem_cell": {
        "cell_type": "raw",
        "metadata": {
          "collapsed": false
        },
        "source": []
      }
    }
  },
  "nbformat": 4,
  "nbformat_minor": 0
}
